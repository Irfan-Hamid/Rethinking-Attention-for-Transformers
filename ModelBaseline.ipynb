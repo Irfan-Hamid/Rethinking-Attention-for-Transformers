{
  "nbformat": 4,
  "nbformat_minor": 0,
  "metadata": {
    "colab": {
      "provenance": [],
      "machine_shape": "hm",
      "gpuType": "A100"
    },
    "kernelspec": {
      "name": "python3",
      "display_name": "Python 3"
    },
    "language_info": {
      "name": "python"
    },
    "accelerator": "GPU",
    "widgets": {
      "application/vnd.jupyter.widget-state+json": {
        "c781934736494d2a8c84ac32f0e07402": {
          "model_module": "@jupyter-widgets/controls",
          "model_name": "HBoxModel",
          "model_module_version": "1.5.0",
          "state": {
            "_dom_classes": [],
            "_model_module": "@jupyter-widgets/controls",
            "_model_module_version": "1.5.0",
            "_model_name": "HBoxModel",
            "_view_count": null,
            "_view_module": "@jupyter-widgets/controls",
            "_view_module_version": "1.5.0",
            "_view_name": "HBoxView",
            "box_style": "",
            "children": [
              "IPY_MODEL_24a3a88ed1004b8591007395debf42d1",
              "IPY_MODEL_8ce2ac1cac114db39a8631d706f013dc",
              "IPY_MODEL_0ca957a7d10745c2923797bd9a88a182"
            ],
            "layout": "IPY_MODEL_b07094f4131f42a49cd363ada1ee49cb"
          }
        },
        "24a3a88ed1004b8591007395debf42d1": {
          "model_module": "@jupyter-widgets/controls",
          "model_name": "HTMLModel",
          "model_module_version": "1.5.0",
          "state": {
            "_dom_classes": [],
            "_model_module": "@jupyter-widgets/controls",
            "_model_module_version": "1.5.0",
            "_model_name": "HTMLModel",
            "_view_count": null,
            "_view_module": "@jupyter-widgets/controls",
            "_view_module_version": "1.5.0",
            "_view_name": "HTMLView",
            "description": "",
            "description_tooltip": null,
            "layout": "IPY_MODEL_e27e6d0f26fc49d28d8eef5561c61401",
            "placeholder": "​",
            "style": "IPY_MODEL_4299b85a524f4b60915a0ccb80e11ae9",
            "value": "Downloading readme: 100%"
          }
        },
        "8ce2ac1cac114db39a8631d706f013dc": {
          "model_module": "@jupyter-widgets/controls",
          "model_name": "FloatProgressModel",
          "model_module_version": "1.5.0",
          "state": {
            "_dom_classes": [],
            "_model_module": "@jupyter-widgets/controls",
            "_model_module_version": "1.5.0",
            "_model_name": "FloatProgressModel",
            "_view_count": null,
            "_view_module": "@jupyter-widgets/controls",
            "_view_module_version": "1.5.0",
            "_view_name": "ProgressView",
            "bar_style": "success",
            "description": "",
            "description_tooltip": null,
            "layout": "IPY_MODEL_35387f3ed5db4cf3aeae737ac78057b6",
            "max": 25164,
            "min": 0,
            "orientation": "horizontal",
            "style": "IPY_MODEL_01b5f9bc64644374bf457b6d4062aeee",
            "value": 25164
          }
        },
        "0ca957a7d10745c2923797bd9a88a182": {
          "model_module": "@jupyter-widgets/controls",
          "model_name": "HTMLModel",
          "model_module_version": "1.5.0",
          "state": {
            "_dom_classes": [],
            "_model_module": "@jupyter-widgets/controls",
            "_model_module_version": "1.5.0",
            "_model_name": "HTMLModel",
            "_view_count": null,
            "_view_module": "@jupyter-widgets/controls",
            "_view_module_version": "1.5.0",
            "_view_name": "HTMLView",
            "description": "",
            "description_tooltip": null,
            "layout": "IPY_MODEL_5862e53b54114aa78ea87cca2095c129",
            "placeholder": "​",
            "style": "IPY_MODEL_71f22fa08a8e48b38c24233f16753f83",
            "value": " 25.2k/25.2k [00:00&lt;00:00, 1.81MB/s]"
          }
        },
        "b07094f4131f42a49cd363ada1ee49cb": {
          "model_module": "@jupyter-widgets/base",
          "model_name": "LayoutModel",
          "model_module_version": "1.2.0",
          "state": {
            "_model_module": "@jupyter-widgets/base",
            "_model_module_version": "1.2.0",
            "_model_name": "LayoutModel",
            "_view_count": null,
            "_view_module": "@jupyter-widgets/base",
            "_view_module_version": "1.2.0",
            "_view_name": "LayoutView",
            "align_content": null,
            "align_items": null,
            "align_self": null,
            "border": null,
            "bottom": null,
            "display": null,
            "flex": null,
            "flex_flow": null,
            "grid_area": null,
            "grid_auto_columns": null,
            "grid_auto_flow": null,
            "grid_auto_rows": null,
            "grid_column": null,
            "grid_gap": null,
            "grid_row": null,
            "grid_template_areas": null,
            "grid_template_columns": null,
            "grid_template_rows": null,
            "height": null,
            "justify_content": null,
            "justify_items": null,
            "left": null,
            "margin": null,
            "max_height": null,
            "max_width": null,
            "min_height": null,
            "min_width": null,
            "object_fit": null,
            "object_position": null,
            "order": null,
            "overflow": null,
            "overflow_x": null,
            "overflow_y": null,
            "padding": null,
            "right": null,
            "top": null,
            "visibility": null,
            "width": null
          }
        },
        "e27e6d0f26fc49d28d8eef5561c61401": {
          "model_module": "@jupyter-widgets/base",
          "model_name": "LayoutModel",
          "model_module_version": "1.2.0",
          "state": {
            "_model_module": "@jupyter-widgets/base",
            "_model_module_version": "1.2.0",
            "_model_name": "LayoutModel",
            "_view_count": null,
            "_view_module": "@jupyter-widgets/base",
            "_view_module_version": "1.2.0",
            "_view_name": "LayoutView",
            "align_content": null,
            "align_items": null,
            "align_self": null,
            "border": null,
            "bottom": null,
            "display": null,
            "flex": null,
            "flex_flow": null,
            "grid_area": null,
            "grid_auto_columns": null,
            "grid_auto_flow": null,
            "grid_auto_rows": null,
            "grid_column": null,
            "grid_gap": null,
            "grid_row": null,
            "grid_template_areas": null,
            "grid_template_columns": null,
            "grid_template_rows": null,
            "height": null,
            "justify_content": null,
            "justify_items": null,
            "left": null,
            "margin": null,
            "max_height": null,
            "max_width": null,
            "min_height": null,
            "min_width": null,
            "object_fit": null,
            "object_position": null,
            "order": null,
            "overflow": null,
            "overflow_x": null,
            "overflow_y": null,
            "padding": null,
            "right": null,
            "top": null,
            "visibility": null,
            "width": null
          }
        },
        "4299b85a524f4b60915a0ccb80e11ae9": {
          "model_module": "@jupyter-widgets/controls",
          "model_name": "DescriptionStyleModel",
          "model_module_version": "1.5.0",
          "state": {
            "_model_module": "@jupyter-widgets/controls",
            "_model_module_version": "1.5.0",
            "_model_name": "DescriptionStyleModel",
            "_view_count": null,
            "_view_module": "@jupyter-widgets/base",
            "_view_module_version": "1.2.0",
            "_view_name": "StyleView",
            "description_width": ""
          }
        },
        "35387f3ed5db4cf3aeae737ac78057b6": {
          "model_module": "@jupyter-widgets/base",
          "model_name": "LayoutModel",
          "model_module_version": "1.2.0",
          "state": {
            "_model_module": "@jupyter-widgets/base",
            "_model_module_version": "1.2.0",
            "_model_name": "LayoutModel",
            "_view_count": null,
            "_view_module": "@jupyter-widgets/base",
            "_view_module_version": "1.2.0",
            "_view_name": "LayoutView",
            "align_content": null,
            "align_items": null,
            "align_self": null,
            "border": null,
            "bottom": null,
            "display": null,
            "flex": null,
            "flex_flow": null,
            "grid_area": null,
            "grid_auto_columns": null,
            "grid_auto_flow": null,
            "grid_auto_rows": null,
            "grid_column": null,
            "grid_gap": null,
            "grid_row": null,
            "grid_template_areas": null,
            "grid_template_columns": null,
            "grid_template_rows": null,
            "height": null,
            "justify_content": null,
            "justify_items": null,
            "left": null,
            "margin": null,
            "max_height": null,
            "max_width": null,
            "min_height": null,
            "min_width": null,
            "object_fit": null,
            "object_position": null,
            "order": null,
            "overflow": null,
            "overflow_x": null,
            "overflow_y": null,
            "padding": null,
            "right": null,
            "top": null,
            "visibility": null,
            "width": null
          }
        },
        "01b5f9bc64644374bf457b6d4062aeee": {
          "model_module": "@jupyter-widgets/controls",
          "model_name": "ProgressStyleModel",
          "model_module_version": "1.5.0",
          "state": {
            "_model_module": "@jupyter-widgets/controls",
            "_model_module_version": "1.5.0",
            "_model_name": "ProgressStyleModel",
            "_view_count": null,
            "_view_module": "@jupyter-widgets/base",
            "_view_module_version": "1.2.0",
            "_view_name": "StyleView",
            "bar_color": null,
            "description_width": ""
          }
        },
        "5862e53b54114aa78ea87cca2095c129": {
          "model_module": "@jupyter-widgets/base",
          "model_name": "LayoutModel",
          "model_module_version": "1.2.0",
          "state": {
            "_model_module": "@jupyter-widgets/base",
            "_model_module_version": "1.2.0",
            "_model_name": "LayoutModel",
            "_view_count": null,
            "_view_module": "@jupyter-widgets/base",
            "_view_module_version": "1.2.0",
            "_view_name": "LayoutView",
            "align_content": null,
            "align_items": null,
            "align_self": null,
            "border": null,
            "bottom": null,
            "display": null,
            "flex": null,
            "flex_flow": null,
            "grid_area": null,
            "grid_auto_columns": null,
            "grid_auto_flow": null,
            "grid_auto_rows": null,
            "grid_column": null,
            "grid_gap": null,
            "grid_row": null,
            "grid_template_areas": null,
            "grid_template_columns": null,
            "grid_template_rows": null,
            "height": null,
            "justify_content": null,
            "justify_items": null,
            "left": null,
            "margin": null,
            "max_height": null,
            "max_width": null,
            "min_height": null,
            "min_width": null,
            "object_fit": null,
            "object_position": null,
            "order": null,
            "overflow": null,
            "overflow_x": null,
            "overflow_y": null,
            "padding": null,
            "right": null,
            "top": null,
            "visibility": null,
            "width": null
          }
        },
        "71f22fa08a8e48b38c24233f16753f83": {
          "model_module": "@jupyter-widgets/controls",
          "model_name": "DescriptionStyleModel",
          "model_module_version": "1.5.0",
          "state": {
            "_model_module": "@jupyter-widgets/controls",
            "_model_module_version": "1.5.0",
            "_model_name": "DescriptionStyleModel",
            "_view_count": null,
            "_view_module": "@jupyter-widgets/base",
            "_view_module_version": "1.2.0",
            "_view_name": "StyleView",
            "description_width": ""
          }
        },
        "454e2ec541304e24a4e77657a9a49e61": {
          "model_module": "@jupyter-widgets/controls",
          "model_name": "HBoxModel",
          "model_module_version": "1.5.0",
          "state": {
            "_dom_classes": [],
            "_model_module": "@jupyter-widgets/controls",
            "_model_module_version": "1.5.0",
            "_model_name": "HBoxModel",
            "_view_count": null,
            "_view_module": "@jupyter-widgets/controls",
            "_view_module_version": "1.5.0",
            "_view_name": "HBoxView",
            "box_style": "",
            "children": [
              "IPY_MODEL_b07bca1ed213452ea4ff1ae41fc02b3e",
              "IPY_MODEL_e368bb912b7345439bec52e69a2a7841",
              "IPY_MODEL_ff3e14c4da3f443a9e92eaa42fb71370"
            ],
            "layout": "IPY_MODEL_a3b86477da8a486891d1f26f7e2c47f3"
          }
        },
        "b07bca1ed213452ea4ff1ae41fc02b3e": {
          "model_module": "@jupyter-widgets/controls",
          "model_name": "HTMLModel",
          "model_module_version": "1.5.0",
          "state": {
            "_dom_classes": [],
            "_model_module": "@jupyter-widgets/controls",
            "_model_module_version": "1.5.0",
            "_model_name": "HTMLModel",
            "_view_count": null,
            "_view_module": "@jupyter-widgets/controls",
            "_view_module_version": "1.5.0",
            "_view_name": "HTMLView",
            "description": "",
            "description_tooltip": null,
            "layout": "IPY_MODEL_fd0f0cb3c2094fcd8af691893abed964",
            "placeholder": "​",
            "style": "IPY_MODEL_579af1f709cb43a1973a94dbc6a0526e",
            "value": "Downloading data: 100%"
          }
        },
        "e368bb912b7345439bec52e69a2a7841": {
          "model_module": "@jupyter-widgets/controls",
          "model_name": "FloatProgressModel",
          "model_module_version": "1.5.0",
          "state": {
            "_dom_classes": [],
            "_model_module": "@jupyter-widgets/controls",
            "_model_module_version": "1.5.0",
            "_model_name": "FloatProgressModel",
            "_view_count": null,
            "_view_module": "@jupyter-widgets/controls",
            "_view_module_version": "1.5.0",
            "_view_name": "ProgressView",
            "bar_style": "success",
            "description": "",
            "description_tooltip": null,
            "layout": "IPY_MODEL_55c3448cf53542f6b84894b083db21aa",
            "max": 191493,
            "min": 0,
            "orientation": "horizontal",
            "style": "IPY_MODEL_46015e93ae84439f8e66d1fa05f953dd",
            "value": 191493
          }
        },
        "ff3e14c4da3f443a9e92eaa42fb71370": {
          "model_module": "@jupyter-widgets/controls",
          "model_name": "HTMLModel",
          "model_module_version": "1.5.0",
          "state": {
            "_dom_classes": [],
            "_model_module": "@jupyter-widgets/controls",
            "_model_module_version": "1.5.0",
            "_model_name": "HTMLModel",
            "_view_count": null,
            "_view_module": "@jupyter-widgets/controls",
            "_view_module_version": "1.5.0",
            "_view_name": "HTMLView",
            "description": "",
            "description_tooltip": null,
            "layout": "IPY_MODEL_6695f7b8fbe4401686983957afd6691d",
            "placeholder": "​",
            "style": "IPY_MODEL_ed49d795180a44c595c63ef70170c895",
            "value": " 191k/191k [00:00&lt;00:00, 430kB/s]"
          }
        },
        "a3b86477da8a486891d1f26f7e2c47f3": {
          "model_module": "@jupyter-widgets/base",
          "model_name": "LayoutModel",
          "model_module_version": "1.2.0",
          "state": {
            "_model_module": "@jupyter-widgets/base",
            "_model_module_version": "1.2.0",
            "_model_name": "LayoutModel",
            "_view_count": null,
            "_view_module": "@jupyter-widgets/base",
            "_view_module_version": "1.2.0",
            "_view_name": "LayoutView",
            "align_content": null,
            "align_items": null,
            "align_self": null,
            "border": null,
            "bottom": null,
            "display": null,
            "flex": null,
            "flex_flow": null,
            "grid_area": null,
            "grid_auto_columns": null,
            "grid_auto_flow": null,
            "grid_auto_rows": null,
            "grid_column": null,
            "grid_gap": null,
            "grid_row": null,
            "grid_template_areas": null,
            "grid_template_columns": null,
            "grid_template_rows": null,
            "height": null,
            "justify_content": null,
            "justify_items": null,
            "left": null,
            "margin": null,
            "max_height": null,
            "max_width": null,
            "min_height": null,
            "min_width": null,
            "object_fit": null,
            "object_position": null,
            "order": null,
            "overflow": null,
            "overflow_x": null,
            "overflow_y": null,
            "padding": null,
            "right": null,
            "top": null,
            "visibility": null,
            "width": null
          }
        },
        "fd0f0cb3c2094fcd8af691893abed964": {
          "model_module": "@jupyter-widgets/base",
          "model_name": "LayoutModel",
          "model_module_version": "1.2.0",
          "state": {
            "_model_module": "@jupyter-widgets/base",
            "_model_module_version": "1.2.0",
            "_model_name": "LayoutModel",
            "_view_count": null,
            "_view_module": "@jupyter-widgets/base",
            "_view_module_version": "1.2.0",
            "_view_name": "LayoutView",
            "align_content": null,
            "align_items": null,
            "align_self": null,
            "border": null,
            "bottom": null,
            "display": null,
            "flex": null,
            "flex_flow": null,
            "grid_area": null,
            "grid_auto_columns": null,
            "grid_auto_flow": null,
            "grid_auto_rows": null,
            "grid_column": null,
            "grid_gap": null,
            "grid_row": null,
            "grid_template_areas": null,
            "grid_template_columns": null,
            "grid_template_rows": null,
            "height": null,
            "justify_content": null,
            "justify_items": null,
            "left": null,
            "margin": null,
            "max_height": null,
            "max_width": null,
            "min_height": null,
            "min_width": null,
            "object_fit": null,
            "object_position": null,
            "order": null,
            "overflow": null,
            "overflow_x": null,
            "overflow_y": null,
            "padding": null,
            "right": null,
            "top": null,
            "visibility": null,
            "width": null
          }
        },
        "579af1f709cb43a1973a94dbc6a0526e": {
          "model_module": "@jupyter-widgets/controls",
          "model_name": "DescriptionStyleModel",
          "model_module_version": "1.5.0",
          "state": {
            "_model_module": "@jupyter-widgets/controls",
            "_model_module_version": "1.5.0",
            "_model_name": "DescriptionStyleModel",
            "_view_count": null,
            "_view_module": "@jupyter-widgets/base",
            "_view_module_version": "1.2.0",
            "_view_name": "StyleView",
            "description_width": ""
          }
        },
        "55c3448cf53542f6b84894b083db21aa": {
          "model_module": "@jupyter-widgets/base",
          "model_name": "LayoutModel",
          "model_module_version": "1.2.0",
          "state": {
            "_model_module": "@jupyter-widgets/base",
            "_model_module_version": "1.2.0",
            "_model_name": "LayoutModel",
            "_view_count": null,
            "_view_module": "@jupyter-widgets/base",
            "_view_module_version": "1.2.0",
            "_view_name": "LayoutView",
            "align_content": null,
            "align_items": null,
            "align_self": null,
            "border": null,
            "bottom": null,
            "display": null,
            "flex": null,
            "flex_flow": null,
            "grid_area": null,
            "grid_auto_columns": null,
            "grid_auto_flow": null,
            "grid_auto_rows": null,
            "grid_column": null,
            "grid_gap": null,
            "grid_row": null,
            "grid_template_areas": null,
            "grid_template_columns": null,
            "grid_template_rows": null,
            "height": null,
            "justify_content": null,
            "justify_items": null,
            "left": null,
            "margin": null,
            "max_height": null,
            "max_width": null,
            "min_height": null,
            "min_width": null,
            "object_fit": null,
            "object_position": null,
            "order": null,
            "overflow": null,
            "overflow_x": null,
            "overflow_y": null,
            "padding": null,
            "right": null,
            "top": null,
            "visibility": null,
            "width": null
          }
        },
        "46015e93ae84439f8e66d1fa05f953dd": {
          "model_module": "@jupyter-widgets/controls",
          "model_name": "ProgressStyleModel",
          "model_module_version": "1.5.0",
          "state": {
            "_model_module": "@jupyter-widgets/controls",
            "_model_module_version": "1.5.0",
            "_model_name": "ProgressStyleModel",
            "_view_count": null,
            "_view_module": "@jupyter-widgets/base",
            "_view_module_version": "1.2.0",
            "_view_name": "StyleView",
            "bar_color": null,
            "description_width": ""
          }
        },
        "6695f7b8fbe4401686983957afd6691d": {
          "model_module": "@jupyter-widgets/base",
          "model_name": "LayoutModel",
          "model_module_version": "1.2.0",
          "state": {
            "_model_module": "@jupyter-widgets/base",
            "_model_module_version": "1.2.0",
            "_model_name": "LayoutModel",
            "_view_count": null,
            "_view_module": "@jupyter-widgets/base",
            "_view_module_version": "1.2.0",
            "_view_name": "LayoutView",
            "align_content": null,
            "align_items": null,
            "align_self": null,
            "border": null,
            "bottom": null,
            "display": null,
            "flex": null,
            "flex_flow": null,
            "grid_area": null,
            "grid_auto_columns": null,
            "grid_auto_flow": null,
            "grid_auto_rows": null,
            "grid_column": null,
            "grid_gap": null,
            "grid_row": null,
            "grid_template_areas": null,
            "grid_template_columns": null,
            "grid_template_rows": null,
            "height": null,
            "justify_content": null,
            "justify_items": null,
            "left": null,
            "margin": null,
            "max_height": null,
            "max_width": null,
            "min_height": null,
            "min_width": null,
            "object_fit": null,
            "object_position": null,
            "order": null,
            "overflow": null,
            "overflow_x": null,
            "overflow_y": null,
            "padding": null,
            "right": null,
            "top": null,
            "visibility": null,
            "width": null
          }
        },
        "ed49d795180a44c595c63ef70170c895": {
          "model_module": "@jupyter-widgets/controls",
          "model_name": "DescriptionStyleModel",
          "model_module_version": "1.5.0",
          "state": {
            "_model_module": "@jupyter-widgets/controls",
            "_model_module_version": "1.5.0",
            "_model_name": "DescriptionStyleModel",
            "_view_count": null,
            "_view_module": "@jupyter-widgets/base",
            "_view_module_version": "1.2.0",
            "_view_name": "StyleView",
            "description_width": ""
          }
        },
        "4fc9d11f31874e58a22bb85eacbca714": {
          "model_module": "@jupyter-widgets/controls",
          "model_name": "HBoxModel",
          "model_module_version": "1.5.0",
          "state": {
            "_dom_classes": [],
            "_model_module": "@jupyter-widgets/controls",
            "_model_module_version": "1.5.0",
            "_model_name": "HBoxModel",
            "_view_count": null,
            "_view_module": "@jupyter-widgets/controls",
            "_view_module_version": "1.5.0",
            "_view_name": "HBoxView",
            "box_style": "",
            "children": [
              "IPY_MODEL_8e37e45c180541e2b61faa8d11b51fbb",
              "IPY_MODEL_c231b78c0061467b872dd9c160e15fcb",
              "IPY_MODEL_40064732c4464a528778cbb16cbc9f49"
            ],
            "layout": "IPY_MODEL_fd311854e4d54bafba58e27d9b6692e2"
          }
        },
        "8e37e45c180541e2b61faa8d11b51fbb": {
          "model_module": "@jupyter-widgets/controls",
          "model_name": "HTMLModel",
          "model_module_version": "1.5.0",
          "state": {
            "_dom_classes": [],
            "_model_module": "@jupyter-widgets/controls",
            "_model_module_version": "1.5.0",
            "_model_name": "HTMLModel",
            "_view_count": null,
            "_view_module": "@jupyter-widgets/controls",
            "_view_module_version": "1.5.0",
            "_view_name": "HTMLView",
            "description": "",
            "description_tooltip": null,
            "layout": "IPY_MODEL_ab87b0f2dc7d4293b0a483904d67a457",
            "placeholder": "​",
            "style": "IPY_MODEL_2fcfe2d9dadd4bc88df90698831ada65",
            "value": "Generating train split: 100%"
          }
        },
        "c231b78c0061467b872dd9c160e15fcb": {
          "model_module": "@jupyter-widgets/controls",
          "model_name": "FloatProgressModel",
          "model_module_version": "1.5.0",
          "state": {
            "_dom_classes": [],
            "_model_module": "@jupyter-widgets/controls",
            "_model_module_version": "1.5.0",
            "_model_name": "FloatProgressModel",
            "_view_count": null,
            "_view_module": "@jupyter-widgets/controls",
            "_view_module_version": "1.5.0",
            "_view_name": "ProgressView",
            "bar_style": "success",
            "description": "",
            "description_tooltip": null,
            "layout": "IPY_MODEL_17cbaf33348c4582801d24e5bc4c3293",
            "max": 1404,
            "min": 0,
            "orientation": "horizontal",
            "style": "IPY_MODEL_8b8c0fd7f26e43758b3612d02e2d65c0",
            "value": 1404
          }
        },
        "40064732c4464a528778cbb16cbc9f49": {
          "model_module": "@jupyter-widgets/controls",
          "model_name": "HTMLModel",
          "model_module_version": "1.5.0",
          "state": {
            "_dom_classes": [],
            "_model_module": "@jupyter-widgets/controls",
            "_model_module_version": "1.5.0",
            "_model_name": "HTMLModel",
            "_view_count": null,
            "_view_module": "@jupyter-widgets/controls",
            "_view_module_version": "1.5.0",
            "_view_name": "HTMLView",
            "description": "",
            "description_tooltip": null,
            "layout": "IPY_MODEL_69564ccd7c484a5d8134f1eda4a51a8f",
            "placeholder": "​",
            "style": "IPY_MODEL_965c8f00a6a741e383bde0c400f53d50",
            "value": " 1404/1404 [00:00&lt;00:00, 30004.04 examples/s]"
          }
        },
        "fd311854e4d54bafba58e27d9b6692e2": {
          "model_module": "@jupyter-widgets/base",
          "model_name": "LayoutModel",
          "model_module_version": "1.2.0",
          "state": {
            "_model_module": "@jupyter-widgets/base",
            "_model_module_version": "1.2.0",
            "_model_name": "LayoutModel",
            "_view_count": null,
            "_view_module": "@jupyter-widgets/base",
            "_view_module_version": "1.2.0",
            "_view_name": "LayoutView",
            "align_content": null,
            "align_items": null,
            "align_self": null,
            "border": null,
            "bottom": null,
            "display": null,
            "flex": null,
            "flex_flow": null,
            "grid_area": null,
            "grid_auto_columns": null,
            "grid_auto_flow": null,
            "grid_auto_rows": null,
            "grid_column": null,
            "grid_gap": null,
            "grid_row": null,
            "grid_template_areas": null,
            "grid_template_columns": null,
            "grid_template_rows": null,
            "height": null,
            "justify_content": null,
            "justify_items": null,
            "left": null,
            "margin": null,
            "max_height": null,
            "max_width": null,
            "min_height": null,
            "min_width": null,
            "object_fit": null,
            "object_position": null,
            "order": null,
            "overflow": null,
            "overflow_x": null,
            "overflow_y": null,
            "padding": null,
            "right": null,
            "top": null,
            "visibility": null,
            "width": null
          }
        },
        "ab87b0f2dc7d4293b0a483904d67a457": {
          "model_module": "@jupyter-widgets/base",
          "model_name": "LayoutModel",
          "model_module_version": "1.2.0",
          "state": {
            "_model_module": "@jupyter-widgets/base",
            "_model_module_version": "1.2.0",
            "_model_name": "LayoutModel",
            "_view_count": null,
            "_view_module": "@jupyter-widgets/base",
            "_view_module_version": "1.2.0",
            "_view_name": "LayoutView",
            "align_content": null,
            "align_items": null,
            "align_self": null,
            "border": null,
            "bottom": null,
            "display": null,
            "flex": null,
            "flex_flow": null,
            "grid_area": null,
            "grid_auto_columns": null,
            "grid_auto_flow": null,
            "grid_auto_rows": null,
            "grid_column": null,
            "grid_gap": null,
            "grid_row": null,
            "grid_template_areas": null,
            "grid_template_columns": null,
            "grid_template_rows": null,
            "height": null,
            "justify_content": null,
            "justify_items": null,
            "left": null,
            "margin": null,
            "max_height": null,
            "max_width": null,
            "min_height": null,
            "min_width": null,
            "object_fit": null,
            "object_position": null,
            "order": null,
            "overflow": null,
            "overflow_x": null,
            "overflow_y": null,
            "padding": null,
            "right": null,
            "top": null,
            "visibility": null,
            "width": null
          }
        },
        "2fcfe2d9dadd4bc88df90698831ada65": {
          "model_module": "@jupyter-widgets/controls",
          "model_name": "DescriptionStyleModel",
          "model_module_version": "1.5.0",
          "state": {
            "_model_module": "@jupyter-widgets/controls",
            "_model_module_version": "1.5.0",
            "_model_name": "DescriptionStyleModel",
            "_view_count": null,
            "_view_module": "@jupyter-widgets/base",
            "_view_module_version": "1.2.0",
            "_view_name": "StyleView",
            "description_width": ""
          }
        },
        "17cbaf33348c4582801d24e5bc4c3293": {
          "model_module": "@jupyter-widgets/base",
          "model_name": "LayoutModel",
          "model_module_version": "1.2.0",
          "state": {
            "_model_module": "@jupyter-widgets/base",
            "_model_module_version": "1.2.0",
            "_model_name": "LayoutModel",
            "_view_count": null,
            "_view_module": "@jupyter-widgets/base",
            "_view_module_version": "1.2.0",
            "_view_name": "LayoutView",
            "align_content": null,
            "align_items": null,
            "align_self": null,
            "border": null,
            "bottom": null,
            "display": null,
            "flex": null,
            "flex_flow": null,
            "grid_area": null,
            "grid_auto_columns": null,
            "grid_auto_flow": null,
            "grid_auto_rows": null,
            "grid_column": null,
            "grid_gap": null,
            "grid_row": null,
            "grid_template_areas": null,
            "grid_template_columns": null,
            "grid_template_rows": null,
            "height": null,
            "justify_content": null,
            "justify_items": null,
            "left": null,
            "margin": null,
            "max_height": null,
            "max_width": null,
            "min_height": null,
            "min_width": null,
            "object_fit": null,
            "object_position": null,
            "order": null,
            "overflow": null,
            "overflow_x": null,
            "overflow_y": null,
            "padding": null,
            "right": null,
            "top": null,
            "visibility": null,
            "width": null
          }
        },
        "8b8c0fd7f26e43758b3612d02e2d65c0": {
          "model_module": "@jupyter-widgets/controls",
          "model_name": "ProgressStyleModel",
          "model_module_version": "1.5.0",
          "state": {
            "_model_module": "@jupyter-widgets/controls",
            "_model_module_version": "1.5.0",
            "_model_name": "ProgressStyleModel",
            "_view_count": null,
            "_view_module": "@jupyter-widgets/base",
            "_view_module_version": "1.2.0",
            "_view_name": "StyleView",
            "bar_color": null,
            "description_width": ""
          }
        },
        "69564ccd7c484a5d8134f1eda4a51a8f": {
          "model_module": "@jupyter-widgets/base",
          "model_name": "LayoutModel",
          "model_module_version": "1.2.0",
          "state": {
            "_model_module": "@jupyter-widgets/base",
            "_model_module_version": "1.2.0",
            "_model_name": "LayoutModel",
            "_view_count": null,
            "_view_module": "@jupyter-widgets/base",
            "_view_module_version": "1.2.0",
            "_view_name": "LayoutView",
            "align_content": null,
            "align_items": null,
            "align_self": null,
            "border": null,
            "bottom": null,
            "display": null,
            "flex": null,
            "flex_flow": null,
            "grid_area": null,
            "grid_auto_columns": null,
            "grid_auto_flow": null,
            "grid_auto_rows": null,
            "grid_column": null,
            "grid_gap": null,
            "grid_row": null,
            "grid_template_areas": null,
            "grid_template_columns": null,
            "grid_template_rows": null,
            "height": null,
            "justify_content": null,
            "justify_items": null,
            "left": null,
            "margin": null,
            "max_height": null,
            "max_width": null,
            "min_height": null,
            "min_width": null,
            "object_fit": null,
            "object_position": null,
            "order": null,
            "overflow": null,
            "overflow_x": null,
            "overflow_y": null,
            "padding": null,
            "right": null,
            "top": null,
            "visibility": null,
            "width": null
          }
        },
        "965c8f00a6a741e383bde0c400f53d50": {
          "model_module": "@jupyter-widgets/controls",
          "model_name": "DescriptionStyleModel",
          "model_module_version": "1.5.0",
          "state": {
            "_model_module": "@jupyter-widgets/controls",
            "_model_module_version": "1.5.0",
            "_model_name": "DescriptionStyleModel",
            "_view_count": null,
            "_view_module": "@jupyter-widgets/base",
            "_view_module_version": "1.2.0",
            "_view_name": "StyleView",
            "description_width": ""
          }
        }
      }
    }
  },
  "cells": [
    {
      "cell_type": "markdown",
      "source": [
        "**Baseline** **Model**"
      ],
      "metadata": {
        "id": "HZhthjYSaJsN"
      }
    },
    {
      "cell_type": "code",
      "execution_count": 1,
      "metadata": {
        "id": "kI_51H7KVtu1"
      },
      "outputs": [],
      "source": [
        "%load_ext tensorboard"
      ]
    },
    {
      "cell_type": "code",
      "source": [
        "%%capture\n",
        "!pip install datasets\n",
        "!pip install tokenizers\n",
        "!pip install torchmetrics"
      ],
      "metadata": {
        "id": "FYXKNC2kVzvM"
      },
      "execution_count": 2,
      "outputs": []
    },
    {
      "cell_type": "code",
      "source": [
        "!git clone https://github.com/Irfan-Hamid/test11.git"
      ],
      "metadata": {
        "colab": {
          "base_uri": "https://localhost:8080/"
        },
        "id": "4-fqd4FfV3Nx",
        "outputId": "6fe00061-2735-4efa-fb13-e7a33c696808"
      },
      "execution_count": 3,
      "outputs": [
        {
          "output_type": "stream",
          "name": "stdout",
          "text": [
            "Cloning into 'test11'...\n",
            "remote: Enumerating objects: 215, done.\u001b[K\n",
            "remote: Counting objects: 100% (102/102), done.\u001b[K\n",
            "remote: Compressing objects: 100% (69/69), done.\u001b[K\n",
            "remote: Total 215 (delta 59), reused 67 (delta 31), pack-reused 113\u001b[K\n",
            "Receiving objects: 100% (215/215), 2.77 MiB | 5.13 MiB/s, done.\n",
            "Resolving deltas: 100% (124/124), done.\n"
          ]
        }
      ]
    },
    {
      "cell_type": "code",
      "source": [
        "%%capture\n",
        "%cd /content/test11"
      ],
      "metadata": {
        "id": "r7hPdeK4WPzf"
      },
      "execution_count": 4,
      "outputs": []
    },
    {
      "cell_type": "code",
      "source": [
        "!git branch -a"
      ],
      "metadata": {
        "colab": {
          "base_uri": "https://localhost:8080/"
        },
        "id": "AC7WQ2YSWV7h",
        "outputId": "ba3cf9c7-8b51-448e-da7f-ee292ee769cc"
      },
      "execution_count": 5,
      "outputs": [
        {
          "output_type": "stream",
          "name": "stdout",
          "text": [
            "* \u001b[32mmain\u001b[m\n",
            "  \u001b[31mremotes/origin/HEAD\u001b[m -> origin/main\n",
            "  \u001b[31mremotes/origin/Irfan-Hamid-patch-1\u001b[m\n",
            "  \u001b[31mremotes/origin/final_check\u001b[m\n",
            "  \u001b[31mremotes/origin/main\u001b[m\n"
          ]
        }
      ]
    },
    {
      "cell_type": "code",
      "source": [
        "!git checkout final_check"
      ],
      "metadata": {
        "colab": {
          "base_uri": "https://localhost:8080/"
        },
        "id": "DcojpSw4WhRh",
        "outputId": "75aaed71-873f-41ac-f9a1-a689dbe6e0e2"
      },
      "execution_count": 6,
      "outputs": [
        {
          "output_type": "stream",
          "name": "stdout",
          "text": [
            "Branch 'final_check' set up to track remote branch 'final_check' from 'origin'.\n",
            "Switched to a new branch 'final_check'\n"
          ]
        }
      ]
    },
    {
      "cell_type": "code",
      "source": [
        "!git branch\n"
      ],
      "metadata": {
        "colab": {
          "base_uri": "https://localhost:8080/"
        },
        "id": "k99xrjNdWj-j",
        "outputId": "0ee46afd-8bb6-44a9-deec-0329fce60e30"
      },
      "execution_count": 7,
      "outputs": [
        {
          "output_type": "stream",
          "name": "stdout",
          "text": [
            "* \u001b[32mfinal_check\u001b[m\n",
            "  main\u001b[m\n"
          ]
        }
      ]
    },
    {
      "cell_type": "code",
      "source": [
        "!mkdir -p /content/Models/pytorch-transformer/weights\n",
        "!mkdir -p /content/Models/pytorch-transformer/vocab\n",
        "\n",
        "# !mkdir -p /content/drive/MyDrive/Models/pytorch-transformer/weights\n",
        "# !mkdir -p /content/drive/MyDrive/Models/pytorch-transformer/vocab"
      ],
      "metadata": {
        "id": "iegF4HI-WmEP"
      },
      "execution_count": 8,
      "outputs": []
    },
    {
      "cell_type": "code",
      "source": [
        "!pip install nltk\n",
        "import nltk\n",
        "nltk.download('punkt')\n",
        "from nltk.tokenize import word_tokenize\n",
        "from nltk.translate.bleu_score import corpus_bleu\n",
        "!pip install nltk rouge jiwer\n",
        "from nltk.translate.meteor_score import meteor_score\n",
        "nltk.download('wordnet')\n",
        "from rouge import Rouge\n",
        "from jiwer import cer, wer"
      ],
      "metadata": {
        "colab": {
          "base_uri": "https://localhost:8080/"
        },
        "id": "lbxANZWmWomf",
        "outputId": "2fa008b9-817d-411a-d3b7-c9c34260de16"
      },
      "execution_count": 9,
      "outputs": [
        {
          "output_type": "stream",
          "name": "stdout",
          "text": [
            "Requirement already satisfied: nltk in /usr/local/lib/python3.10/dist-packages (3.8.1)\n",
            "Requirement already satisfied: click in /usr/local/lib/python3.10/dist-packages (from nltk) (8.1.7)\n",
            "Requirement already satisfied: joblib in /usr/local/lib/python3.10/dist-packages (from nltk) (1.3.2)\n",
            "Requirement already satisfied: regex>=2021.8.3 in /usr/local/lib/python3.10/dist-packages (from nltk) (2023.12.25)\n",
            "Requirement already satisfied: tqdm in /usr/local/lib/python3.10/dist-packages (from nltk) (4.66.2)\n"
          ]
        },
        {
          "output_type": "stream",
          "name": "stderr",
          "text": [
            "[nltk_data] Downloading package punkt to /root/nltk_data...\n",
            "[nltk_data]   Unzipping tokenizers/punkt.zip.\n"
          ]
        },
        {
          "output_type": "stream",
          "name": "stdout",
          "text": [
            "Requirement already satisfied: nltk in /usr/local/lib/python3.10/dist-packages (3.8.1)\n",
            "Collecting rouge\n",
            "  Downloading rouge-1.0.1-py3-none-any.whl (13 kB)\n",
            "Collecting jiwer\n",
            "  Downloading jiwer-3.0.3-py3-none-any.whl (21 kB)\n",
            "Requirement already satisfied: click in /usr/local/lib/python3.10/dist-packages (from nltk) (8.1.7)\n",
            "Requirement already satisfied: joblib in /usr/local/lib/python3.10/dist-packages (from nltk) (1.3.2)\n",
            "Requirement already satisfied: regex>=2021.8.3 in /usr/local/lib/python3.10/dist-packages (from nltk) (2023.12.25)\n",
            "Requirement already satisfied: tqdm in /usr/local/lib/python3.10/dist-packages (from nltk) (4.66.2)\n",
            "Requirement already satisfied: six in /usr/local/lib/python3.10/dist-packages (from rouge) (1.16.0)\n",
            "Collecting rapidfuzz<4,>=3 (from jiwer)\n",
            "  Downloading rapidfuzz-3.6.2-cp310-cp310-manylinux_2_17_x86_64.manylinux2014_x86_64.whl (3.4 MB)\n",
            "\u001b[2K     \u001b[90m━━━━━━━━━━━━━━━━━━━━━━━━━━━━━━━━━━━━━━━━\u001b[0m \u001b[32m3.4/3.4 MB\u001b[0m \u001b[31m50.6 MB/s\u001b[0m eta \u001b[36m0:00:00\u001b[0m\n",
            "\u001b[?25hInstalling collected packages: rouge, rapidfuzz, jiwer\n",
            "Successfully installed jiwer-3.0.3 rapidfuzz-3.6.2 rouge-1.0.1\n"
          ]
        },
        {
          "output_type": "stream",
          "name": "stderr",
          "text": [
            "[nltk_data] Downloading package wordnet to /root/nltk_data...\n"
          ]
        }
      ]
    },
    {
      "cell_type": "code",
      "source": [
        "import matplotlib.pyplot as plt"
      ],
      "metadata": {
        "id": "yw95ch23Wq4r"
      },
      "execution_count": 10,
      "outputs": []
    },
    {
      "cell_type": "code",
      "source": [
        "from config import get_config\n",
        "cfg = get_config()\n",
        "cfg['model_folder'] = '/content/Models/pytorch-transformer/weights'\n",
        "cfg['tokenizer_file'] = '/content/Models/pytorch-transformer/vocab/tokenizer_{0}.json'\n",
        "cfg['batch_size'] = 64\n",
        "cfg['num_epochs'] = 50\n",
        "cfg['preload'] = None"
      ],
      "metadata": {
        "id": "U_8jeph3Wtl5"
      },
      "execution_count": 11,
      "outputs": []
    },
    {
      "cell_type": "code",
      "source": [
        "!pip install sacrebleu"
      ],
      "metadata": {
        "colab": {
          "base_uri": "https://localhost:8080/"
        },
        "id": "9pZlZMm-Wvsy",
        "outputId": "122816f3-766c-4387-b3f4-b98e737167ea"
      },
      "execution_count": 12,
      "outputs": [
        {
          "output_type": "stream",
          "name": "stdout",
          "text": [
            "Collecting sacrebleu\n",
            "  Downloading sacrebleu-2.4.1-py3-none-any.whl (106 kB)\n",
            "\u001b[?25l     \u001b[90m━━━━━━━━━━━━━━━━━━━━━━━━━━━━━━━━━━━━━━━━\u001b[0m \u001b[32m0.0/106.6 kB\u001b[0m \u001b[31m?\u001b[0m eta \u001b[36m-:--:--\u001b[0m\r\u001b[2K     \u001b[91m━━━━━━━━━━━━━━━━━━━━━━━━━━━━━━━━━━━━━━\u001b[0m\u001b[90m╺\u001b[0m\u001b[90m━\u001b[0m \u001b[32m102.4/106.6 kB\u001b[0m \u001b[31m3.4 MB/s\u001b[0m eta \u001b[36m0:00:01\u001b[0m\r\u001b[2K     \u001b[90m━━━━━━━━━━━━━━━━━━━━━━━━━━━━━━━━━━━━━━━━\u001b[0m \u001b[32m106.6/106.6 kB\u001b[0m \u001b[31m2.7 MB/s\u001b[0m eta \u001b[36m0:00:00\u001b[0m\n",
            "\u001b[?25hCollecting portalocker (from sacrebleu)\n",
            "  Downloading portalocker-2.8.2-py3-none-any.whl (17 kB)\n",
            "Requirement already satisfied: regex in /usr/local/lib/python3.10/dist-packages (from sacrebleu) (2023.12.25)\n",
            "Requirement already satisfied: tabulate>=0.8.9 in /usr/local/lib/python3.10/dist-packages (from sacrebleu) (0.9.0)\n",
            "Requirement already satisfied: numpy>=1.17 in /usr/local/lib/python3.10/dist-packages (from sacrebleu) (1.25.2)\n",
            "Collecting colorama (from sacrebleu)\n",
            "  Downloading colorama-0.4.6-py2.py3-none-any.whl (25 kB)\n",
            "Requirement already satisfied: lxml in /usr/local/lib/python3.10/dist-packages (from sacrebleu) (4.9.4)\n",
            "Installing collected packages: portalocker, colorama, sacrebleu\n",
            "Successfully installed colorama-0.4.6 portalocker-2.8.2 sacrebleu-2.4.1\n"
          ]
        }
      ]
    },
    {
      "cell_type": "code",
      "source": [
        "from train import train_model\n",
        "\n",
        "train_model(cfg)"
      ],
      "metadata": {
        "colab": {
          "base_uri": "https://localhost:8080/",
          "height": 1000,
          "referenced_widgets": [
            "c781934736494d2a8c84ac32f0e07402",
            "24a3a88ed1004b8591007395debf42d1",
            "8ce2ac1cac114db39a8631d706f013dc",
            "0ca957a7d10745c2923797bd9a88a182",
            "b07094f4131f42a49cd363ada1ee49cb",
            "e27e6d0f26fc49d28d8eef5561c61401",
            "4299b85a524f4b60915a0ccb80e11ae9",
            "35387f3ed5db4cf3aeae737ac78057b6",
            "01b5f9bc64644374bf457b6d4062aeee",
            "5862e53b54114aa78ea87cca2095c129",
            "71f22fa08a8e48b38c24233f16753f83",
            "454e2ec541304e24a4e77657a9a49e61",
            "b07bca1ed213452ea4ff1ae41fc02b3e",
            "e368bb912b7345439bec52e69a2a7841",
            "ff3e14c4da3f443a9e92eaa42fb71370",
            "a3b86477da8a486891d1f26f7e2c47f3",
            "fd0f0cb3c2094fcd8af691893abed964",
            "579af1f709cb43a1973a94dbc6a0526e",
            "55c3448cf53542f6b84894b083db21aa",
            "46015e93ae84439f8e66d1fa05f953dd",
            "6695f7b8fbe4401686983957afd6691d",
            "ed49d795180a44c595c63ef70170c895",
            "4fc9d11f31874e58a22bb85eacbca714",
            "8e37e45c180541e2b61faa8d11b51fbb",
            "c231b78c0061467b872dd9c160e15fcb",
            "40064732c4464a528778cbb16cbc9f49",
            "fd311854e4d54bafba58e27d9b6692e2",
            "ab87b0f2dc7d4293b0a483904d67a457",
            "2fcfe2d9dadd4bc88df90698831ada65",
            "17cbaf33348c4582801d24e5bc4c3293",
            "8b8c0fd7f26e43758b3612d02e2d65c0",
            "69564ccd7c484a5d8134f1eda4a51a8f",
            "965c8f00a6a741e383bde0c400f53d50"
          ]
        },
        "id": "4x24-_cVWxR3",
        "outputId": "92add5c1-3785-4a67-fb1e-61592eab526e"
      },
      "execution_count": 13,
      "outputs": [
        {
          "output_type": "stream",
          "name": "stderr",
          "text": [
            "[nltk_data] Downloading package punkt to /root/nltk_data...\n",
            "[nltk_data]   Package punkt is already up-to-date!\n",
            "[nltk_data] Downloading package wordnet to /root/nltk_data...\n",
            "[nltk_data]   Package wordnet is already up-to-date!\n",
            "[nltk_data] Downloading package wordnet_ic to /root/nltk_data...\n",
            "[nltk_data]   Unzipping corpora/wordnet_ic.zip.\n"
          ]
        },
        {
          "output_type": "stream",
          "name": "stdout",
          "text": [
            "Using device: cuda\n",
            "Device name: NVIDIA A100-SXM4-40GB\n",
            "Device memory: 39.56427001953125 GB\n"
          ]
        },
        {
          "output_type": "stream",
          "name": "stderr",
          "text": [
            "/usr/local/lib/python3.10/dist-packages/huggingface_hub/utils/_token.py:88: UserWarning: \n",
            "The secret `HF_TOKEN` does not exist in your Colab secrets.\n",
            "To authenticate with the Hugging Face Hub, create a token in your settings tab (https://huggingface.co/settings/tokens), set it as secret in your Google Colab and restart your session.\n",
            "You will be able to reuse this secret in all of your notebooks.\n",
            "Please note that authentication is recommended but still optional to access public models or datasets.\n",
            "  warnings.warn(\n"
          ]
        },
        {
          "output_type": "display_data",
          "data": {
            "text/plain": [
              "Downloading readme:   0%|          | 0.00/25.2k [00:00<?, ?B/s]"
            ],
            "application/vnd.jupyter.widget-view+json": {
              "version_major": 2,
              "version_minor": 0,
              "model_id": "c781934736494d2a8c84ac32f0e07402"
            }
          },
          "metadata": {}
        },
        {
          "output_type": "display_data",
          "data": {
            "text/plain": [
              "Downloading data:   0%|          | 0.00/191k [00:00<?, ?B/s]"
            ],
            "application/vnd.jupyter.widget-view+json": {
              "version_major": 2,
              "version_minor": 0,
              "model_id": "454e2ec541304e24a4e77657a9a49e61"
            }
          },
          "metadata": {}
        },
        {
          "output_type": "display_data",
          "data": {
            "text/plain": [
              "Generating train split:   0%|          | 0/1404 [00:00<?, ? examples/s]"
            ],
            "application/vnd.jupyter.widget-view+json": {
              "version_major": 2,
              "version_minor": 0,
              "model_id": "4fc9d11f31874e58a22bb85eacbca714"
            }
          },
          "metadata": {}
        },
        {
          "output_type": "stream",
          "name": "stdout",
          "text": [
            "Max length of source sentence: 204\n",
            "Max length of target sentence: 196\n",
            "No model to preload, starting from scratch\n"
          ]
        },
        {
          "output_type": "stream",
          "name": "stderr",
          "text": [
            "Processing Epoch 00: 100%|██████████| 20/20 [00:13<00:00,  1.46it/s, loss=5.979]\n",
            "Processing Epoch 01: 100%|██████████| 20/20 [00:12<00:00,  1.63it/s, loss=5.712]\n",
            "Processing Epoch 02: 100%|██████████| 20/20 [00:12<00:00,  1.63it/s, loss=5.518]\n",
            "Processing Epoch 03: 100%|██████████| 20/20 [00:12<00:00,  1.63it/s, loss=5.533]\n",
            "Processing Epoch 04: 100%|██████████| 20/20 [00:12<00:00,  1.63it/s, loss=5.188]\n",
            "Processing Epoch 05: 100%|██████████| 20/20 [00:12<00:00,  1.63it/s, loss=4.925]\n",
            "Processing Epoch 06: 100%|██████████| 20/20 [00:12<00:00,  1.63it/s, loss=5.004]\n",
            "Processing Epoch 07: 100%|██████████| 20/20 [00:12<00:00,  1.63it/s, loss=4.708]\n",
            "Processing Epoch 08: 100%|██████████| 20/20 [00:12<00:00,  1.63it/s, loss=4.720]\n",
            "Processing Epoch 09: 100%|██████████| 20/20 [00:12<00:00,  1.63it/s, loss=4.489]\n",
            "Processing Epoch 10: 100%|██████████| 20/20 [00:12<00:00,  1.63it/s, loss=4.223]\n",
            "Processing Epoch 11: 100%|██████████| 20/20 [00:12<00:00,  1.63it/s, loss=4.154]\n",
            "Processing Epoch 12: 100%|██████████| 20/20 [00:12<00:00,  1.63it/s, loss=3.969]\n",
            "Processing Epoch 13: 100%|██████████| 20/20 [00:12<00:00,  1.63it/s, loss=3.853]\n",
            "Processing Epoch 14: 100%|██████████| 20/20 [00:12<00:00,  1.63it/s, loss=3.905]\n",
            "Processing Epoch 15: 100%|██████████| 20/20 [00:12<00:00,  1.63it/s, loss=3.724]\n",
            "Processing Epoch 16: 100%|██████████| 20/20 [00:12<00:00,  1.63it/s, loss=3.691]\n",
            "Processing Epoch 17: 100%|██████████| 20/20 [00:12<00:00,  1.63it/s, loss=3.502]\n",
            "Processing Epoch 18: 100%|██████████| 20/20 [00:12<00:00,  1.63it/s, loss=3.461]\n",
            "Processing Epoch 19: 100%|██████████| 20/20 [00:12<00:00,  1.63it/s, loss=3.511]\n",
            "Processing Epoch 20: 100%|██████████| 20/20 [00:12<00:00,  1.63it/s, loss=3.249]\n",
            "Processing Epoch 21: 100%|██████████| 20/20 [00:12<00:00,  1.63it/s, loss=3.320]\n",
            "Processing Epoch 22: 100%|██████████| 20/20 [00:12<00:00,  1.63it/s, loss=3.249]\n",
            "Processing Epoch 23: 100%|██████████| 20/20 [00:12<00:00,  1.63it/s, loss=2.881]\n",
            "Processing Epoch 24: 100%|██████████| 20/20 [00:12<00:00,  1.63it/s, loss=2.915]\n",
            "Processing Epoch 25: 100%|██████████| 20/20 [00:12<00:00,  1.63it/s, loss=2.903]\n",
            "Processing Epoch 26: 100%|██████████| 20/20 [00:12<00:00,  1.63it/s, loss=2.828]\n",
            "Processing Epoch 27: 100%|██████████| 20/20 [00:12<00:00,  1.63it/s, loss=2.681]\n",
            "Processing Epoch 28: 100%|██████████| 20/20 [00:12<00:00,  1.63it/s, loss=2.543]\n",
            "Processing Epoch 29: 100%|██████████| 20/20 [00:12<00:00,  1.63it/s, loss=2.550]\n",
            "Processing Epoch 30: 100%|██████████| 20/20 [00:12<00:00,  1.63it/s, loss=2.437]\n",
            "Processing Epoch 31: 100%|██████████| 20/20 [00:12<00:00,  1.63it/s, loss=2.576]\n",
            "Processing Epoch 32: 100%|██████████| 20/20 [00:12<00:00,  1.63it/s, loss=2.396]\n",
            "Processing Epoch 33: 100%|██████████| 20/20 [00:12<00:00,  1.63it/s, loss=2.329]\n",
            "Processing Epoch 34: 100%|██████████| 20/20 [00:12<00:00,  1.63it/s, loss=2.240]\n",
            "Processing Epoch 35: 100%|██████████| 20/20 [00:12<00:00,  1.63it/s, loss=2.224]\n",
            "Processing Epoch 36: 100%|██████████| 20/20 [00:12<00:00,  1.63it/s, loss=2.182]\n",
            "Processing Epoch 37: 100%|██████████| 20/20 [00:12<00:00,  1.63it/s, loss=2.141]\n",
            "Processing Epoch 38: 100%|██████████| 20/20 [00:12<00:00,  1.63it/s, loss=2.010]\n",
            "Processing Epoch 39: 100%|██████████| 20/20 [00:12<00:00,  1.63it/s, loss=2.020]\n",
            "Processing Epoch 40: 100%|██████████| 20/20 [00:12<00:00,  1.63it/s, loss=2.067]\n",
            "Processing Epoch 41: 100%|██████████| 20/20 [00:12<00:00,  1.63it/s, loss=1.820]\n",
            "Processing Epoch 42: 100%|██████████| 20/20 [00:12<00:00,  1.63it/s, loss=1.883]\n",
            "Processing Epoch 43: 100%|██████████| 20/20 [00:12<00:00,  1.63it/s, loss=1.826]\n",
            "Processing Epoch 44: 100%|██████████| 20/20 [00:12<00:00,  1.63it/s, loss=1.751]\n",
            "Processing Epoch 45: 100%|██████████| 20/20 [00:12<00:00,  1.63it/s, loss=1.714]\n",
            "Processing Epoch 46: 100%|██████████| 20/20 [00:12<00:00,  1.63it/s, loss=1.685]\n",
            "Processing Epoch 47: 100%|██████████| 20/20 [00:12<00:00,  1.63it/s, loss=1.670]\n",
            "Processing Epoch 48: 100%|██████████| 20/20 [00:12<00:00,  1.63it/s, loss=1.633]\n",
            "Processing Epoch 49: 100%|██████████| 20/20 [00:12<00:00,  1.63it/s, loss=1.623]\n"
          ]
        },
        {
          "output_type": "stream",
          "name": "stdout",
          "text": [
            "BLEU Score: 22.61\n"
          ]
        }
      ]
    },
    {
      "cell_type": "code",
      "source": [
        "import torch\n",
        "import torch.nn as nn\n",
        "from model import Transformer\n",
        "from config import get_config, get_weights_file_path\n",
        "from train import get_model, get_ds, greedy_decode\n",
        "import altair as alt\n",
        "import pandas as pd\n",
        "import numpy as np\n",
        "import warnings\n",
        "warnings.filterwarnings(\"ignore\")"
      ],
      "metadata": {
        "id": "zz1tFu-CWziW"
      },
      "execution_count": 14,
      "outputs": []
    },
    {
      "cell_type": "code",
      "source": [
        "# Define the device\n",
        "device = torch.device(\"cuda\" if torch.cuda.is_available() else \"cpu\")\n",
        "print(\"Using device:\", device)"
      ],
      "metadata": {
        "colab": {
          "base_uri": "https://localhost:8080/"
        },
        "id": "0P-THTiRZooX",
        "outputId": "da5656db-2394-41e6-cf79-626b086bf553"
      },
      "execution_count": 15,
      "outputs": [
        {
          "output_type": "stream",
          "name": "stdout",
          "text": [
            "Using device: cuda\n"
          ]
        }
      ]
    },
    {
      "cell_type": "code",
      "source": [
        "config = get_config()\n",
        "train_dataloader, val_dataloader, vocab_src, vocab_tgt = get_ds(config)\n",
        "model = get_model(config, vocab_src.get_vocab_size(), vocab_tgt.get_vocab_size()).to(device)\n",
        "\n",
        "# Load the pretrained weights\n",
        "config = get_config()\n",
        "# Manually adjust the path for the specific runtime case\n",
        "model_filename = \"/content/Models/pytorch-transformer/weights/tmodel_49.pt\"\n",
        "\n",
        "# Load the pretrained weights\n",
        "state = torch.load(model_filename)\n",
        "model.load_state_dict(state['model_state_dict'])\n"
      ],
      "metadata": {
        "colab": {
          "base_uri": "https://localhost:8080/"
        },
        "id": "FZdvvKxZZqOv",
        "outputId": "dd2ccb11-5528-456f-8478-7317ef2724b4"
      },
      "execution_count": 16,
      "outputs": [
        {
          "output_type": "stream",
          "name": "stdout",
          "text": [
            "Max length of source sentence: 204\n",
            "Max length of target sentence: 196\n"
          ]
        },
        {
          "output_type": "execute_result",
          "data": {
            "text/plain": [
              "<All keys matched successfully>"
            ]
          },
          "metadata": {},
          "execution_count": 16
        }
      ]
    },
    {
      "cell_type": "code",
      "source": [
        "!ls /content/Models/pytorch-transformer/weights\n"
      ],
      "metadata": {
        "colab": {
          "base_uri": "https://localhost:8080/"
        },
        "id": "qWISIe7uZsNW",
        "outputId": "26770d07-0e30-44cb-fbc8-474e7cee1168"
      },
      "execution_count": 17,
      "outputs": [
        {
          "output_type": "stream",
          "name": "stdout",
          "text": [
            "tmodel_00.pt  tmodel_08.pt  tmodel_16.pt  tmodel_24.pt\ttmodel_32.pt  tmodel_40.pt  tmodel_48.pt\n",
            "tmodel_01.pt  tmodel_09.pt  tmodel_17.pt  tmodel_25.pt\ttmodel_33.pt  tmodel_41.pt  tmodel_49.pt\n",
            "tmodel_02.pt  tmodel_10.pt  tmodel_18.pt  tmodel_26.pt\ttmodel_34.pt  tmodel_42.pt\n",
            "tmodel_03.pt  tmodel_11.pt  tmodel_19.pt  tmodel_27.pt\ttmodel_35.pt  tmodel_43.pt\n",
            "tmodel_04.pt  tmodel_12.pt  tmodel_20.pt  tmodel_28.pt\ttmodel_36.pt  tmodel_44.pt\n",
            "tmodel_05.pt  tmodel_13.pt  tmodel_21.pt  tmodel_29.pt\ttmodel_37.pt  tmodel_45.pt\n",
            "tmodel_06.pt  tmodel_14.pt  tmodel_22.pt  tmodel_30.pt\ttmodel_38.pt  tmodel_46.pt\n",
            "tmodel_07.pt  tmodel_15.pt  tmodel_23.pt  tmodel_31.pt\ttmodel_39.pt  tmodel_47.pt\n"
          ]
        }
      ]
    },
    {
      "cell_type": "code",
      "source": [
        "def load_next_batch():\n",
        "    # Load a sample batch from the validation set\n",
        "    batch = next(iter(val_dataloader))\n",
        "    encoder_input = batch[\"encoder_input\"].to(device)\n",
        "    encoder_mask = batch[\"encoder_mask\"].to(device)\n",
        "    decoder_input = batch[\"decoder_input\"].to(device)\n",
        "    decoder_mask = batch[\"decoder_mask\"].to(device)\n",
        "\n",
        "    encoder_input_tokens = [vocab_src.id_to_token(idx) for idx in encoder_input[0].cpu().numpy()]\n",
        "    decoder_input_tokens = [vocab_tgt.id_to_token(idx) for idx in decoder_input[0].cpu().numpy()]\n",
        "\n",
        "    # check that the batch size is 1\n",
        "    assert encoder_input.size(\n",
        "        0) == 1, \"Batch\"\n",
        "\n",
        "    model_out = greedy_decode(\n",
        "        model, encoder_input, encoder_mask, vocab_src, vocab_tgt, config['seq_len'], device)\n",
        "\n",
        "    return batch, encoder_input_tokens, decoder_input_tokens"
      ],
      "metadata": {
        "id": "rhgH8xkRZuZh"
      },
      "execution_count": 40,
      "outputs": []
    },
    {
      "cell_type": "code",
      "source": [
        "def mtx2df(m, max_row, max_col, row_tokens, col_tokens):\n",
        "    return pd.DataFrame(\n",
        "        [\n",
        "            (\n",
        "                r,\n",
        "                c,\n",
        "                float(m[r, c]),\n",
        "                \"%.3d %s\" % (r, row_tokens[r] if len(row_tokens) > r else \"<blank>\"),\n",
        "                \"%.3d %s\" % (c, col_tokens[c] if len(col_tokens) > c else \"<blank>\"),\n",
        "            )\n",
        "            for r in range(m.shape[0])\n",
        "            for c in range(m.shape[1])\n",
        "            if r < max_row and c < max_col\n",
        "        ],\n",
        "        columns=[\"row\", \"column\", \"value\", \"row_token\", \"col_token\"],\n",
        "    )\n",
        "\n",
        "def get_attn_map(attn_type: str, layer: int, head: int):\n",
        "    if attn_type == \"encoder\":\n",
        "        attn = model.encoder.layers[layer].self_attention_block.attention_scores\n",
        "    elif attn_type == \"decoder\":\n",
        "        attn = model.decoder.layers[layer].self_attention_block.attention_scores\n",
        "    elif attn_type == \"encoder-decoder\":\n",
        "        attn = model.decoder.layers[layer].cross_attention_block.attention_scores\n",
        "    return attn[0, head].data\n",
        "\n",
        "def attn_map(attn_type, layer, head, row_tokens, col_tokens, max_sentence_len):\n",
        "    df = mtx2df(\n",
        "        get_attn_map(attn_type, layer, head),\n",
        "        max_sentence_len,\n",
        "        max_sentence_len,\n",
        "        row_tokens,\n",
        "        col_tokens,\n",
        "    )\n",
        "    return (\n",
        "        alt.Chart(data=df)\n",
        "        .mark_rect()\n",
        "        .encode(\n",
        "            x=alt.X(\"col_token\", axis=alt.Axis(title=\"\")),\n",
        "            y=alt.Y(\"row_token\", axis=alt.Axis(title=\"\")),\n",
        "            color=\"value\",\n",
        "            tooltip=[\"row\", \"column\", \"value\", \"row_token\", \"col_token\"],\n",
        "        )\n",
        "        #.title(f\"Layer {layer} Head {head}\")\n",
        "        .properties(height=400, width=400, title=f\"Layer {layer} Head {head}\")\n",
        "        .interactive()\n",
        "    )\n",
        "\n",
        "def get_all_attention_maps(attn_type: str, layers: list[int], heads: list[int], row_tokens: list, col_tokens, max_sentence_len: int):\n",
        "    charts = []\n",
        "    for layer in layers:\n",
        "        rowCharts = []\n",
        "        for head in heads:\n",
        "            rowCharts.append(attn_map(attn_type, layer, head, row_tokens, col_tokens, max_sentence_len))\n",
        "        charts.append(alt.hconcat(*rowCharts))\n",
        "    return alt.vconcat(*charts)"
      ],
      "metadata": {
        "id": "v7PpJhalZwit"
      },
      "execution_count": 41,
      "outputs": []
    },
    {
      "cell_type": "code",
      "source": [
        "batch, encoder_input_tokens, decoder_input_tokens = load_next_batch()\n",
        "print(f'Source: {batch[\"src_text\"][0]}')\n",
        "print(f'Target: {batch[\"tgt_text\"][0]}')\n",
        "sentence_len = encoder_input_tokens.index(\"[PAD]\")"
      ],
      "metadata": {
        "colab": {
          "base_uri": "https://localhost:8080/"
        },
        "id": "emr8iltjZzNH",
        "outputId": "ea2bb623-3ab6-4a65-d0ad-39d1f5ceee9b"
      },
      "execution_count": 86,
      "outputs": [
        {
          "output_type": "stream",
          "name": "stdout",
          "text": [
            "Source: However, everything is queer to-day.'\n",
            "Target: Entretanto, tudo está estranho hoje!\"\n"
          ]
        }
      ]
    },
    {
      "cell_type": "code",
      "source": [
        "layers = [0, 1, 2]\n",
        "heads = [0, 1, 2, 3, 4, 5, 6, 7]\n",
        "\n",
        "# Encoder Self-Attention\n",
        "get_all_attention_maps(\"decoder\", layers, heads, decoder_input_tokens, decoder_input_tokens, min(20, sentence_len))\n"
      ],
      "metadata": {
        "colab": {
          "base_uri": "https://localhost:8080/",
          "height": 1000
        },
        "id": "EmFZsJ8wZ1l8",
        "outputId": "e8f6b185-a6ef-4a45-f824-c5330443f807"
      },
      "execution_count": 87,
      "outputs": [
        {
          "output_type": "execute_result",
          "data": {
            "text/html": [
              "\n",
              "<div id=\"altair-viz-0fdba3700d4745919652ac21c032d5a6\"></div>\n",
              "<script type=\"text/javascript\">\n",
              "  var VEGA_DEBUG = (typeof VEGA_DEBUG == \"undefined\") ? {} : VEGA_DEBUG;\n",
              "  (function(spec, embedOpt){\n",
              "    let outputDiv = document.currentScript.previousElementSibling;\n",
              "    if (outputDiv.id !== \"altair-viz-0fdba3700d4745919652ac21c032d5a6\") {\n",
              "      outputDiv = document.getElementById(\"altair-viz-0fdba3700d4745919652ac21c032d5a6\");\n",
              "    }\n",
              "    const paths = {\n",
              "      \"vega\": \"https://cdn.jsdelivr.net/npm//vega@5?noext\",\n",
              "      \"vega-lib\": \"https://cdn.jsdelivr.net/npm//vega-lib?noext\",\n",
              "      \"vega-lite\": \"https://cdn.jsdelivr.net/npm//vega-lite@4.17.0?noext\",\n",
              "      \"vega-embed\": \"https://cdn.jsdelivr.net/npm//vega-embed@6?noext\",\n",
              "    };\n",
              "\n",
              "    function maybeLoadScript(lib, version) {\n",
              "      var key = `${lib.replace(\"-\", \"\")}_version`;\n",
              "      return (VEGA_DEBUG[key] == version) ?\n",
              "        Promise.resolve(paths[lib]) :\n",
              "        new Promise(function(resolve, reject) {\n",
              "          var s = document.createElement('script');\n",
              "          document.getElementsByTagName(\"head\")[0].appendChild(s);\n",
              "          s.async = true;\n",
              "          s.onload = () => {\n",
              "            VEGA_DEBUG[key] = version;\n",
              "            return resolve(paths[lib]);\n",
              "          };\n",
              "          s.onerror = () => reject(`Error loading script: ${paths[lib]}`);\n",
              "          s.src = paths[lib];\n",
              "        });\n",
              "    }\n",
              "\n",
              "    function showError(err) {\n",
              "      outputDiv.innerHTML = `<div class=\"error\" style=\"color:red;\">${err}</div>`;\n",
              "      throw err;\n",
              "    }\n",
              "\n",
              "    function displayChart(vegaEmbed) {\n",
              "      vegaEmbed(outputDiv, spec, embedOpt)\n",
              "        .catch(err => showError(`Javascript Error: ${err.message}<br>This usually means there's a typo in your chart specification. See the javascript console for the full traceback.`));\n",
              "    }\n",
              "\n",
              "    if(typeof define === \"function\" && define.amd) {\n",
              "      requirejs.config({paths});\n",
              "      require([\"vega-embed\"], displayChart, err => showError(`Error loading script: ${err.message}`));\n",
              "    } else {\n",
              "      maybeLoadScript(\"vega\", \"5\")\n",
              "        .then(() => maybeLoadScript(\"vega-lite\", \"4.17.0\"))\n",
              "        .then(() => maybeLoadScript(\"vega-embed\", \"6\"))\n",
              "        .catch(showError)\n",
              "        .then(() => displayChart(vegaEmbed));\n",
              "    }\n",
              "  })({\"config\": {\"view\": {\"continuousWidth\": 400, \"continuousHeight\": 300}}, \"vconcat\": [{\"hconcat\": [{\"data\": {\"name\": \"data-cfc9213b08e152e7069b3080cc0717c9\"}, \"mark\": \"rect\", \"encoding\": {\"color\": {\"field\": \"value\", \"type\": \"quantitative\"}, \"tooltip\": [{\"field\": \"row\", \"type\": \"quantitative\"}, {\"field\": \"column\", \"type\": \"quantitative\"}, {\"field\": \"value\", \"type\": \"quantitative\"}, {\"field\": \"row_token\", \"type\": \"nominal\"}, {\"field\": \"col_token\", \"type\": \"nominal\"}], \"x\": {\"axis\": {\"title\": \"\"}, \"field\": \"col_token\", \"type\": \"nominal\"}, \"y\": {\"axis\": {\"title\": \"\"}, \"field\": \"row_token\", \"type\": \"nominal\"}}, \"height\": 400, \"selection\": {\"selector505\": {\"type\": \"interval\", \"bind\": \"scales\", \"encodings\": [\"x\", \"y\"]}}, \"title\": \"Layer 0 Head 0\", \"width\": 400}, {\"data\": {\"name\": \"data-4605e68204a18ea990975479fd941267\"}, \"mark\": \"rect\", \"encoding\": {\"color\": {\"field\": \"value\", \"type\": \"quantitative\"}, \"tooltip\": [{\"field\": \"row\", \"type\": \"quantitative\"}, {\"field\": \"column\", \"type\": \"quantitative\"}, {\"field\": \"value\", \"type\": \"quantitative\"}, {\"field\": \"row_token\", \"type\": \"nominal\"}, {\"field\": \"col_token\", \"type\": \"nominal\"}], \"x\": {\"axis\": {\"title\": \"\"}, \"field\": \"col_token\", \"type\": \"nominal\"}, \"y\": {\"axis\": {\"title\": \"\"}, \"field\": \"row_token\", \"type\": \"nominal\"}}, \"height\": 400, \"selection\": {\"selector506\": {\"type\": \"interval\", \"bind\": \"scales\", \"encodings\": [\"x\", \"y\"]}}, \"title\": \"Layer 0 Head 1\", \"width\": 400}, {\"data\": {\"name\": \"data-b93c2153c3180447723cd6696f8dfc8f\"}, \"mark\": \"rect\", \"encoding\": {\"color\": {\"field\": \"value\", \"type\": \"quantitative\"}, \"tooltip\": [{\"field\": \"row\", \"type\": \"quantitative\"}, {\"field\": \"column\", \"type\": \"quantitative\"}, {\"field\": \"value\", \"type\": \"quantitative\"}, {\"field\": \"row_token\", \"type\": \"nominal\"}, {\"field\": \"col_token\", \"type\": \"nominal\"}], \"x\": {\"axis\": {\"title\": \"\"}, \"field\": \"col_token\", \"type\": \"nominal\"}, \"y\": {\"axis\": {\"title\": \"\"}, \"field\": \"row_token\", \"type\": \"nominal\"}}, \"height\": 400, \"selection\": {\"selector507\": {\"type\": \"interval\", \"bind\": \"scales\", \"encodings\": [\"x\", \"y\"]}}, \"title\": \"Layer 0 Head 2\", \"width\": 400}, {\"data\": {\"name\": \"data-ca469901473add15d0df94fe68bab806\"}, \"mark\": \"rect\", \"encoding\": {\"color\": {\"field\": \"value\", \"type\": \"quantitative\"}, \"tooltip\": [{\"field\": \"row\", \"type\": \"quantitative\"}, {\"field\": \"column\", \"type\": \"quantitative\"}, {\"field\": \"value\", \"type\": \"quantitative\"}, {\"field\": \"row_token\", \"type\": \"nominal\"}, {\"field\": \"col_token\", \"type\": \"nominal\"}], \"x\": {\"axis\": {\"title\": \"\"}, \"field\": \"col_token\", \"type\": \"nominal\"}, \"y\": {\"axis\": {\"title\": \"\"}, \"field\": \"row_token\", \"type\": \"nominal\"}}, \"height\": 400, \"selection\": {\"selector508\": {\"type\": \"interval\", \"bind\": \"scales\", \"encodings\": [\"x\", \"y\"]}}, \"title\": \"Layer 0 Head 3\", \"width\": 400}, {\"data\": {\"name\": \"data-6d3342cd0ae644f54ca8dac42eb7f7ce\"}, \"mark\": \"rect\", \"encoding\": {\"color\": {\"field\": \"value\", \"type\": \"quantitative\"}, \"tooltip\": [{\"field\": \"row\", \"type\": \"quantitative\"}, {\"field\": \"column\", \"type\": \"quantitative\"}, {\"field\": \"value\", \"type\": \"quantitative\"}, {\"field\": \"row_token\", \"type\": \"nominal\"}, {\"field\": \"col_token\", \"type\": \"nominal\"}], \"x\": {\"axis\": {\"title\": \"\"}, \"field\": \"col_token\", \"type\": \"nominal\"}, \"y\": {\"axis\": {\"title\": \"\"}, \"field\": \"row_token\", \"type\": \"nominal\"}}, \"height\": 400, \"selection\": {\"selector509\": {\"type\": \"interval\", \"bind\": \"scales\", \"encodings\": [\"x\", \"y\"]}}, \"title\": \"Layer 0 Head 4\", \"width\": 400}, {\"data\": {\"name\": \"data-e93d45d725cad0836f2b54769b44fceb\"}, \"mark\": \"rect\", \"encoding\": {\"color\": {\"field\": \"value\", \"type\": \"quantitative\"}, \"tooltip\": [{\"field\": \"row\", \"type\": \"quantitative\"}, {\"field\": \"column\", \"type\": \"quantitative\"}, {\"field\": \"value\", \"type\": \"quantitative\"}, {\"field\": \"row_token\", \"type\": \"nominal\"}, {\"field\": \"col_token\", \"type\": \"nominal\"}], \"x\": {\"axis\": {\"title\": \"\"}, \"field\": \"col_token\", \"type\": \"nominal\"}, \"y\": {\"axis\": {\"title\": \"\"}, \"field\": \"row_token\", \"type\": \"nominal\"}}, \"height\": 400, \"selection\": {\"selector510\": {\"type\": \"interval\", \"bind\": \"scales\", \"encodings\": [\"x\", \"y\"]}}, \"title\": \"Layer 0 Head 5\", \"width\": 400}, {\"data\": {\"name\": \"data-8882cb84e910c96c1c85437ed4909b6d\"}, \"mark\": \"rect\", \"encoding\": {\"color\": {\"field\": \"value\", \"type\": \"quantitative\"}, \"tooltip\": [{\"field\": \"row\", \"type\": \"quantitative\"}, {\"field\": \"column\", \"type\": \"quantitative\"}, {\"field\": \"value\", \"type\": \"quantitative\"}, {\"field\": \"row_token\", \"type\": \"nominal\"}, {\"field\": \"col_token\", \"type\": \"nominal\"}], \"x\": {\"axis\": {\"title\": \"\"}, \"field\": \"col_token\", \"type\": \"nominal\"}, \"y\": {\"axis\": {\"title\": \"\"}, \"field\": \"row_token\", \"type\": \"nominal\"}}, \"height\": 400, \"selection\": {\"selector511\": {\"type\": \"interval\", \"bind\": \"scales\", \"encodings\": [\"x\", \"y\"]}}, \"title\": \"Layer 0 Head 6\", \"width\": 400}, {\"data\": {\"name\": \"data-74b86f66b94d61ed933766a61be49a77\"}, \"mark\": \"rect\", \"encoding\": {\"color\": {\"field\": \"value\", \"type\": \"quantitative\"}, \"tooltip\": [{\"field\": \"row\", \"type\": \"quantitative\"}, {\"field\": \"column\", \"type\": \"quantitative\"}, {\"field\": \"value\", \"type\": \"quantitative\"}, {\"field\": \"row_token\", \"type\": \"nominal\"}, {\"field\": \"col_token\", \"type\": \"nominal\"}], \"x\": {\"axis\": {\"title\": \"\"}, \"field\": \"col_token\", \"type\": \"nominal\"}, \"y\": {\"axis\": {\"title\": \"\"}, \"field\": \"row_token\", \"type\": \"nominal\"}}, \"height\": 400, \"selection\": {\"selector512\": {\"type\": \"interval\", \"bind\": \"scales\", \"encodings\": [\"x\", \"y\"]}}, \"title\": \"Layer 0 Head 7\", \"width\": 400}]}, {\"hconcat\": [{\"data\": {\"name\": \"data-f2fb0a140031ec07884ed79a64b05361\"}, \"mark\": \"rect\", \"encoding\": {\"color\": {\"field\": \"value\", \"type\": \"quantitative\"}, \"tooltip\": [{\"field\": \"row\", \"type\": \"quantitative\"}, {\"field\": \"column\", \"type\": \"quantitative\"}, {\"field\": \"value\", \"type\": \"quantitative\"}, {\"field\": \"row_token\", \"type\": \"nominal\"}, {\"field\": \"col_token\", \"type\": \"nominal\"}], \"x\": {\"axis\": {\"title\": \"\"}, \"field\": \"col_token\", \"type\": \"nominal\"}, \"y\": {\"axis\": {\"title\": \"\"}, \"field\": \"row_token\", \"type\": \"nominal\"}}, \"height\": 400, \"selection\": {\"selector513\": {\"type\": \"interval\", \"bind\": \"scales\", \"encodings\": [\"x\", \"y\"]}}, \"title\": \"Layer 1 Head 0\", \"width\": 400}, {\"data\": {\"name\": \"data-d95eab91cb65970d55dca2f5dd04f2c0\"}, \"mark\": \"rect\", \"encoding\": {\"color\": {\"field\": \"value\", \"type\": \"quantitative\"}, \"tooltip\": [{\"field\": \"row\", \"type\": \"quantitative\"}, {\"field\": \"column\", \"type\": \"quantitative\"}, {\"field\": \"value\", \"type\": \"quantitative\"}, {\"field\": \"row_token\", \"type\": \"nominal\"}, {\"field\": \"col_token\", \"type\": \"nominal\"}], \"x\": {\"axis\": {\"title\": \"\"}, \"field\": \"col_token\", \"type\": \"nominal\"}, \"y\": {\"axis\": {\"title\": \"\"}, \"field\": \"row_token\", \"type\": \"nominal\"}}, \"height\": 400, \"selection\": {\"selector514\": {\"type\": \"interval\", \"bind\": \"scales\", \"encodings\": [\"x\", \"y\"]}}, \"title\": \"Layer 1 Head 1\", \"width\": 400}, {\"data\": {\"name\": \"data-da599ed929c4d11fd762c04dba085da9\"}, \"mark\": \"rect\", \"encoding\": {\"color\": {\"field\": \"value\", \"type\": \"quantitative\"}, \"tooltip\": [{\"field\": \"row\", \"type\": \"quantitative\"}, {\"field\": \"column\", \"type\": \"quantitative\"}, {\"field\": \"value\", \"type\": \"quantitative\"}, {\"field\": \"row_token\", \"type\": \"nominal\"}, {\"field\": \"col_token\", \"type\": \"nominal\"}], \"x\": {\"axis\": {\"title\": \"\"}, \"field\": \"col_token\", \"type\": \"nominal\"}, \"y\": {\"axis\": {\"title\": \"\"}, \"field\": \"row_token\", \"type\": \"nominal\"}}, \"height\": 400, \"selection\": {\"selector515\": {\"type\": \"interval\", \"bind\": \"scales\", \"encodings\": [\"x\", \"y\"]}}, \"title\": \"Layer 1 Head 2\", \"width\": 400}, {\"data\": {\"name\": \"data-0b8d299fe9772c3f3a39c4c01078359d\"}, \"mark\": \"rect\", \"encoding\": {\"color\": {\"field\": \"value\", \"type\": \"quantitative\"}, \"tooltip\": [{\"field\": \"row\", \"type\": \"quantitative\"}, {\"field\": \"column\", \"type\": \"quantitative\"}, {\"field\": \"value\", \"type\": \"quantitative\"}, {\"field\": \"row_token\", \"type\": \"nominal\"}, {\"field\": \"col_token\", \"type\": \"nominal\"}], \"x\": {\"axis\": {\"title\": \"\"}, \"field\": \"col_token\", \"type\": \"nominal\"}, \"y\": {\"axis\": {\"title\": \"\"}, \"field\": \"row_token\", \"type\": \"nominal\"}}, \"height\": 400, \"selection\": {\"selector516\": {\"type\": \"interval\", \"bind\": \"scales\", \"encodings\": [\"x\", \"y\"]}}, \"title\": \"Layer 1 Head 3\", \"width\": 400}, {\"data\": {\"name\": \"data-0d30bbd617c7f648f9a86f20bf909454\"}, \"mark\": \"rect\", \"encoding\": {\"color\": {\"field\": \"value\", \"type\": \"quantitative\"}, \"tooltip\": [{\"field\": \"row\", \"type\": \"quantitative\"}, {\"field\": \"column\", \"type\": \"quantitative\"}, {\"field\": \"value\", \"type\": \"quantitative\"}, {\"field\": \"row_token\", \"type\": \"nominal\"}, {\"field\": \"col_token\", \"type\": \"nominal\"}], \"x\": {\"axis\": {\"title\": \"\"}, \"field\": \"col_token\", \"type\": \"nominal\"}, \"y\": {\"axis\": {\"title\": \"\"}, \"field\": \"row_token\", \"type\": \"nominal\"}}, \"height\": 400, \"selection\": {\"selector517\": {\"type\": \"interval\", \"bind\": \"scales\", \"encodings\": [\"x\", \"y\"]}}, \"title\": \"Layer 1 Head 4\", \"width\": 400}, {\"data\": {\"name\": \"data-118ddbeb5a0aa83ac20299ebd9589c82\"}, \"mark\": \"rect\", \"encoding\": {\"color\": {\"field\": \"value\", \"type\": \"quantitative\"}, \"tooltip\": [{\"field\": \"row\", \"type\": \"quantitative\"}, {\"field\": \"column\", \"type\": \"quantitative\"}, {\"field\": \"value\", \"type\": \"quantitative\"}, {\"field\": \"row_token\", \"type\": \"nominal\"}, {\"field\": \"col_token\", \"type\": \"nominal\"}], \"x\": {\"axis\": {\"title\": \"\"}, \"field\": \"col_token\", \"type\": \"nominal\"}, \"y\": {\"axis\": {\"title\": \"\"}, \"field\": \"row_token\", \"type\": \"nominal\"}}, \"height\": 400, \"selection\": {\"selector518\": {\"type\": \"interval\", \"bind\": \"scales\", \"encodings\": [\"x\", \"y\"]}}, \"title\": \"Layer 1 Head 5\", \"width\": 400}, {\"data\": {\"name\": \"data-98288f7c7d63a05775327e48c8613309\"}, \"mark\": \"rect\", \"encoding\": {\"color\": {\"field\": \"value\", \"type\": \"quantitative\"}, \"tooltip\": [{\"field\": \"row\", \"type\": \"quantitative\"}, {\"field\": \"column\", \"type\": \"quantitative\"}, {\"field\": \"value\", \"type\": \"quantitative\"}, {\"field\": \"row_token\", \"type\": \"nominal\"}, {\"field\": \"col_token\", \"type\": \"nominal\"}], \"x\": {\"axis\": {\"title\": \"\"}, \"field\": \"col_token\", \"type\": \"nominal\"}, \"y\": {\"axis\": {\"title\": \"\"}, \"field\": \"row_token\", \"type\": \"nominal\"}}, \"height\": 400, \"selection\": {\"selector519\": {\"type\": \"interval\", \"bind\": \"scales\", \"encodings\": [\"x\", \"y\"]}}, \"title\": \"Layer 1 Head 6\", \"width\": 400}, {\"data\": {\"name\": \"data-393366558795aa743eaacc71db8a1880\"}, \"mark\": \"rect\", \"encoding\": {\"color\": {\"field\": \"value\", \"type\": \"quantitative\"}, \"tooltip\": [{\"field\": \"row\", \"type\": \"quantitative\"}, {\"field\": \"column\", \"type\": \"quantitative\"}, {\"field\": \"value\", \"type\": \"quantitative\"}, {\"field\": \"row_token\", \"type\": \"nominal\"}, {\"field\": \"col_token\", \"type\": \"nominal\"}], \"x\": {\"axis\": {\"title\": \"\"}, \"field\": \"col_token\", \"type\": \"nominal\"}, \"y\": {\"axis\": {\"title\": \"\"}, \"field\": \"row_token\", \"type\": \"nominal\"}}, \"height\": 400, \"selection\": {\"selector520\": {\"type\": \"interval\", \"bind\": \"scales\", \"encodings\": [\"x\", \"y\"]}}, \"title\": \"Layer 1 Head 7\", \"width\": 400}]}, {\"hconcat\": [{\"data\": {\"name\": \"data-3d8a11322fe372b7b174e81e0b2a84a9\"}, \"mark\": \"rect\", \"encoding\": {\"color\": {\"field\": \"value\", \"type\": \"quantitative\"}, \"tooltip\": [{\"field\": \"row\", \"type\": \"quantitative\"}, {\"field\": \"column\", \"type\": \"quantitative\"}, {\"field\": \"value\", \"type\": \"quantitative\"}, {\"field\": \"row_token\", \"type\": \"nominal\"}, {\"field\": \"col_token\", \"type\": \"nominal\"}], \"x\": {\"axis\": {\"title\": \"\"}, \"field\": \"col_token\", \"type\": \"nominal\"}, \"y\": {\"axis\": {\"title\": \"\"}, \"field\": \"row_token\", \"type\": \"nominal\"}}, \"height\": 400, \"selection\": {\"selector521\": {\"type\": \"interval\", \"bind\": \"scales\", \"encodings\": [\"x\", \"y\"]}}, \"title\": \"Layer 2 Head 0\", \"width\": 400}, {\"data\": {\"name\": \"data-986c9b95dd2848ffb8dd0b0e27f2b3f8\"}, \"mark\": \"rect\", \"encoding\": {\"color\": {\"field\": \"value\", \"type\": \"quantitative\"}, \"tooltip\": [{\"field\": \"row\", \"type\": \"quantitative\"}, {\"field\": \"column\", \"type\": \"quantitative\"}, {\"field\": \"value\", \"type\": \"quantitative\"}, {\"field\": \"row_token\", \"type\": \"nominal\"}, {\"field\": \"col_token\", \"type\": \"nominal\"}], \"x\": {\"axis\": {\"title\": \"\"}, \"field\": \"col_token\", \"type\": \"nominal\"}, \"y\": {\"axis\": {\"title\": \"\"}, \"field\": \"row_token\", \"type\": \"nominal\"}}, \"height\": 400, \"selection\": {\"selector522\": {\"type\": \"interval\", \"bind\": \"scales\", \"encodings\": [\"x\", \"y\"]}}, \"title\": \"Layer 2 Head 1\", \"width\": 400}, {\"data\": {\"name\": \"data-601755d8b96399de2f2e3c44847bc4a4\"}, \"mark\": \"rect\", \"encoding\": {\"color\": {\"field\": \"value\", \"type\": \"quantitative\"}, \"tooltip\": [{\"field\": \"row\", \"type\": \"quantitative\"}, {\"field\": \"column\", \"type\": \"quantitative\"}, {\"field\": \"value\", \"type\": \"quantitative\"}, {\"field\": \"row_token\", \"type\": \"nominal\"}, {\"field\": \"col_token\", \"type\": \"nominal\"}], \"x\": {\"axis\": {\"title\": \"\"}, \"field\": \"col_token\", \"type\": \"nominal\"}, \"y\": {\"axis\": {\"title\": \"\"}, \"field\": \"row_token\", \"type\": \"nominal\"}}, \"height\": 400, \"selection\": {\"selector523\": {\"type\": \"interval\", \"bind\": \"scales\", \"encodings\": [\"x\", \"y\"]}}, \"title\": \"Layer 2 Head 2\", \"width\": 400}, {\"data\": {\"name\": \"data-c5904bb64b3a28c3ca02effe966578ec\"}, \"mark\": \"rect\", \"encoding\": {\"color\": {\"field\": \"value\", \"type\": \"quantitative\"}, \"tooltip\": [{\"field\": \"row\", \"type\": \"quantitative\"}, {\"field\": \"column\", \"type\": \"quantitative\"}, {\"field\": \"value\", \"type\": \"quantitative\"}, {\"field\": \"row_token\", \"type\": \"nominal\"}, {\"field\": \"col_token\", \"type\": \"nominal\"}], \"x\": {\"axis\": {\"title\": \"\"}, \"field\": \"col_token\", \"type\": \"nominal\"}, \"y\": {\"axis\": {\"title\": \"\"}, \"field\": \"row_token\", \"type\": \"nominal\"}}, \"height\": 400, \"selection\": {\"selector524\": {\"type\": \"interval\", \"bind\": \"scales\", \"encodings\": [\"x\", \"y\"]}}, \"title\": \"Layer 2 Head 3\", \"width\": 400}, {\"data\": {\"name\": \"data-9c327be783f3f0433c733521696149d3\"}, \"mark\": \"rect\", \"encoding\": {\"color\": {\"field\": \"value\", \"type\": \"quantitative\"}, \"tooltip\": [{\"field\": \"row\", \"type\": \"quantitative\"}, {\"field\": \"column\", \"type\": \"quantitative\"}, {\"field\": \"value\", \"type\": \"quantitative\"}, {\"field\": \"row_token\", \"type\": \"nominal\"}, {\"field\": \"col_token\", \"type\": \"nominal\"}], \"x\": {\"axis\": {\"title\": \"\"}, \"field\": \"col_token\", \"type\": \"nominal\"}, \"y\": {\"axis\": {\"title\": \"\"}, \"field\": \"row_token\", \"type\": \"nominal\"}}, \"height\": 400, \"selection\": {\"selector525\": {\"type\": \"interval\", \"bind\": \"scales\", \"encodings\": [\"x\", \"y\"]}}, \"title\": \"Layer 2 Head 4\", \"width\": 400}, {\"data\": {\"name\": \"data-b070cd14ef768feae09e90f175cbd918\"}, \"mark\": \"rect\", \"encoding\": {\"color\": {\"field\": \"value\", \"type\": \"quantitative\"}, \"tooltip\": [{\"field\": \"row\", \"type\": \"quantitative\"}, {\"field\": \"column\", \"type\": \"quantitative\"}, {\"field\": \"value\", \"type\": \"quantitative\"}, {\"field\": \"row_token\", \"type\": \"nominal\"}, {\"field\": \"col_token\", \"type\": \"nominal\"}], \"x\": {\"axis\": {\"title\": \"\"}, \"field\": \"col_token\", \"type\": \"nominal\"}, \"y\": {\"axis\": {\"title\": \"\"}, \"field\": \"row_token\", \"type\": \"nominal\"}}, \"height\": 400, \"selection\": {\"selector526\": {\"type\": \"interval\", \"bind\": \"scales\", \"encodings\": [\"x\", \"y\"]}}, \"title\": \"Layer 2 Head 5\", \"width\": 400}, {\"data\": {\"name\": \"data-4fcffd811ab21e4c4cce09c208966226\"}, \"mark\": \"rect\", \"encoding\": {\"color\": {\"field\": \"value\", \"type\": \"quantitative\"}, \"tooltip\": [{\"field\": \"row\", \"type\": \"quantitative\"}, {\"field\": \"column\", \"type\": \"quantitative\"}, {\"field\": \"value\", \"type\": \"quantitative\"}, {\"field\": \"row_token\", \"type\": \"nominal\"}, {\"field\": \"col_token\", \"type\": \"nominal\"}], \"x\": {\"axis\": {\"title\": \"\"}, \"field\": \"col_token\", \"type\": \"nominal\"}, \"y\": {\"axis\": {\"title\": \"\"}, \"field\": \"row_token\", \"type\": \"nominal\"}}, \"height\": 400, \"selection\": {\"selector527\": {\"type\": \"interval\", \"bind\": \"scales\", \"encodings\": [\"x\", \"y\"]}}, \"title\": \"Layer 2 Head 6\", \"width\": 400}, {\"data\": {\"name\": \"data-9a56da40c3457d1eb83f07bef7696c94\"}, \"mark\": \"rect\", \"encoding\": {\"color\": {\"field\": \"value\", \"type\": \"quantitative\"}, \"tooltip\": [{\"field\": \"row\", \"type\": \"quantitative\"}, {\"field\": \"column\", \"type\": \"quantitative\"}, {\"field\": \"value\", \"type\": \"quantitative\"}, {\"field\": \"row_token\", \"type\": \"nominal\"}, {\"field\": \"col_token\", \"type\": \"nominal\"}], \"x\": {\"axis\": {\"title\": \"\"}, \"field\": \"col_token\", \"type\": \"nominal\"}, \"y\": {\"axis\": {\"title\": \"\"}, \"field\": \"row_token\", \"type\": \"nominal\"}}, \"height\": 400, \"selection\": {\"selector528\": {\"type\": \"interval\", \"bind\": \"scales\", \"encodings\": [\"x\", \"y\"]}}, \"title\": \"Layer 2 Head 7\", \"width\": 400}]}], \"$schema\": \"https://vega.github.io/schema/vega-lite/v4.17.0.json\", \"datasets\": {\"data-cfc9213b08e152e7069b3080cc0717c9\": [{\"row\": 0, \"column\": 0, \"value\": 1.1111111640930176, \"row_token\": \"000 [SOS]\", \"col_token\": \"000 [SOS]\"}, {\"row\": 0, \"column\": 1, \"value\": 0.0, \"row_token\": \"000 [SOS]\", \"col_token\": \"001 Entretanto\"}, {\"row\": 0, \"column\": 2, \"value\": 0.0, \"row_token\": \"000 [SOS]\", \"col_token\": \"002 ,\"}, {\"row\": 0, \"column\": 3, \"value\": 0.0, \"row_token\": \"000 [SOS]\", \"col_token\": \"003 tudo\"}, {\"row\": 0, \"column\": 4, \"value\": 0.0, \"row_token\": \"000 [SOS]\", \"col_token\": \"004 est\\u00e1\"}, {\"row\": 0, \"column\": 5, \"value\": 0.0, \"row_token\": \"000 [SOS]\", \"col_token\": \"005 estranho\"}, {\"row\": 0, \"column\": 6, \"value\": 0.0, \"row_token\": \"000 [SOS]\", \"col_token\": \"006 hoje\"}, {\"row\": 0, \"column\": 7, \"value\": 0.0, \"row_token\": \"000 [SOS]\", \"col_token\": \"007 !\\\"\"}, {\"row\": 1, \"column\": 0, \"value\": 0.0019172071479260921, \"row_token\": \"001 Entretanto\", \"col_token\": \"000 [SOS]\"}, {\"row\": 1, \"column\": 1, \"value\": 1.109194040298462, \"row_token\": \"001 Entretanto\", \"col_token\": \"001 Entretanto\"}, {\"row\": 1, \"column\": 2, \"value\": 0.0, \"row_token\": \"001 Entretanto\", \"col_token\": \"002 ,\"}, {\"row\": 1, \"column\": 3, \"value\": 0.0, \"row_token\": \"001 Entretanto\", \"col_token\": \"003 tudo\"}, {\"row\": 1, \"column\": 4, \"value\": 0.0, \"row_token\": \"001 Entretanto\", \"col_token\": \"004 est\\u00e1\"}, {\"row\": 1, \"column\": 5, \"value\": 0.0, \"row_token\": \"001 Entretanto\", \"col_token\": \"005 estranho\"}, {\"row\": 1, \"column\": 6, \"value\": 0.0, \"row_token\": \"001 Entretanto\", \"col_token\": \"006 hoje\"}, {\"row\": 1, \"column\": 7, \"value\": 0.0, \"row_token\": \"001 Entretanto\", \"col_token\": \"007 !\\\"\"}, {\"row\": 2, \"column\": 0, \"value\": 0.010177738033235073, \"row_token\": \"002 ,\", \"col_token\": \"000 [SOS]\"}, {\"row\": 2, \"column\": 1, \"value\": 1.0789649486541748, \"row_token\": \"002 ,\", \"col_token\": \"001 Entretanto\"}, {\"row\": 2, \"column\": 2, \"value\": 0.021968476474285126, \"row_token\": \"002 ,\", \"col_token\": \"002 ,\"}, {\"row\": 2, \"column\": 3, \"value\": 0.0, \"row_token\": \"002 ,\", \"col_token\": \"003 tudo\"}, {\"row\": 2, \"column\": 4, \"value\": 0.0, \"row_token\": \"002 ,\", \"col_token\": \"004 est\\u00e1\"}, {\"row\": 2, \"column\": 5, \"value\": 0.0, \"row_token\": \"002 ,\", \"col_token\": \"005 estranho\"}, {\"row\": 2, \"column\": 6, \"value\": 0.0, \"row_token\": \"002 ,\", \"col_token\": \"006 hoje\"}, {\"row\": 2, \"column\": 7, \"value\": 0.0, \"row_token\": \"002 ,\", \"col_token\": \"007 !\\\"\"}, {\"row\": 3, \"column\": 0, \"value\": 0.0010195659706369042, \"row_token\": \"003 tudo\", \"col_token\": \"000 [SOS]\"}, {\"row\": 3, \"column\": 1, \"value\": 1.0183587074279785, \"row_token\": \"003 tudo\", \"col_token\": \"001 Entretanto\"}, {\"row\": 3, \"column\": 2, \"value\": 0.02392634190618992, \"row_token\": \"003 tudo\", \"col_token\": \"002 ,\"}, {\"row\": 3, \"column\": 3, \"value\": 0.06780656427145004, \"row_token\": \"003 tudo\", \"col_token\": \"003 tudo\"}, {\"row\": 3, \"column\": 4, \"value\": 0.0, \"row_token\": \"003 tudo\", \"col_token\": \"004 est\\u00e1\"}, {\"row\": 3, \"column\": 5, \"value\": 0.0, \"row_token\": \"003 tudo\", \"col_token\": \"005 estranho\"}, {\"row\": 3, \"column\": 6, \"value\": 0.0, \"row_token\": \"003 tudo\", \"col_token\": \"006 hoje\"}, {\"row\": 3, \"column\": 7, \"value\": 0.0, \"row_token\": \"003 tudo\", \"col_token\": \"007 !\\\"\"}, {\"row\": 4, \"column\": 0, \"value\": 0.0029976852238178253, \"row_token\": \"004 est\\u00e1\", \"col_token\": \"000 [SOS]\"}, {\"row\": 4, \"column\": 1, \"value\": 0.09447034448385239, \"row_token\": \"004 est\\u00e1\", \"col_token\": \"001 Entretanto\"}, {\"row\": 4, \"column\": 2, \"value\": 0.007584917359054089, \"row_token\": \"004 est\\u00e1\", \"col_token\": \"002 ,\"}, {\"row\": 4, \"column\": 3, \"value\": 0.2197791188955307, \"row_token\": \"004 est\\u00e1\", \"col_token\": \"003 tudo\"}, {\"row\": 4, \"column\": 4, \"value\": 0.786279022693634, \"row_token\": \"004 est\\u00e1\", \"col_token\": \"004 est\\u00e1\"}, {\"row\": 4, \"column\": 5, \"value\": 0.0, \"row_token\": \"004 est\\u00e1\", \"col_token\": \"005 estranho\"}, {\"row\": 4, \"column\": 6, \"value\": 0.0, \"row_token\": \"004 est\\u00e1\", \"col_token\": \"006 hoje\"}, {\"row\": 4, \"column\": 7, \"value\": 0.0, \"row_token\": \"004 est\\u00e1\", \"col_token\": \"007 !\\\"\"}, {\"row\": 5, \"column\": 0, \"value\": 0.013473983854055405, \"row_token\": \"005 estranho\", \"col_token\": \"000 [SOS]\"}, {\"row\": 5, \"column\": 1, \"value\": 0.20775441825389862, \"row_token\": \"005 estranho\", \"col_token\": \"001 Entretanto\"}, {\"row\": 5, \"column\": 2, \"value\": 0.01936594396829605, \"row_token\": \"005 estranho\", \"col_token\": \"002 ,\"}, {\"row\": 5, \"column\": 3, \"value\": 0.3550717830657959, \"row_token\": \"005 estranho\", \"col_token\": \"003 tudo\"}, {\"row\": 5, \"column\": 4, \"value\": 0.2073170691728592, \"row_token\": \"005 estranho\", \"col_token\": \"004 est\\u00e1\"}, {\"row\": 5, \"column\": 5, \"value\": 0.3081279397010803, \"row_token\": \"005 estranho\", \"col_token\": \"005 estranho\"}, {\"row\": 5, \"column\": 6, \"value\": 0.0, \"row_token\": \"005 estranho\", \"col_token\": \"006 hoje\"}, {\"row\": 5, \"column\": 7, \"value\": 0.0, \"row_token\": \"005 estranho\", \"col_token\": \"007 !\\\"\"}, {\"row\": 6, \"column\": 0, \"value\": 0.003293567104265094, \"row_token\": \"006 hoje\", \"col_token\": \"000 [SOS]\"}, {\"row\": 6, \"column\": 1, \"value\": 0.22450563311576843, \"row_token\": \"006 hoje\", \"col_token\": \"001 Entretanto\"}, {\"row\": 6, \"column\": 2, \"value\": 0.003649319987744093, \"row_token\": \"006 hoje\", \"col_token\": \"002 ,\"}, {\"row\": 6, \"column\": 3, \"value\": 0.15157964825630188, \"row_token\": \"006 hoje\", \"col_token\": \"003 tudo\"}, {\"row\": 6, \"column\": 4, \"value\": 0.12224733829498291, \"row_token\": \"006 hoje\", \"col_token\": \"004 est\\u00e1\"}, {\"row\": 6, \"column\": 5, \"value\": 0.22052259743213654, \"row_token\": \"006 hoje\", \"col_token\": \"005 estranho\"}, {\"row\": 6, \"column\": 6, \"value\": 0.3853130638599396, \"row_token\": \"006 hoje\", \"col_token\": \"006 hoje\"}, {\"row\": 6, \"column\": 7, \"value\": 0.0, \"row_token\": \"006 hoje\", \"col_token\": \"007 !\\\"\"}, {\"row\": 7, \"column\": 0, \"value\": 0.009463775902986526, \"row_token\": \"007 !\\\"\", \"col_token\": \"000 [SOS]\"}, {\"row\": 7, \"column\": 1, \"value\": 0.024535302072763443, \"row_token\": \"007 !\\\"\", \"col_token\": \"001 Entretanto\"}, {\"row\": 7, \"column\": 2, \"value\": 0.0, \"row_token\": \"007 !\\\"\", \"col_token\": \"002 ,\"}, {\"row\": 7, \"column\": 3, \"value\": 0.0, \"row_token\": \"007 !\\\"\", \"col_token\": \"003 tudo\"}, {\"row\": 7, \"column\": 4, \"value\": 0.12169145047664642, \"row_token\": \"007 !\\\"\", \"col_token\": \"004 est\\u00e1\"}, {\"row\": 7, \"column\": 5, \"value\": 0.3570064604282379, \"row_token\": \"007 !\\\"\", \"col_token\": \"005 estranho\"}, {\"row\": 7, \"column\": 6, \"value\": 0.14170624315738678, \"row_token\": \"007 !\\\"\", \"col_token\": \"006 hoje\"}, {\"row\": 7, \"column\": 7, \"value\": 0.2211495041847229, \"row_token\": \"007 !\\\"\", \"col_token\": \"007 !\\\"\"}], \"data-4605e68204a18ea990975479fd941267\": [{\"row\": 0, \"column\": 0, \"value\": 1.1111111640930176, \"row_token\": \"000 [SOS]\", \"col_token\": \"000 [SOS]\"}, {\"row\": 0, \"column\": 1, \"value\": 0.0, \"row_token\": \"000 [SOS]\", \"col_token\": \"001 Entretanto\"}, {\"row\": 0, \"column\": 2, \"value\": 0.0, \"row_token\": \"000 [SOS]\", \"col_token\": \"002 ,\"}, {\"row\": 0, \"column\": 3, \"value\": 0.0, \"row_token\": \"000 [SOS]\", \"col_token\": \"003 tudo\"}, {\"row\": 0, \"column\": 4, \"value\": 0.0, \"row_token\": \"000 [SOS]\", \"col_token\": \"004 est\\u00e1\"}, {\"row\": 0, \"column\": 5, \"value\": 0.0, \"row_token\": \"000 [SOS]\", \"col_token\": \"005 estranho\"}, {\"row\": 0, \"column\": 6, \"value\": 0.0, \"row_token\": \"000 [SOS]\", \"col_token\": \"006 hoje\"}, {\"row\": 0, \"column\": 7, \"value\": 0.0, \"row_token\": \"000 [SOS]\", \"col_token\": \"007 !\\\"\"}, {\"row\": 1, \"column\": 0, \"value\": 0.01699184812605381, \"row_token\": \"001 Entretanto\", \"col_token\": \"000 [SOS]\"}, {\"row\": 1, \"column\": 1, \"value\": 1.0941194295883179, \"row_token\": \"001 Entretanto\", \"col_token\": \"001 Entretanto\"}, {\"row\": 1, \"column\": 2, \"value\": 0.0, \"row_token\": \"001 Entretanto\", \"col_token\": \"002 ,\"}, {\"row\": 1, \"column\": 3, \"value\": 0.0, \"row_token\": \"001 Entretanto\", \"col_token\": \"003 tudo\"}, {\"row\": 1, \"column\": 4, \"value\": 0.0, \"row_token\": \"001 Entretanto\", \"col_token\": \"004 est\\u00e1\"}, {\"row\": 1, \"column\": 5, \"value\": 0.0, \"row_token\": \"001 Entretanto\", \"col_token\": \"005 estranho\"}, {\"row\": 1, \"column\": 6, \"value\": 0.0, \"row_token\": \"001 Entretanto\", \"col_token\": \"006 hoje\"}, {\"row\": 1, \"column\": 7, \"value\": 0.0, \"row_token\": \"001 Entretanto\", \"col_token\": \"007 !\\\"\"}, {\"row\": 2, \"column\": 0, \"value\": 0.275524377822876, \"row_token\": \"002 ,\", \"col_token\": \"000 [SOS]\"}, {\"row\": 2, \"column\": 1, \"value\": 0.19403846561908722, \"row_token\": \"002 ,\", \"col_token\": \"001 Entretanto\"}, {\"row\": 2, \"column\": 2, \"value\": 0.0, \"row_token\": \"002 ,\", \"col_token\": \"002 ,\"}, {\"row\": 2, \"column\": 3, \"value\": 0.0, \"row_token\": \"002 ,\", \"col_token\": \"003 tudo\"}, {\"row\": 2, \"column\": 4, \"value\": 0.0, \"row_token\": \"002 ,\", \"col_token\": \"004 est\\u00e1\"}, {\"row\": 2, \"column\": 5, \"value\": 0.0, \"row_token\": \"002 ,\", \"col_token\": \"005 estranho\"}, {\"row\": 2, \"column\": 6, \"value\": 0.0, \"row_token\": \"002 ,\", \"col_token\": \"006 hoje\"}, {\"row\": 2, \"column\": 7, \"value\": 0.0, \"row_token\": \"002 ,\", \"col_token\": \"007 !\\\"\"}, {\"row\": 3, \"column\": 0, \"value\": 0.006549993995577097, \"row_token\": \"003 tudo\", \"col_token\": \"000 [SOS]\"}, {\"row\": 3, \"column\": 1, \"value\": 0.013711429201066494, \"row_token\": \"003 tudo\", \"col_token\": \"001 Entretanto\"}, {\"row\": 3, \"column\": 2, \"value\": 0.014427099376916885, \"row_token\": \"003 tudo\", \"col_token\": \"002 ,\"}, {\"row\": 3, \"column\": 3, \"value\": 1.0764226913452148, \"row_token\": \"003 tudo\", \"col_token\": \"003 tudo\"}, {\"row\": 3, \"column\": 4, \"value\": 0.0, \"row_token\": \"003 tudo\", \"col_token\": \"004 est\\u00e1\"}, {\"row\": 3, \"column\": 5, \"value\": 0.0, \"row_token\": \"003 tudo\", \"col_token\": \"005 estranho\"}, {\"row\": 3, \"column\": 6, \"value\": 0.0, \"row_token\": \"003 tudo\", \"col_token\": \"006 hoje\"}, {\"row\": 3, \"column\": 7, \"value\": 0.0, \"row_token\": \"003 tudo\", \"col_token\": \"007 !\\\"\"}, {\"row\": 4, \"column\": 0, \"value\": 0.0, \"row_token\": \"004 est\\u00e1\", \"col_token\": \"000 [SOS]\"}, {\"row\": 4, \"column\": 1, \"value\": 0.12839458882808685, \"row_token\": \"004 est\\u00e1\", \"col_token\": \"001 Entretanto\"}, {\"row\": 4, \"column\": 2, \"value\": 0.10146031528711319, \"row_token\": \"004 est\\u00e1\", \"col_token\": \"002 ,\"}, {\"row\": 4, \"column\": 3, \"value\": 0.44325873255729675, \"row_token\": \"004 est\\u00e1\", \"col_token\": \"003 tudo\"}, {\"row\": 4, \"column\": 4, \"value\": 0.1438998281955719, \"row_token\": \"004 est\\u00e1\", \"col_token\": \"004 est\\u00e1\"}, {\"row\": 4, \"column\": 5, \"value\": 0.0, \"row_token\": \"004 est\\u00e1\", \"col_token\": \"005 estranho\"}, {\"row\": 4, \"column\": 6, \"value\": 0.0, \"row_token\": \"004 est\\u00e1\", \"col_token\": \"006 hoje\"}, {\"row\": 4, \"column\": 7, \"value\": 0.0, \"row_token\": \"004 est\\u00e1\", \"col_token\": \"007 !\\\"\"}, {\"row\": 5, \"column\": 0, \"value\": 0.033747706562280655, \"row_token\": \"005 estranho\", \"col_token\": \"000 [SOS]\"}, {\"row\": 5, \"column\": 1, \"value\": 0.0, \"row_token\": \"005 estranho\", \"col_token\": \"001 Entretanto\"}, {\"row\": 5, \"column\": 2, \"value\": 0.023484839126467705, \"row_token\": \"005 estranho\", \"col_token\": \"002 ,\"}, {\"row\": 5, \"column\": 3, \"value\": 0.34414225816726685, \"row_token\": \"005 estranho\", \"col_token\": \"003 tudo\"}, {\"row\": 5, \"column\": 4, \"value\": 0.0, \"row_token\": \"005 estranho\", \"col_token\": \"004 est\\u00e1\"}, {\"row\": 5, \"column\": 5, \"value\": 0.1191357970237732, \"row_token\": \"005 estranho\", \"col_token\": \"005 estranho\"}, {\"row\": 5, \"column\": 6, \"value\": 0.0, \"row_token\": \"005 estranho\", \"col_token\": \"006 hoje\"}, {\"row\": 5, \"column\": 7, \"value\": 0.0, \"row_token\": \"005 estranho\", \"col_token\": \"007 !\\\"\"}, {\"row\": 6, \"column\": 0, \"value\": 0.019049443304538727, \"row_token\": \"006 hoje\", \"col_token\": \"000 [SOS]\"}, {\"row\": 6, \"column\": 1, \"value\": 0.034533072263002396, \"row_token\": \"006 hoje\", \"col_token\": \"001 Entretanto\"}, {\"row\": 6, \"column\": 2, \"value\": 0.06175859272480011, \"row_token\": \"006 hoje\", \"col_token\": \"002 ,\"}, {\"row\": 6, \"column\": 3, \"value\": 0.26765838265419006, \"row_token\": \"006 hoje\", \"col_token\": \"003 tudo\"}, {\"row\": 6, \"column\": 4, \"value\": 0.21734045445919037, \"row_token\": \"006 hoje\", \"col_token\": \"004 est\\u00e1\"}, {\"row\": 6, \"column\": 5, \"value\": 0.3511645197868347, \"row_token\": \"006 hoje\", \"col_token\": \"005 estranho\"}, {\"row\": 6, \"column\": 6, \"value\": 0.1596066951751709, \"row_token\": \"006 hoje\", \"col_token\": \"006 hoje\"}, {\"row\": 6, \"column\": 7, \"value\": 0.0, \"row_token\": \"006 hoje\", \"col_token\": \"007 !\\\"\"}, {\"row\": 7, \"column\": 0, \"value\": 0.001257934607565403, \"row_token\": \"007 !\\\"\", \"col_token\": \"000 [SOS]\"}, {\"row\": 7, \"column\": 1, \"value\": 0.0783069059252739, \"row_token\": \"007 !\\\"\", \"col_token\": \"001 Entretanto\"}, {\"row\": 7, \"column\": 2, \"value\": 0.009855737909674644, \"row_token\": \"007 !\\\"\", \"col_token\": \"002 ,\"}, {\"row\": 7, \"column\": 3, \"value\": 0.16909916698932648, \"row_token\": \"007 !\\\"\", \"col_token\": \"003 tudo\"}, {\"row\": 7, \"column\": 4, \"value\": 0.33565470576286316, \"row_token\": \"007 !\\\"\", \"col_token\": \"004 est\\u00e1\"}, {\"row\": 7, \"column\": 5, \"value\": 0.026538319885730743, \"row_token\": \"007 !\\\"\", \"col_token\": \"005 estranho\"}, {\"row\": 7, \"column\": 6, \"value\": 0.3153817653656006, \"row_token\": \"007 !\\\"\", \"col_token\": \"006 hoje\"}, {\"row\": 7, \"column\": 7, \"value\": 0.1750165969133377, \"row_token\": \"007 !\\\"\", \"col_token\": \"007 !\\\"\"}], \"data-b93c2153c3180447723cd6696f8dfc8f\": [{\"row\": 0, \"column\": 0, \"value\": 0.0, \"row_token\": \"000 [SOS]\", \"col_token\": \"000 [SOS]\"}, {\"row\": 0, \"column\": 1, \"value\": 0.0, \"row_token\": \"000 [SOS]\", \"col_token\": \"001 Entretanto\"}, {\"row\": 0, \"column\": 2, \"value\": 0.0, \"row_token\": \"000 [SOS]\", \"col_token\": \"002 ,\"}, {\"row\": 0, \"column\": 3, \"value\": 0.0, \"row_token\": \"000 [SOS]\", \"col_token\": \"003 tudo\"}, {\"row\": 0, \"column\": 4, \"value\": 0.0, \"row_token\": \"000 [SOS]\", \"col_token\": \"004 est\\u00e1\"}, {\"row\": 0, \"column\": 5, \"value\": 0.0, \"row_token\": \"000 [SOS]\", \"col_token\": \"005 estranho\"}, {\"row\": 0, \"column\": 6, \"value\": 0.0, \"row_token\": \"000 [SOS]\", \"col_token\": \"006 hoje\"}, {\"row\": 0, \"column\": 7, \"value\": 0.0, \"row_token\": \"000 [SOS]\", \"col_token\": \"007 !\\\"\"}, {\"row\": 1, \"column\": 0, \"value\": 0.031223701313138008, \"row_token\": \"001 Entretanto\", \"col_token\": \"000 [SOS]\"}, {\"row\": 1, \"column\": 1, \"value\": 0.0, \"row_token\": \"001 Entretanto\", \"col_token\": \"001 Entretanto\"}, {\"row\": 1, \"column\": 2, \"value\": 0.0, \"row_token\": \"001 Entretanto\", \"col_token\": \"002 ,\"}, {\"row\": 1, \"column\": 3, \"value\": 0.0, \"row_token\": \"001 Entretanto\", \"col_token\": \"003 tudo\"}, {\"row\": 1, \"column\": 4, \"value\": 0.0, \"row_token\": \"001 Entretanto\", \"col_token\": \"004 est\\u00e1\"}, {\"row\": 1, \"column\": 5, \"value\": 0.0, \"row_token\": \"001 Entretanto\", \"col_token\": \"005 estranho\"}, {\"row\": 1, \"column\": 6, \"value\": 0.0, \"row_token\": \"001 Entretanto\", \"col_token\": \"006 hoje\"}, {\"row\": 1, \"column\": 7, \"value\": 0.0, \"row_token\": \"001 Entretanto\", \"col_token\": \"007 !\\\"\"}, {\"row\": 2, \"column\": 0, \"value\": 0.0, \"row_token\": \"002 ,\", \"col_token\": \"000 [SOS]\"}, {\"row\": 2, \"column\": 1, \"value\": 1.0957934856414795, \"row_token\": \"002 ,\", \"col_token\": \"001 Entretanto\"}, {\"row\": 2, \"column\": 2, \"value\": 0.01296879444271326, \"row_token\": \"002 ,\", \"col_token\": \"002 ,\"}, {\"row\": 2, \"column\": 3, \"value\": 0.0, \"row_token\": \"002 ,\", \"col_token\": \"003 tudo\"}, {\"row\": 2, \"column\": 4, \"value\": 0.0, \"row_token\": \"002 ,\", \"col_token\": \"004 est\\u00e1\"}, {\"row\": 2, \"column\": 5, \"value\": 0.0, \"row_token\": \"002 ,\", \"col_token\": \"005 estranho\"}, {\"row\": 2, \"column\": 6, \"value\": 0.0, \"row_token\": \"002 ,\", \"col_token\": \"006 hoje\"}, {\"row\": 2, \"column\": 7, \"value\": 0.0, \"row_token\": \"002 ,\", \"col_token\": \"007 !\\\"\"}, {\"row\": 3, \"column\": 0, \"value\": 0.0023706997744739056, \"row_token\": \"003 tudo\", \"col_token\": \"000 [SOS]\"}, {\"row\": 3, \"column\": 1, \"value\": 0.8540903329849243, \"row_token\": \"003 tudo\", \"col_token\": \"001 Entretanto\"}, {\"row\": 3, \"column\": 2, \"value\": 0.07821384817361832, \"row_token\": \"003 tudo\", \"col_token\": \"002 ,\"}, {\"row\": 3, \"column\": 3, \"value\": 0.17643633484840393, \"row_token\": \"003 tudo\", \"col_token\": \"003 tudo\"}, {\"row\": 3, \"column\": 4, \"value\": 0.0, \"row_token\": \"003 tudo\", \"col_token\": \"004 est\\u00e1\"}, {\"row\": 3, \"column\": 5, \"value\": 0.0, \"row_token\": \"003 tudo\", \"col_token\": \"005 estranho\"}, {\"row\": 3, \"column\": 6, \"value\": 0.0, \"row_token\": \"003 tudo\", \"col_token\": \"006 hoje\"}, {\"row\": 3, \"column\": 7, \"value\": 0.0, \"row_token\": \"003 tudo\", \"col_token\": \"007 !\\\"\"}, {\"row\": 4, \"column\": 0, \"value\": 0.002621918451040983, \"row_token\": \"004 est\\u00e1\", \"col_token\": \"000 [SOS]\"}, {\"row\": 4, \"column\": 1, \"value\": 0.2137535810470581, \"row_token\": \"004 est\\u00e1\", \"col_token\": \"001 Entretanto\"}, {\"row\": 4, \"column\": 2, \"value\": 0.023526867851614952, \"row_token\": \"004 est\\u00e1\", \"col_token\": \"002 ,\"}, {\"row\": 4, \"column\": 3, \"value\": 0.24232718348503113, \"row_token\": \"004 est\\u00e1\", \"col_token\": \"003 tudo\"}, {\"row\": 4, \"column\": 4, \"value\": 0.6288816332817078, \"row_token\": \"004 est\\u00e1\", \"col_token\": \"004 est\\u00e1\"}, {\"row\": 4, \"column\": 5, \"value\": 0.0, \"row_token\": \"004 est\\u00e1\", \"col_token\": \"005 estranho\"}, {\"row\": 4, \"column\": 6, \"value\": 0.0, \"row_token\": \"004 est\\u00e1\", \"col_token\": \"006 hoje\"}, {\"row\": 4, \"column\": 7, \"value\": 0.0, \"row_token\": \"004 est\\u00e1\", \"col_token\": \"007 !\\\"\"}, {\"row\": 5, \"column\": 0, \"value\": 0.002810500096529722, \"row_token\": \"005 estranho\", \"col_token\": \"000 [SOS]\"}, {\"row\": 5, \"column\": 1, \"value\": 0.13917770981788635, \"row_token\": \"005 estranho\", \"col_token\": \"001 Entretanto\"}, {\"row\": 5, \"column\": 2, \"value\": 0.005012031178921461, \"row_token\": \"005 estranho\", \"col_token\": \"002 ,\"}, {\"row\": 5, \"column\": 3, \"value\": 0.13859891891479492, \"row_token\": \"005 estranho\", \"col_token\": \"003 tudo\"}, {\"row\": 5, \"column\": 4, \"value\": 0.5300453305244446, \"row_token\": \"005 estranho\", \"col_token\": \"004 est\\u00e1\"}, {\"row\": 5, \"column\": 5, \"value\": 0.2954666018486023, \"row_token\": \"005 estranho\", \"col_token\": \"005 estranho\"}, {\"row\": 5, \"column\": 6, \"value\": 0.0, \"row_token\": \"005 estranho\", \"col_token\": \"006 hoje\"}, {\"row\": 5, \"column\": 7, \"value\": 0.0, \"row_token\": \"005 estranho\", \"col_token\": \"007 !\\\"\"}, {\"row\": 6, \"column\": 0, \"value\": 0.0004175753565505147, \"row_token\": \"006 hoje\", \"col_token\": \"000 [SOS]\"}, {\"row\": 6, \"column\": 1, \"value\": 0.04514499008655548, \"row_token\": \"006 hoje\", \"col_token\": \"001 Entretanto\"}, {\"row\": 6, \"column\": 2, \"value\": 0.012896526604890823, \"row_token\": \"006 hoje\", \"col_token\": \"002 ,\"}, {\"row\": 6, \"column\": 3, \"value\": 0.3019756078720093, \"row_token\": \"006 hoje\", \"col_token\": \"003 tudo\"}, {\"row\": 6, \"column\": 4, \"value\": 0.2572885751724243, \"row_token\": \"006 hoje\", \"col_token\": \"004 est\\u00e1\"}, {\"row\": 6, \"column\": 5, \"value\": 0.04036836698651314, \"row_token\": \"006 hoje\", \"col_token\": \"005 estranho\"}, {\"row\": 6, \"column\": 6, \"value\": 0.45301946997642517, \"row_token\": \"006 hoje\", \"col_token\": \"006 hoje\"}, {\"row\": 6, \"column\": 7, \"value\": 0.0, \"row_token\": \"006 hoje\", \"col_token\": \"007 !\\\"\"}, {\"row\": 7, \"column\": 0, \"value\": 0.0, \"row_token\": \"007 !\\\"\", \"col_token\": \"000 [SOS]\"}, {\"row\": 7, \"column\": 1, \"value\": 0.04211358353495598, \"row_token\": \"007 !\\\"\", \"col_token\": \"001 Entretanto\"}, {\"row\": 7, \"column\": 2, \"value\": 0.07750169932842255, \"row_token\": \"007 !\\\"\", \"col_token\": \"002 ,\"}, {\"row\": 7, \"column\": 3, \"value\": 0.2905113995075226, \"row_token\": \"007 !\\\"\", \"col_token\": \"003 tudo\"}, {\"row\": 7, \"column\": 4, \"value\": 0.0, \"row_token\": \"007 !\\\"\", \"col_token\": \"004 est\\u00e1\"}, {\"row\": 7, \"column\": 5, \"value\": 0.15589353442192078, \"row_token\": \"007 !\\\"\", \"col_token\": \"005 estranho\"}, {\"row\": 7, \"column\": 6, \"value\": 0.054777584969997406, \"row_token\": \"007 !\\\"\", \"col_token\": \"006 hoje\"}, {\"row\": 7, \"column\": 7, \"value\": 0.21133339405059814, \"row_token\": \"007 !\\\"\", \"col_token\": \"007 !\\\"\"}], \"data-ca469901473add15d0df94fe68bab806\": [{\"row\": 0, \"column\": 0, \"value\": 1.1111111640930176, \"row_token\": \"000 [SOS]\", \"col_token\": \"000 [SOS]\"}, {\"row\": 0, \"column\": 1, \"value\": 0.0, \"row_token\": \"000 [SOS]\", \"col_token\": \"001 Entretanto\"}, {\"row\": 0, \"column\": 2, \"value\": 0.0, \"row_token\": \"000 [SOS]\", \"col_token\": \"002 ,\"}, {\"row\": 0, \"column\": 3, \"value\": 0.0, \"row_token\": \"000 [SOS]\", \"col_token\": \"003 tudo\"}, {\"row\": 0, \"column\": 4, \"value\": 0.0, \"row_token\": \"000 [SOS]\", \"col_token\": \"004 est\\u00e1\"}, {\"row\": 0, \"column\": 5, \"value\": 0.0, \"row_token\": \"000 [SOS]\", \"col_token\": \"005 estranho\"}, {\"row\": 0, \"column\": 6, \"value\": 0.0, \"row_token\": \"000 [SOS]\", \"col_token\": \"006 hoje\"}, {\"row\": 0, \"column\": 7, \"value\": 0.0, \"row_token\": \"000 [SOS]\", \"col_token\": \"007 !\\\"\"}, {\"row\": 1, \"column\": 0, \"value\": 0.0015630602138116956, \"row_token\": \"001 Entretanto\", \"col_token\": \"000 [SOS]\"}, {\"row\": 1, \"column\": 1, \"value\": 0.0, \"row_token\": \"001 Entretanto\", \"col_token\": \"001 Entretanto\"}, {\"row\": 1, \"column\": 2, \"value\": 0.0, \"row_token\": \"001 Entretanto\", \"col_token\": \"002 ,\"}, {\"row\": 1, \"column\": 3, \"value\": 0.0, \"row_token\": \"001 Entretanto\", \"col_token\": \"003 tudo\"}, {\"row\": 1, \"column\": 4, \"value\": 0.0, \"row_token\": \"001 Entretanto\", \"col_token\": \"004 est\\u00e1\"}, {\"row\": 1, \"column\": 5, \"value\": 0.0, \"row_token\": \"001 Entretanto\", \"col_token\": \"005 estranho\"}, {\"row\": 1, \"column\": 6, \"value\": 0.0, \"row_token\": \"001 Entretanto\", \"col_token\": \"006 hoje\"}, {\"row\": 1, \"column\": 7, \"value\": 0.0, \"row_token\": \"001 Entretanto\", \"col_token\": \"007 !\\\"\"}, {\"row\": 2, \"column\": 0, \"value\": 0.0035224193707108498, \"row_token\": \"002 ,\", \"col_token\": \"000 [SOS]\"}, {\"row\": 2, \"column\": 1, \"value\": 1.0996476411819458, \"row_token\": \"002 ,\", \"col_token\": \"001 Entretanto\"}, {\"row\": 2, \"column\": 2, \"value\": 0.007941119372844696, \"row_token\": \"002 ,\", \"col_token\": \"002 ,\"}, {\"row\": 2, \"column\": 3, \"value\": 0.0, \"row_token\": \"002 ,\", \"col_token\": \"003 tudo\"}, {\"row\": 2, \"column\": 4, \"value\": 0.0, \"row_token\": \"002 ,\", \"col_token\": \"004 est\\u00e1\"}, {\"row\": 2, \"column\": 5, \"value\": 0.0, \"row_token\": \"002 ,\", \"col_token\": \"005 estranho\"}, {\"row\": 2, \"column\": 6, \"value\": 0.0, \"row_token\": \"002 ,\", \"col_token\": \"006 hoje\"}, {\"row\": 2, \"column\": 7, \"value\": 0.0, \"row_token\": \"002 ,\", \"col_token\": \"007 !\\\"\"}, {\"row\": 3, \"column\": 0, \"value\": 0.009772034361958504, \"row_token\": \"003 tudo\", \"col_token\": \"000 [SOS]\"}, {\"row\": 3, \"column\": 1, \"value\": 0.4385361671447754, \"row_token\": \"003 tudo\", \"col_token\": \"001 Entretanto\"}, {\"row\": 3, \"column\": 2, \"value\": 0.1684628576040268, \"row_token\": \"003 tudo\", \"col_token\": \"002 ,\"}, {\"row\": 3, \"column\": 3, \"value\": 0.49434012174606323, \"row_token\": \"003 tudo\", \"col_token\": \"003 tudo\"}, {\"row\": 3, \"column\": 4, \"value\": 0.0, \"row_token\": \"003 tudo\", \"col_token\": \"004 est\\u00e1\"}, {\"row\": 3, \"column\": 5, \"value\": 0.0, \"row_token\": \"003 tudo\", \"col_token\": \"005 estranho\"}, {\"row\": 3, \"column\": 6, \"value\": 0.0, \"row_token\": \"003 tudo\", \"col_token\": \"006 hoje\"}, {\"row\": 3, \"column\": 7, \"value\": 0.0, \"row_token\": \"003 tudo\", \"col_token\": \"007 !\\\"\"}, {\"row\": 4, \"column\": 0, \"value\": 0.010351618751883507, \"row_token\": \"004 est\\u00e1\", \"col_token\": \"000 [SOS]\"}, {\"row\": 4, \"column\": 1, \"value\": 0.1999778300523758, \"row_token\": \"004 est\\u00e1\", \"col_token\": \"001 Entretanto\"}, {\"row\": 4, \"column\": 2, \"value\": 0.02757783606648445, \"row_token\": \"004 est\\u00e1\", \"col_token\": \"002 ,\"}, {\"row\": 4, \"column\": 3, \"value\": 0.1844681203365326, \"row_token\": \"004 est\\u00e1\", \"col_token\": \"003 tudo\"}, {\"row\": 4, \"column\": 4, \"value\": 0.6887357234954834, \"row_token\": \"004 est\\u00e1\", \"col_token\": \"004 est\\u00e1\"}, {\"row\": 4, \"column\": 5, \"value\": 0.0, \"row_token\": \"004 est\\u00e1\", \"col_token\": \"005 estranho\"}, {\"row\": 4, \"column\": 6, \"value\": 0.0, \"row_token\": \"004 est\\u00e1\", \"col_token\": \"006 hoje\"}, {\"row\": 4, \"column\": 7, \"value\": 0.0, \"row_token\": \"004 est\\u00e1\", \"col_token\": \"007 !\\\"\"}, {\"row\": 5, \"column\": 0, \"value\": 0.018618721514940262, \"row_token\": \"005 estranho\", \"col_token\": \"000 [SOS]\"}, {\"row\": 5, \"column\": 1, \"value\": 0.0, \"row_token\": \"005 estranho\", \"col_token\": \"001 Entretanto\"}, {\"row\": 5, \"column\": 2, \"value\": 0.0, \"row_token\": \"005 estranho\", \"col_token\": \"002 ,\"}, {\"row\": 5, \"column\": 3, \"value\": 0.2144583761692047, \"row_token\": \"005 estranho\", \"col_token\": \"003 tudo\"}, {\"row\": 5, \"column\": 4, \"value\": 0.15871915221214294, \"row_token\": \"005 estranho\", \"col_token\": \"004 est\\u00e1\"}, {\"row\": 5, \"column\": 5, \"value\": 0.3570430278778076, \"row_token\": \"005 estranho\", \"col_token\": \"005 estranho\"}, {\"row\": 5, \"column\": 6, \"value\": 0.0, \"row_token\": \"005 estranho\", \"col_token\": \"006 hoje\"}, {\"row\": 5, \"column\": 7, \"value\": 0.0, \"row_token\": \"005 estranho\", \"col_token\": \"007 !\\\"\"}, {\"row\": 6, \"column\": 0, \"value\": 0.0023316892329603434, \"row_token\": \"006 hoje\", \"col_token\": \"000 [SOS]\"}, {\"row\": 6, \"column\": 1, \"value\": 0.37852686643600464, \"row_token\": \"006 hoje\", \"col_token\": \"001 Entretanto\"}, {\"row\": 6, \"column\": 2, \"value\": 0.03754263371229172, \"row_token\": \"006 hoje\", \"col_token\": \"002 ,\"}, {\"row\": 6, \"column\": 3, \"value\": 0.27572762966156006, \"row_token\": \"006 hoje\", \"col_token\": \"003 tudo\"}, {\"row\": 6, \"column\": 4, \"value\": 0.03759733587503433, \"row_token\": \"006 hoje\", \"col_token\": \"004 est\\u00e1\"}, {\"row\": 6, \"column\": 5, \"value\": 0.13059739768505096, \"row_token\": \"006 hoje\", \"col_token\": \"005 estranho\"}, {\"row\": 6, \"column\": 6, \"value\": 0.24878762662410736, \"row_token\": \"006 hoje\", \"col_token\": \"006 hoje\"}, {\"row\": 6, \"column\": 7, \"value\": 0.0, \"row_token\": \"006 hoje\", \"col_token\": \"007 !\\\"\"}, {\"row\": 7, \"column\": 0, \"value\": 0.007500289473682642, \"row_token\": \"007 !\\\"\", \"col_token\": \"000 [SOS]\"}, {\"row\": 7, \"column\": 1, \"value\": 0.19237276911735535, \"row_token\": \"007 !\\\"\", \"col_token\": \"001 Entretanto\"}, {\"row\": 7, \"column\": 2, \"value\": 0.1606042981147766, \"row_token\": \"007 !\\\"\", \"col_token\": \"002 ,\"}, {\"row\": 7, \"column\": 3, \"value\": 0.31931543350219727, \"row_token\": \"007 !\\\"\", \"col_token\": \"003 tudo\"}, {\"row\": 7, \"column\": 4, \"value\": 0.08870856463909149, \"row_token\": \"007 !\\\"\", \"col_token\": \"004 est\\u00e1\"}, {\"row\": 7, \"column\": 5, \"value\": 0.08003059029579163, \"row_token\": \"007 !\\\"\", \"col_token\": \"005 estranho\"}, {\"row\": 7, \"column\": 6, \"value\": 0.17952194809913635, \"row_token\": \"007 !\\\"\", \"col_token\": \"006 hoje\"}, {\"row\": 7, \"column\": 7, \"value\": 0.08305729180574417, \"row_token\": \"007 !\\\"\", \"col_token\": \"007 !\\\"\"}], \"data-6d3342cd0ae644f54ca8dac42eb7f7ce\": [{\"row\": 0, \"column\": 0, \"value\": 1.1111111640930176, \"row_token\": \"000 [SOS]\", \"col_token\": \"000 [SOS]\"}, {\"row\": 0, \"column\": 1, \"value\": 0.0, \"row_token\": \"000 [SOS]\", \"col_token\": \"001 Entretanto\"}, {\"row\": 0, \"column\": 2, \"value\": 0.0, \"row_token\": \"000 [SOS]\", \"col_token\": \"002 ,\"}, {\"row\": 0, \"column\": 3, \"value\": 0.0, \"row_token\": \"000 [SOS]\", \"col_token\": \"003 tudo\"}, {\"row\": 0, \"column\": 4, \"value\": 0.0, \"row_token\": \"000 [SOS]\", \"col_token\": \"004 est\\u00e1\"}, {\"row\": 0, \"column\": 5, \"value\": 0.0, \"row_token\": \"000 [SOS]\", \"col_token\": \"005 estranho\"}, {\"row\": 0, \"column\": 6, \"value\": 0.0, \"row_token\": \"000 [SOS]\", \"col_token\": \"006 hoje\"}, {\"row\": 0, \"column\": 7, \"value\": 0.0, \"row_token\": \"000 [SOS]\", \"col_token\": \"007 !\\\"\"}, {\"row\": 1, \"column\": 0, \"value\": 0.09643936157226562, \"row_token\": \"001 Entretanto\", \"col_token\": \"000 [SOS]\"}, {\"row\": 1, \"column\": 1, \"value\": 1.014671802520752, \"row_token\": \"001 Entretanto\", \"col_token\": \"001 Entretanto\"}, {\"row\": 1, \"column\": 2, \"value\": 0.0, \"row_token\": \"001 Entretanto\", \"col_token\": \"002 ,\"}, {\"row\": 1, \"column\": 3, \"value\": 0.0, \"row_token\": \"001 Entretanto\", \"col_token\": \"003 tudo\"}, {\"row\": 1, \"column\": 4, \"value\": 0.0, \"row_token\": \"001 Entretanto\", \"col_token\": \"004 est\\u00e1\"}, {\"row\": 1, \"column\": 5, \"value\": 0.0, \"row_token\": \"001 Entretanto\", \"col_token\": \"005 estranho\"}, {\"row\": 1, \"column\": 6, \"value\": 0.0, \"row_token\": \"001 Entretanto\", \"col_token\": \"006 hoje\"}, {\"row\": 1, \"column\": 7, \"value\": 0.0, \"row_token\": \"001 Entretanto\", \"col_token\": \"007 !\\\"\"}, {\"row\": 2, \"column\": 0, \"value\": 0.02364116720855236, \"row_token\": \"002 ,\", \"col_token\": \"000 [SOS]\"}, {\"row\": 2, \"column\": 1, \"value\": 0.9286266565322876, \"row_token\": \"002 ,\", \"col_token\": \"001 Entretanto\"}, {\"row\": 2, \"column\": 2, \"value\": 0.15884338319301605, \"row_token\": \"002 ,\", \"col_token\": \"002 ,\"}, {\"row\": 2, \"column\": 3, \"value\": 0.0, \"row_token\": \"002 ,\", \"col_token\": \"003 tudo\"}, {\"row\": 2, \"column\": 4, \"value\": 0.0, \"row_token\": \"002 ,\", \"col_token\": \"004 est\\u00e1\"}, {\"row\": 2, \"column\": 5, \"value\": 0.0, \"row_token\": \"002 ,\", \"col_token\": \"005 estranho\"}, {\"row\": 2, \"column\": 6, \"value\": 0.0, \"row_token\": \"002 ,\", \"col_token\": \"006 hoje\"}, {\"row\": 2, \"column\": 7, \"value\": 0.0, \"row_token\": \"002 ,\", \"col_token\": \"007 !\\\"\"}, {\"row\": 3, \"column\": 0, \"value\": 0.02794545702636242, \"row_token\": \"003 tudo\", \"col_token\": \"000 [SOS]\"}, {\"row\": 3, \"column\": 1, \"value\": 0.45514538884162903, \"row_token\": \"003 tudo\", \"col_token\": \"001 Entretanto\"}, {\"row\": 3, \"column\": 2, \"value\": 0.0, \"row_token\": \"003 tudo\", \"col_token\": \"002 ,\"}, {\"row\": 3, \"column\": 3, \"value\": 0.25260990858078003, \"row_token\": \"003 tudo\", \"col_token\": \"003 tudo\"}, {\"row\": 3, \"column\": 4, \"value\": 0.0, \"row_token\": \"003 tudo\", \"col_token\": \"004 est\\u00e1\"}, {\"row\": 3, \"column\": 5, \"value\": 0.0, \"row_token\": \"003 tudo\", \"col_token\": \"005 estranho\"}, {\"row\": 3, \"column\": 6, \"value\": 0.0, \"row_token\": \"003 tudo\", \"col_token\": \"006 hoje\"}, {\"row\": 3, \"column\": 7, \"value\": 0.0, \"row_token\": \"003 tudo\", \"col_token\": \"007 !\\\"\"}, {\"row\": 4, \"column\": 0, \"value\": 0.02396635338664055, \"row_token\": \"004 est\\u00e1\", \"col_token\": \"000 [SOS]\"}, {\"row\": 4, \"column\": 1, \"value\": 0.26472634077072144, \"row_token\": \"004 est\\u00e1\", \"col_token\": \"001 Entretanto\"}, {\"row\": 4, \"column\": 2, \"value\": 0.0, \"row_token\": \"004 est\\u00e1\", \"col_token\": \"002 ,\"}, {\"row\": 4, \"column\": 3, \"value\": 0.49310746788978577, \"row_token\": \"004 est\\u00e1\", \"col_token\": \"003 tudo\"}, {\"row\": 4, \"column\": 4, \"value\": 0.12485810369253159, \"row_token\": \"004 est\\u00e1\", \"col_token\": \"004 est\\u00e1\"}, {\"row\": 4, \"column\": 5, \"value\": 0.0, \"row_token\": \"004 est\\u00e1\", \"col_token\": \"005 estranho\"}, {\"row\": 4, \"column\": 6, \"value\": 0.0, \"row_token\": \"004 est\\u00e1\", \"col_token\": \"006 hoje\"}, {\"row\": 4, \"column\": 7, \"value\": 0.0, \"row_token\": \"004 est\\u00e1\", \"col_token\": \"007 !\\\"\"}, {\"row\": 5, \"column\": 0, \"value\": 0.010173028334975243, \"row_token\": \"005 estranho\", \"col_token\": \"000 [SOS]\"}, {\"row\": 5, \"column\": 1, \"value\": 0.13675469160079956, \"row_token\": \"005 estranho\", \"col_token\": \"001 Entretanto\"}, {\"row\": 5, \"column\": 2, \"value\": 0.0, \"row_token\": \"005 estranho\", \"col_token\": \"002 ,\"}, {\"row\": 5, \"column\": 3, \"value\": 0.394731342792511, \"row_token\": \"005 estranho\", \"col_token\": \"003 tudo\"}, {\"row\": 5, \"column\": 4, \"value\": 0.42437130212783813, \"row_token\": \"005 estranho\", \"col_token\": \"004 est\\u00e1\"}, {\"row\": 5, \"column\": 5, \"value\": 0.07697008550167084, \"row_token\": \"005 estranho\", \"col_token\": \"005 estranho\"}, {\"row\": 5, \"column\": 6, \"value\": 0.0, \"row_token\": \"005 estranho\", \"col_token\": \"006 hoje\"}, {\"row\": 5, \"column\": 7, \"value\": 0.0, \"row_token\": \"005 estranho\", \"col_token\": \"007 !\\\"\"}, {\"row\": 6, \"column\": 0, \"value\": 0.005141963716596365, \"row_token\": \"006 hoje\", \"col_token\": \"000 [SOS]\"}, {\"row\": 6, \"column\": 1, \"value\": 0.3002238869667053, \"row_token\": \"006 hoje\", \"col_token\": \"001 Entretanto\"}, {\"row\": 6, \"column\": 2, \"value\": 0.0040351212956011295, \"row_token\": \"006 hoje\", \"col_token\": \"002 ,\"}, {\"row\": 6, \"column\": 3, \"value\": 0.2628251612186432, \"row_token\": \"006 hoje\", \"col_token\": \"003 tudo\"}, {\"row\": 6, \"column\": 4, \"value\": 0.2526143491268158, \"row_token\": \"006 hoje\", \"col_token\": \"004 est\\u00e1\"}, {\"row\": 6, \"column\": 5, \"value\": 0.0, \"row_token\": \"006 hoje\", \"col_token\": \"005 estranho\"}, {\"row\": 6, \"column\": 6, \"value\": 0.2278917133808136, \"row_token\": \"006 hoje\", \"col_token\": \"006 hoje\"}, {\"row\": 6, \"column\": 7, \"value\": 0.0, \"row_token\": \"006 hoje\", \"col_token\": \"007 !\\\"\"}, {\"row\": 7, \"column\": 0, \"value\": 0.17635728418827057, \"row_token\": \"007 !\\\"\", \"col_token\": \"000 [SOS]\"}, {\"row\": 7, \"column\": 1, \"value\": 0.19326362013816833, \"row_token\": \"007 !\\\"\", \"col_token\": \"001 Entretanto\"}, {\"row\": 7, \"column\": 2, \"value\": 0.0, \"row_token\": \"007 !\\\"\", \"col_token\": \"002 ,\"}, {\"row\": 7, \"column\": 3, \"value\": 0.0, \"row_token\": \"007 !\\\"\", \"col_token\": \"003 tudo\"}, {\"row\": 7, \"column\": 4, \"value\": 0.09793717414140701, \"row_token\": \"007 !\\\"\", \"col_token\": \"004 est\\u00e1\"}, {\"row\": 7, \"column\": 5, \"value\": 0.2376086413860321, \"row_token\": \"007 !\\\"\", \"col_token\": \"005 estranho\"}, {\"row\": 7, \"column\": 6, \"value\": 0.045084673911333084, \"row_token\": \"007 !\\\"\", \"col_token\": \"006 hoje\"}, {\"row\": 7, \"column\": 7, \"value\": 0.08153551071882248, \"row_token\": \"007 !\\\"\", \"col_token\": \"007 !\\\"\"}], \"data-e93d45d725cad0836f2b54769b44fceb\": [{\"row\": 0, \"column\": 0, \"value\": 1.1111111640930176, \"row_token\": \"000 [SOS]\", \"col_token\": \"000 [SOS]\"}, {\"row\": 0, \"column\": 1, \"value\": 0.0, \"row_token\": \"000 [SOS]\", \"col_token\": \"001 Entretanto\"}, {\"row\": 0, \"column\": 2, \"value\": 0.0, \"row_token\": \"000 [SOS]\", \"col_token\": \"002 ,\"}, {\"row\": 0, \"column\": 3, \"value\": 0.0, \"row_token\": \"000 [SOS]\", \"col_token\": \"003 tudo\"}, {\"row\": 0, \"column\": 4, \"value\": 0.0, \"row_token\": \"000 [SOS]\", \"col_token\": \"004 est\\u00e1\"}, {\"row\": 0, \"column\": 5, \"value\": 0.0, \"row_token\": \"000 [SOS]\", \"col_token\": \"005 estranho\"}, {\"row\": 0, \"column\": 6, \"value\": 0.0, \"row_token\": \"000 [SOS]\", \"col_token\": \"006 hoje\"}, {\"row\": 0, \"column\": 7, \"value\": 0.0, \"row_token\": \"000 [SOS]\", \"col_token\": \"007 !\\\"\"}, {\"row\": 1, \"column\": 0, \"value\": 0.009528635069727898, \"row_token\": \"001 Entretanto\", \"col_token\": \"000 [SOS]\"}, {\"row\": 1, \"column\": 1, \"value\": 1.1015825271606445, \"row_token\": \"001 Entretanto\", \"col_token\": \"001 Entretanto\"}, {\"row\": 1, \"column\": 2, \"value\": 0.0, \"row_token\": \"001 Entretanto\", \"col_token\": \"002 ,\"}, {\"row\": 1, \"column\": 3, \"value\": 0.0, \"row_token\": \"001 Entretanto\", \"col_token\": \"003 tudo\"}, {\"row\": 1, \"column\": 4, \"value\": 0.0, \"row_token\": \"001 Entretanto\", \"col_token\": \"004 est\\u00e1\"}, {\"row\": 1, \"column\": 5, \"value\": 0.0, \"row_token\": \"001 Entretanto\", \"col_token\": \"005 estranho\"}, {\"row\": 1, \"column\": 6, \"value\": 0.0, \"row_token\": \"001 Entretanto\", \"col_token\": \"006 hoje\"}, {\"row\": 1, \"column\": 7, \"value\": 0.0, \"row_token\": \"001 Entretanto\", \"col_token\": \"007 !\\\"\"}, {\"row\": 2, \"column\": 0, \"value\": 0.08747854083776474, \"row_token\": \"002 ,\", \"col_token\": \"000 [SOS]\"}, {\"row\": 2, \"column\": 1, \"value\": 0.29295384883880615, \"row_token\": \"002 ,\", \"col_token\": \"001 Entretanto\"}, {\"row\": 2, \"column\": 2, \"value\": 0.7306787967681885, \"row_token\": \"002 ,\", \"col_token\": \"002 ,\"}, {\"row\": 2, \"column\": 3, \"value\": 0.0, \"row_token\": \"002 ,\", \"col_token\": \"003 tudo\"}, {\"row\": 2, \"column\": 4, \"value\": 0.0, \"row_token\": \"002 ,\", \"col_token\": \"004 est\\u00e1\"}, {\"row\": 2, \"column\": 5, \"value\": 0.0, \"row_token\": \"002 ,\", \"col_token\": \"005 estranho\"}, {\"row\": 2, \"column\": 6, \"value\": 0.0, \"row_token\": \"002 ,\", \"col_token\": \"006 hoje\"}, {\"row\": 2, \"column\": 7, \"value\": 0.0, \"row_token\": \"002 ,\", \"col_token\": \"007 !\\\"\"}, {\"row\": 3, \"column\": 0, \"value\": 0.01602473296225071, \"row_token\": \"003 tudo\", \"col_token\": \"000 [SOS]\"}, {\"row\": 3, \"column\": 1, \"value\": 0.33112412691116333, \"row_token\": \"003 tudo\", \"col_token\": \"001 Entretanto\"}, {\"row\": 3, \"column\": 2, \"value\": 0.15982750058174133, \"row_token\": \"003 tudo\", \"col_token\": \"002 ,\"}, {\"row\": 3, \"column\": 3, \"value\": 0.604134738445282, \"row_token\": \"003 tudo\", \"col_token\": \"003 tudo\"}, {\"row\": 3, \"column\": 4, \"value\": 0.0, \"row_token\": \"003 tudo\", \"col_token\": \"004 est\\u00e1\"}, {\"row\": 3, \"column\": 5, \"value\": 0.0, \"row_token\": \"003 tudo\", \"col_token\": \"005 estranho\"}, {\"row\": 3, \"column\": 6, \"value\": 0.0, \"row_token\": \"003 tudo\", \"col_token\": \"006 hoje\"}, {\"row\": 3, \"column\": 7, \"value\": 0.0, \"row_token\": \"003 tudo\", \"col_token\": \"007 !\\\"\"}, {\"row\": 4, \"column\": 0, \"value\": 0.010187343694269657, \"row_token\": \"004 est\\u00e1\", \"col_token\": \"000 [SOS]\"}, {\"row\": 4, \"column\": 1, \"value\": 0.09373734891414642, \"row_token\": \"004 est\\u00e1\", \"col_token\": \"001 Entretanto\"}, {\"row\": 4, \"column\": 2, \"value\": 0.023997150361537933, \"row_token\": \"004 est\\u00e1\", \"col_token\": \"002 ,\"}, {\"row\": 4, \"column\": 3, \"value\": 0.8079888820648193, \"row_token\": \"004 est\\u00e1\", \"col_token\": \"003 tudo\"}, {\"row\": 4, \"column\": 4, \"value\": 0.1752004623413086, \"row_token\": \"004 est\\u00e1\", \"col_token\": \"004 est\\u00e1\"}, {\"row\": 4, \"column\": 5, \"value\": 0.0, \"row_token\": \"004 est\\u00e1\", \"col_token\": \"005 estranho\"}, {\"row\": 4, \"column\": 6, \"value\": 0.0, \"row_token\": \"004 est\\u00e1\", \"col_token\": \"006 hoje\"}, {\"row\": 4, \"column\": 7, \"value\": 0.0, \"row_token\": \"004 est\\u00e1\", \"col_token\": \"007 !\\\"\"}, {\"row\": 5, \"column\": 0, \"value\": 0.01274074986577034, \"row_token\": \"005 estranho\", \"col_token\": \"000 [SOS]\"}, {\"row\": 5, \"column\": 1, \"value\": 0.10117153823375702, \"row_token\": \"005 estranho\", \"col_token\": \"001 Entretanto\"}, {\"row\": 5, \"column\": 2, \"value\": 0.007937327027320862, \"row_token\": \"005 estranho\", \"col_token\": \"002 ,\"}, {\"row\": 5, \"column\": 3, \"value\": 0.1370488852262497, \"row_token\": \"005 estranho\", \"col_token\": \"003 tudo\"}, {\"row\": 5, \"column\": 4, \"value\": 0.1352771669626236, \"row_token\": \"005 estranho\", \"col_token\": \"004 est\\u00e1\"}, {\"row\": 5, \"column\": 5, \"value\": 0.7169355750083923, \"row_token\": \"005 estranho\", \"col_token\": \"005 estranho\"}, {\"row\": 5, \"column\": 6, \"value\": 0.0, \"row_token\": \"005 estranho\", \"col_token\": \"006 hoje\"}, {\"row\": 5, \"column\": 7, \"value\": 0.0, \"row_token\": \"005 estranho\", \"col_token\": \"007 !\\\"\"}, {\"row\": 6, \"column\": 0, \"value\": 8.289746619993821e-05, \"row_token\": \"006 hoje\", \"col_token\": \"000 [SOS]\"}, {\"row\": 6, \"column\": 1, \"value\": 0.03155740723013878, \"row_token\": \"006 hoje\", \"col_token\": \"001 Entretanto\"}, {\"row\": 6, \"column\": 2, \"value\": 0.027895398437976837, \"row_token\": \"006 hoje\", \"col_token\": \"002 ,\"}, {\"row\": 6, \"column\": 3, \"value\": 0.06857971101999283, \"row_token\": \"006 hoje\", \"col_token\": \"003 tudo\"}, {\"row\": 6, \"column\": 4, \"value\": 0.0943676307797432, \"row_token\": \"006 hoje\", \"col_token\": \"004 est\\u00e1\"}, {\"row\": 6, \"column\": 5, \"value\": 0.8068476319313049, \"row_token\": \"006 hoje\", \"col_token\": \"005 estranho\"}, {\"row\": 6, \"column\": 6, \"value\": 0.08178049325942993, \"row_token\": \"006 hoje\", \"col_token\": \"006 hoje\"}, {\"row\": 6, \"column\": 7, \"value\": 0.0, \"row_token\": \"006 hoje\", \"col_token\": \"007 !\\\"\"}, {\"row\": 7, \"column\": 0, \"value\": 0.0007653441862203181, \"row_token\": \"007 !\\\"\", \"col_token\": \"000 [SOS]\"}, {\"row\": 7, \"column\": 1, \"value\": 0.028434723615646362, \"row_token\": \"007 !\\\"\", \"col_token\": \"001 Entretanto\"}, {\"row\": 7, \"column\": 2, \"value\": 0.012134967371821404, \"row_token\": \"007 !\\\"\", \"col_token\": \"002 ,\"}, {\"row\": 7, \"column\": 3, \"value\": 0.0173687431961298, \"row_token\": \"007 !\\\"\", \"col_token\": \"003 tudo\"}, {\"row\": 7, \"column\": 4, \"value\": 0.07163286209106445, \"row_token\": \"007 !\\\"\", \"col_token\": \"004 est\\u00e1\"}, {\"row\": 7, \"column\": 5, \"value\": 0.6695343852043152, \"row_token\": \"007 !\\\"\", \"col_token\": \"005 estranho\"}, {\"row\": 7, \"column\": 6, \"value\": 0.15070895850658417, \"row_token\": \"007 !\\\"\", \"col_token\": \"006 hoje\"}, {\"row\": 7, \"column\": 7, \"value\": 0.16053122282028198, \"row_token\": \"007 !\\\"\", \"col_token\": \"007 !\\\"\"}], \"data-8882cb84e910c96c1c85437ed4909b6d\": [{\"row\": 0, \"column\": 0, \"value\": 1.1111111640930176, \"row_token\": \"000 [SOS]\", \"col_token\": \"000 [SOS]\"}, {\"row\": 0, \"column\": 1, \"value\": 0.0, \"row_token\": \"000 [SOS]\", \"col_token\": \"001 Entretanto\"}, {\"row\": 0, \"column\": 2, \"value\": 0.0, \"row_token\": \"000 [SOS]\", \"col_token\": \"002 ,\"}, {\"row\": 0, \"column\": 3, \"value\": 0.0, \"row_token\": \"000 [SOS]\", \"col_token\": \"003 tudo\"}, {\"row\": 0, \"column\": 4, \"value\": 0.0, \"row_token\": \"000 [SOS]\", \"col_token\": \"004 est\\u00e1\"}, {\"row\": 0, \"column\": 5, \"value\": 0.0, \"row_token\": \"000 [SOS]\", \"col_token\": \"005 estranho\"}, {\"row\": 0, \"column\": 6, \"value\": 0.0, \"row_token\": \"000 [SOS]\", \"col_token\": \"006 hoje\"}, {\"row\": 0, \"column\": 7, \"value\": 0.0, \"row_token\": \"000 [SOS]\", \"col_token\": \"007 !\\\"\"}, {\"row\": 1, \"column\": 0, \"value\": 0.12254979461431503, \"row_token\": \"001 Entretanto\", \"col_token\": \"000 [SOS]\"}, {\"row\": 1, \"column\": 1, \"value\": 0.9885614514350891, \"row_token\": \"001 Entretanto\", \"col_token\": \"001 Entretanto\"}, {\"row\": 1, \"column\": 2, \"value\": 0.0, \"row_token\": \"001 Entretanto\", \"col_token\": \"002 ,\"}, {\"row\": 1, \"column\": 3, \"value\": 0.0, \"row_token\": \"001 Entretanto\", \"col_token\": \"003 tudo\"}, {\"row\": 1, \"column\": 4, \"value\": 0.0, \"row_token\": \"001 Entretanto\", \"col_token\": \"004 est\\u00e1\"}, {\"row\": 1, \"column\": 5, \"value\": 0.0, \"row_token\": \"001 Entretanto\", \"col_token\": \"005 estranho\"}, {\"row\": 1, \"column\": 6, \"value\": 0.0, \"row_token\": \"001 Entretanto\", \"col_token\": \"006 hoje\"}, {\"row\": 1, \"column\": 7, \"value\": 0.0, \"row_token\": \"001 Entretanto\", \"col_token\": \"007 !\\\"\"}, {\"row\": 2, \"column\": 0, \"value\": 0.14976292848587036, \"row_token\": \"002 ,\", \"col_token\": \"000 [SOS]\"}, {\"row\": 2, \"column\": 1, \"value\": 0.5764376521110535, \"row_token\": \"002 ,\", \"col_token\": \"001 Entretanto\"}, {\"row\": 2, \"column\": 2, \"value\": 0.384910523891449, \"row_token\": \"002 ,\", \"col_token\": \"002 ,\"}, {\"row\": 2, \"column\": 3, \"value\": 0.0, \"row_token\": \"002 ,\", \"col_token\": \"003 tudo\"}, {\"row\": 2, \"column\": 4, \"value\": 0.0, \"row_token\": \"002 ,\", \"col_token\": \"004 est\\u00e1\"}, {\"row\": 2, \"column\": 5, \"value\": 0.0, \"row_token\": \"002 ,\", \"col_token\": \"005 estranho\"}, {\"row\": 2, \"column\": 6, \"value\": 0.0, \"row_token\": \"002 ,\", \"col_token\": \"006 hoje\"}, {\"row\": 2, \"column\": 7, \"value\": 0.0, \"row_token\": \"002 ,\", \"col_token\": \"007 !\\\"\"}, {\"row\": 3, \"column\": 0, \"value\": 0.08026143163442612, \"row_token\": \"003 tudo\", \"col_token\": \"000 [SOS]\"}, {\"row\": 3, \"column\": 1, \"value\": 0.08760026842355728, \"row_token\": \"003 tudo\", \"col_token\": \"001 Entretanto\"}, {\"row\": 3, \"column\": 2, \"value\": 0.16333439946174622, \"row_token\": \"003 tudo\", \"col_token\": \"002 ,\"}, {\"row\": 3, \"column\": 3, \"value\": 0.7799150943756104, \"row_token\": \"003 tudo\", \"col_token\": \"003 tudo\"}, {\"row\": 3, \"column\": 4, \"value\": 0.0, \"row_token\": \"003 tudo\", \"col_token\": \"004 est\\u00e1\"}, {\"row\": 3, \"column\": 5, \"value\": 0.0, \"row_token\": \"003 tudo\", \"col_token\": \"005 estranho\"}, {\"row\": 3, \"column\": 6, \"value\": 0.0, \"row_token\": \"003 tudo\", \"col_token\": \"006 hoje\"}, {\"row\": 3, \"column\": 7, \"value\": 0.0, \"row_token\": \"003 tudo\", \"col_token\": \"007 !\\\"\"}, {\"row\": 4, \"column\": 0, \"value\": 0.11299140006303787, \"row_token\": \"004 est\\u00e1\", \"col_token\": \"000 [SOS]\"}, {\"row\": 4, \"column\": 1, \"value\": 0.1000627651810646, \"row_token\": \"004 est\\u00e1\", \"col_token\": \"001 Entretanto\"}, {\"row\": 4, \"column\": 2, \"value\": 0.0685405507683754, \"row_token\": \"004 est\\u00e1\", \"col_token\": \"002 ,\"}, {\"row\": 4, \"column\": 3, \"value\": 0.6870248913764954, \"row_token\": \"004 est\\u00e1\", \"col_token\": \"003 tudo\"}, {\"row\": 4, \"column\": 4, \"value\": 0.14249160885810852, \"row_token\": \"004 est\\u00e1\", \"col_token\": \"004 est\\u00e1\"}, {\"row\": 4, \"column\": 5, \"value\": 0.0, \"row_token\": \"004 est\\u00e1\", \"col_token\": \"005 estranho\"}, {\"row\": 4, \"column\": 6, \"value\": 0.0, \"row_token\": \"004 est\\u00e1\", \"col_token\": \"006 hoje\"}, {\"row\": 4, \"column\": 7, \"value\": 0.0, \"row_token\": \"004 est\\u00e1\", \"col_token\": \"007 !\\\"\"}, {\"row\": 5, \"column\": 0, \"value\": 0.012800158001482487, \"row_token\": \"005 estranho\", \"col_token\": \"000 [SOS]\"}, {\"row\": 5, \"column\": 1, \"value\": 0.1132022812962532, \"row_token\": \"005 estranho\", \"col_token\": \"001 Entretanto\"}, {\"row\": 5, \"column\": 2, \"value\": 0.02435152418911457, \"row_token\": \"005 estranho\", \"col_token\": \"002 ,\"}, {\"row\": 5, \"column\": 3, \"value\": 0.47539037466049194, \"row_token\": \"005 estranho\", \"col_token\": \"003 tudo\"}, {\"row\": 5, \"column\": 4, \"value\": 0.0, \"row_token\": \"005 estranho\", \"col_token\": \"004 est\\u00e1\"}, {\"row\": 5, \"column\": 5, \"value\": 0.3163851201534271, \"row_token\": \"005 estranho\", \"col_token\": \"005 estranho\"}, {\"row\": 5, \"column\": 6, \"value\": 0.0, \"row_token\": \"005 estranho\", \"col_token\": \"006 hoje\"}, {\"row\": 5, \"column\": 7, \"value\": 0.0, \"row_token\": \"005 estranho\", \"col_token\": \"007 !\\\"\"}, {\"row\": 6, \"column\": 0, \"value\": 0.004658422898501158, \"row_token\": \"006 hoje\", \"col_token\": \"000 [SOS]\"}, {\"row\": 6, \"column\": 1, \"value\": 0.0, \"row_token\": \"006 hoje\", \"col_token\": \"001 Entretanto\"}, {\"row\": 6, \"column\": 2, \"value\": 0.07447200268507004, \"row_token\": \"006 hoje\", \"col_token\": \"002 ,\"}, {\"row\": 6, \"column\": 3, \"value\": 0.03851611912250519, \"row_token\": \"006 hoje\", \"col_token\": \"003 tudo\"}, {\"row\": 6, \"column\": 4, \"value\": 0.0, \"row_token\": \"006 hoje\", \"col_token\": \"004 est\\u00e1\"}, {\"row\": 6, \"column\": 5, \"value\": 0.04867825657129288, \"row_token\": \"006 hoje\", \"col_token\": \"005 estranho\"}, {\"row\": 6, \"column\": 6, \"value\": 0.9123368859291077, \"row_token\": \"006 hoje\", \"col_token\": \"006 hoje\"}, {\"row\": 6, \"column\": 7, \"value\": 0.0, \"row_token\": \"006 hoje\", \"col_token\": \"007 !\\\"\"}, {\"row\": 7, \"column\": 0, \"value\": 0.07287609577178955, \"row_token\": \"007 !\\\"\", \"col_token\": \"000 [SOS]\"}, {\"row\": 7, \"column\": 1, \"value\": 0.07178990542888641, \"row_token\": \"007 !\\\"\", \"col_token\": \"001 Entretanto\"}, {\"row\": 7, \"column\": 2, \"value\": 0.020306332036852837, \"row_token\": \"007 !\\\"\", \"col_token\": \"002 ,\"}, {\"row\": 7, \"column\": 3, \"value\": 0.08095031976699829, \"row_token\": \"007 !\\\"\", \"col_token\": \"003 tudo\"}, {\"row\": 7, \"column\": 4, \"value\": 0.3201756775379181, \"row_token\": \"007 !\\\"\", \"col_token\": \"004 est\\u00e1\"}, {\"row\": 7, \"column\": 5, \"value\": 0.11640480905771255, \"row_token\": \"007 !\\\"\", \"col_token\": \"005 estranho\"}, {\"row\": 7, \"column\": 6, \"value\": 0.2587546408176422, \"row_token\": \"007 !\\\"\", \"col_token\": \"006 hoje\"}, {\"row\": 7, \"column\": 7, \"value\": 0.16985338926315308, \"row_token\": \"007 !\\\"\", \"col_token\": \"007 !\\\"\"}], \"data-74b86f66b94d61ed933766a61be49a77\": [{\"row\": 0, \"column\": 0, \"value\": 1.1111111640930176, \"row_token\": \"000 [SOS]\", \"col_token\": \"000 [SOS]\"}, {\"row\": 0, \"column\": 1, \"value\": 0.0, \"row_token\": \"000 [SOS]\", \"col_token\": \"001 Entretanto\"}, {\"row\": 0, \"column\": 2, \"value\": 0.0, \"row_token\": \"000 [SOS]\", \"col_token\": \"002 ,\"}, {\"row\": 0, \"column\": 3, \"value\": 0.0, \"row_token\": \"000 [SOS]\", \"col_token\": \"003 tudo\"}, {\"row\": 0, \"column\": 4, \"value\": 0.0, \"row_token\": \"000 [SOS]\", \"col_token\": \"004 est\\u00e1\"}, {\"row\": 0, \"column\": 5, \"value\": 0.0, \"row_token\": \"000 [SOS]\", \"col_token\": \"005 estranho\"}, {\"row\": 0, \"column\": 6, \"value\": 0.0, \"row_token\": \"000 [SOS]\", \"col_token\": \"006 hoje\"}, {\"row\": 0, \"column\": 7, \"value\": 0.0, \"row_token\": \"000 [SOS]\", \"col_token\": \"007 !\\\"\"}, {\"row\": 1, \"column\": 0, \"value\": 0.1196833923459053, \"row_token\": \"001 Entretanto\", \"col_token\": \"000 [SOS]\"}, {\"row\": 1, \"column\": 1, \"value\": 0.9914277195930481, \"row_token\": \"001 Entretanto\", \"col_token\": \"001 Entretanto\"}, {\"row\": 1, \"column\": 2, \"value\": 0.0, \"row_token\": \"001 Entretanto\", \"col_token\": \"002 ,\"}, {\"row\": 1, \"column\": 3, \"value\": 0.0, \"row_token\": \"001 Entretanto\", \"col_token\": \"003 tudo\"}, {\"row\": 1, \"column\": 4, \"value\": 0.0, \"row_token\": \"001 Entretanto\", \"col_token\": \"004 est\\u00e1\"}, {\"row\": 1, \"column\": 5, \"value\": 0.0, \"row_token\": \"001 Entretanto\", \"col_token\": \"005 estranho\"}, {\"row\": 1, \"column\": 6, \"value\": 0.0, \"row_token\": \"001 Entretanto\", \"col_token\": \"006 hoje\"}, {\"row\": 1, \"column\": 7, \"value\": 0.0, \"row_token\": \"001 Entretanto\", \"col_token\": \"007 !\\\"\"}, {\"row\": 2, \"column\": 0, \"value\": 0.051959890872240067, \"row_token\": \"002 ,\", \"col_token\": \"000 [SOS]\"}, {\"row\": 2, \"column\": 1, \"value\": 0.0, \"row_token\": \"002 ,\", \"col_token\": \"001 Entretanto\"}, {\"row\": 2, \"column\": 2, \"value\": 0.6213772296905518, \"row_token\": \"002 ,\", \"col_token\": \"002 ,\"}, {\"row\": 2, \"column\": 3, \"value\": 0.0, \"row_token\": \"002 ,\", \"col_token\": \"003 tudo\"}, {\"row\": 2, \"column\": 4, \"value\": 0.0, \"row_token\": \"002 ,\", \"col_token\": \"004 est\\u00e1\"}, {\"row\": 2, \"column\": 5, \"value\": 0.0, \"row_token\": \"002 ,\", \"col_token\": \"005 estranho\"}, {\"row\": 2, \"column\": 6, \"value\": 0.0, \"row_token\": \"002 ,\", \"col_token\": \"006 hoje\"}, {\"row\": 2, \"column\": 7, \"value\": 0.0, \"row_token\": \"002 ,\", \"col_token\": \"007 !\\\"\"}, {\"row\": 3, \"column\": 0, \"value\": 0.03510846197605133, \"row_token\": \"003 tudo\", \"col_token\": \"000 [SOS]\"}, {\"row\": 3, \"column\": 1, \"value\": 0.13022327423095703, \"row_token\": \"003 tudo\", \"col_token\": \"001 Entretanto\"}, {\"row\": 3, \"column\": 2, \"value\": 0.20042936503887177, \"row_token\": \"003 tudo\", \"col_token\": \"002 ,\"}, {\"row\": 3, \"column\": 3, \"value\": 0.0, \"row_token\": \"003 tudo\", \"col_token\": \"003 tudo\"}, {\"row\": 3, \"column\": 4, \"value\": 0.0, \"row_token\": \"003 tudo\", \"col_token\": \"004 est\\u00e1\"}, {\"row\": 3, \"column\": 5, \"value\": 0.0, \"row_token\": \"003 tudo\", \"col_token\": \"005 estranho\"}, {\"row\": 3, \"column\": 6, \"value\": 0.0, \"row_token\": \"003 tudo\", \"col_token\": \"006 hoje\"}, {\"row\": 3, \"column\": 7, \"value\": 0.0, \"row_token\": \"003 tudo\", \"col_token\": \"007 !\\\"\"}, {\"row\": 4, \"column\": 0, \"value\": 0.0172073096036911, \"row_token\": \"004 est\\u00e1\", \"col_token\": \"000 [SOS]\"}, {\"row\": 4, \"column\": 1, \"value\": 0.08508621901273727, \"row_token\": \"004 est\\u00e1\", \"col_token\": \"001 Entretanto\"}, {\"row\": 4, \"column\": 2, \"value\": 0.6143988370895386, \"row_token\": \"004 est\\u00e1\", \"col_token\": \"002 ,\"}, {\"row\": 4, \"column\": 3, \"value\": 0.08700776845216751, \"row_token\": \"004 est\\u00e1\", \"col_token\": \"003 tudo\"}, {\"row\": 4, \"column\": 4, \"value\": 0.3074111044406891, \"row_token\": \"004 est\\u00e1\", \"col_token\": \"004 est\\u00e1\"}, {\"row\": 4, \"column\": 5, \"value\": 0.0, \"row_token\": \"004 est\\u00e1\", \"col_token\": \"005 estranho\"}, {\"row\": 4, \"column\": 6, \"value\": 0.0, \"row_token\": \"004 est\\u00e1\", \"col_token\": \"006 hoje\"}, {\"row\": 4, \"column\": 7, \"value\": 0.0, \"row_token\": \"004 est\\u00e1\", \"col_token\": \"007 !\\\"\"}, {\"row\": 5, \"column\": 0, \"value\": 0.015103843994438648, \"row_token\": \"005 estranho\", \"col_token\": \"000 [SOS]\"}, {\"row\": 5, \"column\": 1, \"value\": 0.007749098818749189, \"row_token\": \"005 estranho\", \"col_token\": \"001 Entretanto\"}, {\"row\": 5, \"column\": 2, \"value\": 0.0935417115688324, \"row_token\": \"005 estranho\", \"col_token\": \"002 ,\"}, {\"row\": 5, \"column\": 3, \"value\": 0.07665076851844788, \"row_token\": \"005 estranho\", \"col_token\": \"003 tudo\"}, {\"row\": 5, \"column\": 4, \"value\": 0.0653948187828064, \"row_token\": \"005 estranho\", \"col_token\": \"004 est\\u00e1\"}, {\"row\": 5, \"column\": 5, \"value\": 0.8526709079742432, \"row_token\": \"005 estranho\", \"col_token\": \"005 estranho\"}, {\"row\": 5, \"column\": 6, \"value\": 0.0, \"row_token\": \"005 estranho\", \"col_token\": \"006 hoje\"}, {\"row\": 5, \"column\": 7, \"value\": 0.0, \"row_token\": \"005 estranho\", \"col_token\": \"007 !\\\"\"}, {\"row\": 6, \"column\": 0, \"value\": 0.012786691077053547, \"row_token\": \"006 hoje\", \"col_token\": \"000 [SOS]\"}, {\"row\": 6, \"column\": 1, \"value\": 0.016334407031536102, \"row_token\": \"006 hoje\", \"col_token\": \"001 Entretanto\"}, {\"row\": 6, \"column\": 2, \"value\": 0.18157342076301575, \"row_token\": \"006 hoje\", \"col_token\": \"002 ,\"}, {\"row\": 6, \"column\": 3, \"value\": 0.04947035014629364, \"row_token\": \"006 hoje\", \"col_token\": \"003 tudo\"}, {\"row\": 6, \"column\": 4, \"value\": 0.14123357832431793, \"row_token\": \"006 hoje\", \"col_token\": \"004 est\\u00e1\"}, {\"row\": 6, \"column\": 5, \"value\": 0.15043452382087708, \"row_token\": \"006 hoje\", \"col_token\": \"005 estranho\"}, {\"row\": 6, \"column\": 6, \"value\": 0.5592782497406006, \"row_token\": \"006 hoje\", \"col_token\": \"006 hoje\"}, {\"row\": 6, \"column\": 7, \"value\": 0.0, \"row_token\": \"006 hoje\", \"col_token\": \"007 !\\\"\"}, {\"row\": 7, \"column\": 0, \"value\": 0.1619817018508911, \"row_token\": \"007 !\\\"\", \"col_token\": \"000 [SOS]\"}, {\"row\": 7, \"column\": 1, \"value\": 0.03132905811071396, \"row_token\": \"007 !\\\"\", \"col_token\": \"001 Entretanto\"}, {\"row\": 7, \"column\": 2, \"value\": 0.1378026157617569, \"row_token\": \"007 !\\\"\", \"col_token\": \"002 ,\"}, {\"row\": 7, \"column\": 3, \"value\": 0.2049814611673355, \"row_token\": \"007 !\\\"\", \"col_token\": \"003 tudo\"}, {\"row\": 7, \"column\": 4, \"value\": 0.15467403829097748, \"row_token\": \"007 !\\\"\", \"col_token\": \"004 est\\u00e1\"}, {\"row\": 7, \"column\": 5, \"value\": 0.0, \"row_token\": \"007 !\\\"\", \"col_token\": \"005 estranho\"}, {\"row\": 7, \"column\": 6, \"value\": 0.06690265238285065, \"row_token\": \"007 !\\\"\", \"col_token\": \"006 hoje\"}, {\"row\": 7, \"column\": 7, \"value\": 0.1994522362947464, \"row_token\": \"007 !\\\"\", \"col_token\": \"007 !\\\"\"}], \"data-f2fb0a140031ec07884ed79a64b05361\": [{\"row\": 0, \"column\": 0, \"value\": 1.1111111640930176, \"row_token\": \"000 [SOS]\", \"col_token\": \"000 [SOS]\"}, {\"row\": 0, \"column\": 1, \"value\": 0.0, \"row_token\": \"000 [SOS]\", \"col_token\": \"001 Entretanto\"}, {\"row\": 0, \"column\": 2, \"value\": 0.0, \"row_token\": \"000 [SOS]\", \"col_token\": \"002 ,\"}, {\"row\": 0, \"column\": 3, \"value\": 0.0, \"row_token\": \"000 [SOS]\", \"col_token\": \"003 tudo\"}, {\"row\": 0, \"column\": 4, \"value\": 0.0, \"row_token\": \"000 [SOS]\", \"col_token\": \"004 est\\u00e1\"}, {\"row\": 0, \"column\": 5, \"value\": 0.0, \"row_token\": \"000 [SOS]\", \"col_token\": \"005 estranho\"}, {\"row\": 0, \"column\": 6, \"value\": 0.0, \"row_token\": \"000 [SOS]\", \"col_token\": \"006 hoje\"}, {\"row\": 0, \"column\": 7, \"value\": 0.0, \"row_token\": \"000 [SOS]\", \"col_token\": \"007 !\\\"\"}, {\"row\": 1, \"column\": 0, \"value\": 0.24624167382717133, \"row_token\": \"001 Entretanto\", \"col_token\": \"000 [SOS]\"}, {\"row\": 1, \"column\": 1, \"value\": 0.8648694753646851, \"row_token\": \"001 Entretanto\", \"col_token\": \"001 Entretanto\"}, {\"row\": 1, \"column\": 2, \"value\": 0.0, \"row_token\": \"001 Entretanto\", \"col_token\": \"002 ,\"}, {\"row\": 1, \"column\": 3, \"value\": 0.0, \"row_token\": \"001 Entretanto\", \"col_token\": \"003 tudo\"}, {\"row\": 1, \"column\": 4, \"value\": 0.0, \"row_token\": \"001 Entretanto\", \"col_token\": \"004 est\\u00e1\"}, {\"row\": 1, \"column\": 5, \"value\": 0.0, \"row_token\": \"001 Entretanto\", \"col_token\": \"005 estranho\"}, {\"row\": 1, \"column\": 6, \"value\": 0.0, \"row_token\": \"001 Entretanto\", \"col_token\": \"006 hoje\"}, {\"row\": 1, \"column\": 7, \"value\": 0.0, \"row_token\": \"001 Entretanto\", \"col_token\": \"007 !\\\"\"}, {\"row\": 2, \"column\": 0, \"value\": 0.01174977608025074, \"row_token\": \"002 ,\", \"col_token\": \"000 [SOS]\"}, {\"row\": 2, \"column\": 1, \"value\": 1.0252315998077393, \"row_token\": \"002 ,\", \"col_token\": \"001 Entretanto\"}, {\"row\": 2, \"column\": 2, \"value\": 0.07412979751825333, \"row_token\": \"002 ,\", \"col_token\": \"002 ,\"}, {\"row\": 2, \"column\": 3, \"value\": 0.0, \"row_token\": \"002 ,\", \"col_token\": \"003 tudo\"}, {\"row\": 2, \"column\": 4, \"value\": 0.0, \"row_token\": \"002 ,\", \"col_token\": \"004 est\\u00e1\"}, {\"row\": 2, \"column\": 5, \"value\": 0.0, \"row_token\": \"002 ,\", \"col_token\": \"005 estranho\"}, {\"row\": 2, \"column\": 6, \"value\": 0.0, \"row_token\": \"002 ,\", \"col_token\": \"006 hoje\"}, {\"row\": 2, \"column\": 7, \"value\": 0.0, \"row_token\": \"002 ,\", \"col_token\": \"007 !\\\"\"}, {\"row\": 3, \"column\": 0, \"value\": 0.012788535095751286, \"row_token\": \"003 tudo\", \"col_token\": \"000 [SOS]\"}, {\"row\": 3, \"column\": 1, \"value\": 0.0, \"row_token\": \"003 tudo\", \"col_token\": \"001 Entretanto\"}, {\"row\": 3, \"column\": 2, \"value\": 0.0, \"row_token\": \"003 tudo\", \"col_token\": \"002 ,\"}, {\"row\": 3, \"column\": 3, \"value\": 0.28014373779296875, \"row_token\": \"003 tudo\", \"col_token\": \"003 tudo\"}, {\"row\": 3, \"column\": 4, \"value\": 0.0, \"row_token\": \"003 tudo\", \"col_token\": \"004 est\\u00e1\"}, {\"row\": 3, \"column\": 5, \"value\": 0.0, \"row_token\": \"003 tudo\", \"col_token\": \"005 estranho\"}, {\"row\": 3, \"column\": 6, \"value\": 0.0, \"row_token\": \"003 tudo\", \"col_token\": \"006 hoje\"}, {\"row\": 3, \"column\": 7, \"value\": 0.0, \"row_token\": \"003 tudo\", \"col_token\": \"007 !\\\"\"}, {\"row\": 4, \"column\": 0, \"value\": 0.044246893376111984, \"row_token\": \"004 est\\u00e1\", \"col_token\": \"000 [SOS]\"}, {\"row\": 4, \"column\": 1, \"value\": 0.20530779659748077, \"row_token\": \"004 est\\u00e1\", \"col_token\": \"001 Entretanto\"}, {\"row\": 4, \"column\": 2, \"value\": 0.0, \"row_token\": \"004 est\\u00e1\", \"col_token\": \"002 ,\"}, {\"row\": 4, \"column\": 3, \"value\": 0.3477192223072052, \"row_token\": \"004 est\\u00e1\", \"col_token\": \"003 tudo\"}, {\"row\": 4, \"column\": 4, \"value\": 0.23592735826969147, \"row_token\": \"004 est\\u00e1\", \"col_token\": \"004 est\\u00e1\"}, {\"row\": 4, \"column\": 5, \"value\": 0.0, \"row_token\": \"004 est\\u00e1\", \"col_token\": \"005 estranho\"}, {\"row\": 4, \"column\": 6, \"value\": 0.0, \"row_token\": \"004 est\\u00e1\", \"col_token\": \"006 hoje\"}, {\"row\": 4, \"column\": 7, \"value\": 0.0, \"row_token\": \"004 est\\u00e1\", \"col_token\": \"007 !\\\"\"}, {\"row\": 5, \"column\": 0, \"value\": 0.0, \"row_token\": \"005 estranho\", \"col_token\": \"000 [SOS]\"}, {\"row\": 5, \"column\": 1, \"value\": 0.013444371521472931, \"row_token\": \"005 estranho\", \"col_token\": \"001 Entretanto\"}, {\"row\": 5, \"column\": 2, \"value\": 0.45903119444847107, \"row_token\": \"005 estranho\", \"col_token\": \"002 ,\"}, {\"row\": 5, \"column\": 3, \"value\": 0.032741427421569824, \"row_token\": \"005 estranho\", \"col_token\": \"003 tudo\"}, {\"row\": 5, \"column\": 4, \"value\": 0.22280165553092957, \"row_token\": \"005 estranho\", \"col_token\": \"004 est\\u00e1\"}, {\"row\": 5, \"column\": 5, \"value\": 0.13734856247901917, \"row_token\": \"005 estranho\", \"col_token\": \"005 estranho\"}, {\"row\": 5, \"column\": 6, \"value\": 0.0, \"row_token\": \"005 estranho\", \"col_token\": \"006 hoje\"}, {\"row\": 5, \"column\": 7, \"value\": 0.0, \"row_token\": \"005 estranho\", \"col_token\": \"007 !\\\"\"}, {\"row\": 6, \"column\": 0, \"value\": 0.4933049976825714, \"row_token\": \"006 hoje\", \"col_token\": \"000 [SOS]\"}, {\"row\": 6, \"column\": 1, \"value\": 0.009903276339173317, \"row_token\": \"006 hoje\", \"col_token\": \"001 Entretanto\"}, {\"row\": 6, \"column\": 2, \"value\": 0.30794060230255127, \"row_token\": \"006 hoje\", \"col_token\": \"002 ,\"}, {\"row\": 6, \"column\": 3, \"value\": 0.1556808352470398, \"row_token\": \"006 hoje\", \"col_token\": \"003 tudo\"}, {\"row\": 6, \"column\": 4, \"value\": 0.0, \"row_token\": \"006 hoje\", \"col_token\": \"004 est\\u00e1\"}, {\"row\": 6, \"column\": 5, \"value\": 0.03887929022312164, \"row_token\": \"006 hoje\", \"col_token\": \"005 estranho\"}, {\"row\": 6, \"column\": 6, \"value\": 0.07465951144695282, \"row_token\": \"006 hoje\", \"col_token\": \"006 hoje\"}, {\"row\": 6, \"column\": 7, \"value\": 0.0, \"row_token\": \"006 hoje\", \"col_token\": \"007 !\\\"\"}, {\"row\": 7, \"column\": 0, \"value\": 0.0, \"row_token\": \"007 !\\\"\", \"col_token\": \"000 [SOS]\"}, {\"row\": 7, \"column\": 1, \"value\": 0.005525507498532534, \"row_token\": \"007 !\\\"\", \"col_token\": \"001 Entretanto\"}, {\"row\": 7, \"column\": 2, \"value\": 0.07603038847446442, \"row_token\": \"007 !\\\"\", \"col_token\": \"002 ,\"}, {\"row\": 7, \"column\": 3, \"value\": 0.017613042145967484, \"row_token\": \"007 !\\\"\", \"col_token\": \"003 tudo\"}, {\"row\": 7, \"column\": 4, \"value\": 0.00970419216901064, \"row_token\": \"007 !\\\"\", \"col_token\": \"004 est\\u00e1\"}, {\"row\": 7, \"column\": 5, \"value\": 0.006199001334607601, \"row_token\": \"007 !\\\"\", \"col_token\": \"005 estranho\"}, {\"row\": 7, \"column\": 6, \"value\": 0.01253193337470293, \"row_token\": \"007 !\\\"\", \"col_token\": \"006 hoje\"}, {\"row\": 7, \"column\": 7, \"value\": 0.1076512336730957, \"row_token\": \"007 !\\\"\", \"col_token\": \"007 !\\\"\"}], \"data-d95eab91cb65970d55dca2f5dd04f2c0\": [{\"row\": 0, \"column\": 0, \"value\": 1.1111111640930176, \"row_token\": \"000 [SOS]\", \"col_token\": \"000 [SOS]\"}, {\"row\": 0, \"column\": 1, \"value\": 0.0, \"row_token\": \"000 [SOS]\", \"col_token\": \"001 Entretanto\"}, {\"row\": 0, \"column\": 2, \"value\": 0.0, \"row_token\": \"000 [SOS]\", \"col_token\": \"002 ,\"}, {\"row\": 0, \"column\": 3, \"value\": 0.0, \"row_token\": \"000 [SOS]\", \"col_token\": \"003 tudo\"}, {\"row\": 0, \"column\": 4, \"value\": 0.0, \"row_token\": \"000 [SOS]\", \"col_token\": \"004 est\\u00e1\"}, {\"row\": 0, \"column\": 5, \"value\": 0.0, \"row_token\": \"000 [SOS]\", \"col_token\": \"005 estranho\"}, {\"row\": 0, \"column\": 6, \"value\": 0.0, \"row_token\": \"000 [SOS]\", \"col_token\": \"006 hoje\"}, {\"row\": 0, \"column\": 7, \"value\": 0.0, \"row_token\": \"000 [SOS]\", \"col_token\": \"007 !\\\"\"}, {\"row\": 1, \"column\": 0, \"value\": 0.17842422425746918, \"row_token\": \"001 Entretanto\", \"col_token\": \"000 [SOS]\"}, {\"row\": 1, \"column\": 1, \"value\": 0.9326869249343872, \"row_token\": \"001 Entretanto\", \"col_token\": \"001 Entretanto\"}, {\"row\": 1, \"column\": 2, \"value\": 0.0, \"row_token\": \"001 Entretanto\", \"col_token\": \"002 ,\"}, {\"row\": 1, \"column\": 3, \"value\": 0.0, \"row_token\": \"001 Entretanto\", \"col_token\": \"003 tudo\"}, {\"row\": 1, \"column\": 4, \"value\": 0.0, \"row_token\": \"001 Entretanto\", \"col_token\": \"004 est\\u00e1\"}, {\"row\": 1, \"column\": 5, \"value\": 0.0, \"row_token\": \"001 Entretanto\", \"col_token\": \"005 estranho\"}, {\"row\": 1, \"column\": 6, \"value\": 0.0, \"row_token\": \"001 Entretanto\", \"col_token\": \"006 hoje\"}, {\"row\": 1, \"column\": 7, \"value\": 0.0, \"row_token\": \"001 Entretanto\", \"col_token\": \"007 !\\\"\"}, {\"row\": 2, \"column\": 0, \"value\": 0.011760493740439415, \"row_token\": \"002 ,\", \"col_token\": \"000 [SOS]\"}, {\"row\": 2, \"column\": 1, \"value\": 1.0739060640335083, \"row_token\": \"002 ,\", \"col_token\": \"001 Entretanto\"}, {\"row\": 2, \"column\": 2, \"value\": 0.02544468641281128, \"row_token\": \"002 ,\", \"col_token\": \"002 ,\"}, {\"row\": 2, \"column\": 3, \"value\": 0.0, \"row_token\": \"002 ,\", \"col_token\": \"003 tudo\"}, {\"row\": 2, \"column\": 4, \"value\": 0.0, \"row_token\": \"002 ,\", \"col_token\": \"004 est\\u00e1\"}, {\"row\": 2, \"column\": 5, \"value\": 0.0, \"row_token\": \"002 ,\", \"col_token\": \"005 estranho\"}, {\"row\": 2, \"column\": 6, \"value\": 0.0, \"row_token\": \"002 ,\", \"col_token\": \"006 hoje\"}, {\"row\": 2, \"column\": 7, \"value\": 0.0, \"row_token\": \"002 ,\", \"col_token\": \"007 !\\\"\"}, {\"row\": 3, \"column\": 0, \"value\": 0.22107945382595062, \"row_token\": \"003 tudo\", \"col_token\": \"000 [SOS]\"}, {\"row\": 3, \"column\": 1, \"value\": 0.5543901920318604, \"row_token\": \"003 tudo\", \"col_token\": \"001 Entretanto\"}, {\"row\": 3, \"column\": 2, \"value\": 0.0, \"row_token\": \"003 tudo\", \"col_token\": \"002 ,\"}, {\"row\": 3, \"column\": 3, \"value\": 0.0, \"row_token\": \"003 tudo\", \"col_token\": \"003 tudo\"}, {\"row\": 3, \"column\": 4, \"value\": 0.0, \"row_token\": \"003 tudo\", \"col_token\": \"004 est\\u00e1\"}, {\"row\": 3, \"column\": 5, \"value\": 0.0, \"row_token\": \"003 tudo\", \"col_token\": \"005 estranho\"}, {\"row\": 3, \"column\": 6, \"value\": 0.0, \"row_token\": \"003 tudo\", \"col_token\": \"006 hoje\"}, {\"row\": 3, \"column\": 7, \"value\": 0.0, \"row_token\": \"003 tudo\", \"col_token\": \"007 !\\\"\"}, {\"row\": 4, \"column\": 0, \"value\": 0.14083269238471985, \"row_token\": \"004 est\\u00e1\", \"col_token\": \"000 [SOS]\"}, {\"row\": 4, \"column\": 1, \"value\": 0.11932875961065292, \"row_token\": \"004 est\\u00e1\", \"col_token\": \"001 Entretanto\"}, {\"row\": 4, \"column\": 2, \"value\": 0.46791383624076843, \"row_token\": \"004 est\\u00e1\", \"col_token\": \"002 ,\"}, {\"row\": 4, \"column\": 3, \"value\": 0.1096535474061966, \"row_token\": \"004 est\\u00e1\", \"col_token\": \"003 tudo\"}, {\"row\": 4, \"column\": 4, \"value\": 0.2733823359012604, \"row_token\": \"004 est\\u00e1\", \"col_token\": \"004 est\\u00e1\"}, {\"row\": 4, \"column\": 5, \"value\": 0.0, \"row_token\": \"004 est\\u00e1\", \"col_token\": \"005 estranho\"}, {\"row\": 4, \"column\": 6, \"value\": 0.0, \"row_token\": \"004 est\\u00e1\", \"col_token\": \"006 hoje\"}, {\"row\": 4, \"column\": 7, \"value\": 0.0, \"row_token\": \"004 est\\u00e1\", \"col_token\": \"007 !\\\"\"}, {\"row\": 5, \"column\": 0, \"value\": 0.0529480017721653, \"row_token\": \"005 estranho\", \"col_token\": \"000 [SOS]\"}, {\"row\": 5, \"column\": 1, \"value\": 0.16914935410022736, \"row_token\": \"005 estranho\", \"col_token\": \"001 Entretanto\"}, {\"row\": 5, \"column\": 2, \"value\": 0.2253403663635254, \"row_token\": \"005 estranho\", \"col_token\": \"002 ,\"}, {\"row\": 5, \"column\": 3, \"value\": 0.20309747755527496, \"row_token\": \"005 estranho\", \"col_token\": \"003 tudo\"}, {\"row\": 5, \"column\": 4, \"value\": 0.14454320073127747, \"row_token\": \"005 estranho\", \"col_token\": \"004 est\\u00e1\"}, {\"row\": 5, \"column\": 5, \"value\": 0.3160327076911926, \"row_token\": \"005 estranho\", \"col_token\": \"005 estranho\"}, {\"row\": 5, \"column\": 6, \"value\": 0.0, \"row_token\": \"005 estranho\", \"col_token\": \"006 hoje\"}, {\"row\": 5, \"column\": 7, \"value\": 0.0, \"row_token\": \"005 estranho\", \"col_token\": \"007 !\\\"\"}, {\"row\": 6, \"column\": 0, \"value\": 0.058427292853593826, \"row_token\": \"006 hoje\", \"col_token\": \"000 [SOS]\"}, {\"row\": 6, \"column\": 1, \"value\": 0.0566180944442749, \"row_token\": \"006 hoje\", \"col_token\": \"001 Entretanto\"}, {\"row\": 6, \"column\": 2, \"value\": 0.16928443312644958, \"row_token\": \"006 hoje\", \"col_token\": \"002 ,\"}, {\"row\": 6, \"column\": 3, \"value\": 0.09526454657316208, \"row_token\": \"006 hoje\", \"col_token\": \"003 tudo\"}, {\"row\": 6, \"column\": 4, \"value\": 0.3040466904640198, \"row_token\": \"006 hoje\", \"col_token\": \"004 est\\u00e1\"}, {\"row\": 6, \"column\": 5, \"value\": 0.36372268199920654, \"row_token\": \"006 hoje\", \"col_token\": \"005 estranho\"}, {\"row\": 6, \"column\": 6, \"value\": 0.06374750286340714, \"row_token\": \"006 hoje\", \"col_token\": \"006 hoje\"}, {\"row\": 6, \"column\": 7, \"value\": 0.0, \"row_token\": \"006 hoje\", \"col_token\": \"007 !\\\"\"}, {\"row\": 7, \"column\": 0, \"value\": 0.0781913548707962, \"row_token\": \"007 !\\\"\", \"col_token\": \"000 [SOS]\"}, {\"row\": 7, \"column\": 1, \"value\": 0.06824243068695068, \"row_token\": \"007 !\\\"\", \"col_token\": \"001 Entretanto\"}, {\"row\": 7, \"column\": 2, \"value\": 0.16000859439373016, \"row_token\": \"007 !\\\"\", \"col_token\": \"002 ,\"}, {\"row\": 7, \"column\": 3, \"value\": 0.06579730659723282, \"row_token\": \"007 !\\\"\", \"col_token\": \"003 tudo\"}, {\"row\": 7, \"column\": 4, \"value\": 0.07171747833490372, \"row_token\": \"007 !\\\"\", \"col_token\": \"004 est\\u00e1\"}, {\"row\": 7, \"column\": 5, \"value\": 0.10723619163036346, \"row_token\": \"007 !\\\"\", \"col_token\": \"005 estranho\"}, {\"row\": 7, \"column\": 6, \"value\": 0.2750900983810425, \"row_token\": \"007 !\\\"\", \"col_token\": \"006 hoje\"}, {\"row\": 7, \"column\": 7, \"value\": 0.28482773900032043, \"row_token\": \"007 !\\\"\", \"col_token\": \"007 !\\\"\"}], \"data-da599ed929c4d11fd762c04dba085da9\": [{\"row\": 0, \"column\": 0, \"value\": 1.1111111640930176, \"row_token\": \"000 [SOS]\", \"col_token\": \"000 [SOS]\"}, {\"row\": 0, \"column\": 1, \"value\": 0.0, \"row_token\": \"000 [SOS]\", \"col_token\": \"001 Entretanto\"}, {\"row\": 0, \"column\": 2, \"value\": 0.0, \"row_token\": \"000 [SOS]\", \"col_token\": \"002 ,\"}, {\"row\": 0, \"column\": 3, \"value\": 0.0, \"row_token\": \"000 [SOS]\", \"col_token\": \"003 tudo\"}, {\"row\": 0, \"column\": 4, \"value\": 0.0, \"row_token\": \"000 [SOS]\", \"col_token\": \"004 est\\u00e1\"}, {\"row\": 0, \"column\": 5, \"value\": 0.0, \"row_token\": \"000 [SOS]\", \"col_token\": \"005 estranho\"}, {\"row\": 0, \"column\": 6, \"value\": 0.0, \"row_token\": \"000 [SOS]\", \"col_token\": \"006 hoje\"}, {\"row\": 0, \"column\": 7, \"value\": 0.0, \"row_token\": \"000 [SOS]\", \"col_token\": \"007 !\\\"\"}, {\"row\": 1, \"column\": 0, \"value\": 1.0389589071273804, \"row_token\": \"001 Entretanto\", \"col_token\": \"000 [SOS]\"}, {\"row\": 1, \"column\": 1, \"value\": 0.0721522644162178, \"row_token\": \"001 Entretanto\", \"col_token\": \"001 Entretanto\"}, {\"row\": 1, \"column\": 2, \"value\": 0.0, \"row_token\": \"001 Entretanto\", \"col_token\": \"002 ,\"}, {\"row\": 1, \"column\": 3, \"value\": 0.0, \"row_token\": \"001 Entretanto\", \"col_token\": \"003 tudo\"}, {\"row\": 1, \"column\": 4, \"value\": 0.0, \"row_token\": \"001 Entretanto\", \"col_token\": \"004 est\\u00e1\"}, {\"row\": 1, \"column\": 5, \"value\": 0.0, \"row_token\": \"001 Entretanto\", \"col_token\": \"005 estranho\"}, {\"row\": 1, \"column\": 6, \"value\": 0.0, \"row_token\": \"001 Entretanto\", \"col_token\": \"006 hoje\"}, {\"row\": 1, \"column\": 7, \"value\": 0.0, \"row_token\": \"001 Entretanto\", \"col_token\": \"007 !\\\"\"}, {\"row\": 2, \"column\": 0, \"value\": 0.30588051676750183, \"row_token\": \"002 ,\", \"col_token\": \"000 [SOS]\"}, {\"row\": 2, \"column\": 1, \"value\": 0.4472863972187042, \"row_token\": \"002 ,\", \"col_token\": \"001 Entretanto\"}, {\"row\": 2, \"column\": 2, \"value\": 0.3579442799091339, \"row_token\": \"002 ,\", \"col_token\": \"002 ,\"}, {\"row\": 2, \"column\": 3, \"value\": 0.0, \"row_token\": \"002 ,\", \"col_token\": \"003 tudo\"}, {\"row\": 2, \"column\": 4, \"value\": 0.0, \"row_token\": \"002 ,\", \"col_token\": \"004 est\\u00e1\"}, {\"row\": 2, \"column\": 5, \"value\": 0.0, \"row_token\": \"002 ,\", \"col_token\": \"005 estranho\"}, {\"row\": 2, \"column\": 6, \"value\": 0.0, \"row_token\": \"002 ,\", \"col_token\": \"006 hoje\"}, {\"row\": 2, \"column\": 7, \"value\": 0.0, \"row_token\": \"002 ,\", \"col_token\": \"007 !\\\"\"}, {\"row\": 3, \"column\": 0, \"value\": 0.6733881235122681, \"row_token\": \"003 tudo\", \"col_token\": \"000 [SOS]\"}, {\"row\": 3, \"column\": 1, \"value\": 0.24134130775928497, \"row_token\": \"003 tudo\", \"col_token\": \"001 Entretanto\"}, {\"row\": 3, \"column\": 2, \"value\": 0.1155434101819992, \"row_token\": \"003 tudo\", \"col_token\": \"002 ,\"}, {\"row\": 3, \"column\": 3, \"value\": 0.0, \"row_token\": \"003 tudo\", \"col_token\": \"003 tudo\"}, {\"row\": 3, \"column\": 4, \"value\": 0.0, \"row_token\": \"003 tudo\", \"col_token\": \"004 est\\u00e1\"}, {\"row\": 3, \"column\": 5, \"value\": 0.0, \"row_token\": \"003 tudo\", \"col_token\": \"005 estranho\"}, {\"row\": 3, \"column\": 6, \"value\": 0.0, \"row_token\": \"003 tudo\", \"col_token\": \"006 hoje\"}, {\"row\": 3, \"column\": 7, \"value\": 0.0, \"row_token\": \"003 tudo\", \"col_token\": \"007 !\\\"\"}, {\"row\": 4, \"column\": 0, \"value\": 0.1298675388097763, \"row_token\": \"004 est\\u00e1\", \"col_token\": \"000 [SOS]\"}, {\"row\": 4, \"column\": 1, \"value\": 0.11311668157577515, \"row_token\": \"004 est\\u00e1\", \"col_token\": \"001 Entretanto\"}, {\"row\": 4, \"column\": 2, \"value\": 0.043356187641620636, \"row_token\": \"004 est\\u00e1\", \"col_token\": \"002 ,\"}, {\"row\": 4, \"column\": 3, \"value\": 0.7142087817192078, \"row_token\": \"004 est\\u00e1\", \"col_token\": \"003 tudo\"}, {\"row\": 4, \"column\": 4, \"value\": 0.0, \"row_token\": \"004 est\\u00e1\", \"col_token\": \"004 est\\u00e1\"}, {\"row\": 4, \"column\": 5, \"value\": 0.0, \"row_token\": \"004 est\\u00e1\", \"col_token\": \"005 estranho\"}, {\"row\": 4, \"column\": 6, \"value\": 0.0, \"row_token\": \"004 est\\u00e1\", \"col_token\": \"006 hoje\"}, {\"row\": 4, \"column\": 7, \"value\": 0.0, \"row_token\": \"004 est\\u00e1\", \"col_token\": \"007 !\\\"\"}, {\"row\": 5, \"column\": 0, \"value\": 0.3893076777458191, \"row_token\": \"005 estranho\", \"col_token\": \"000 [SOS]\"}, {\"row\": 5, \"column\": 1, \"value\": 0.39372748136520386, \"row_token\": \"005 estranho\", \"col_token\": \"001 Entretanto\"}, {\"row\": 5, \"column\": 2, \"value\": 0.017760664224624634, \"row_token\": \"005 estranho\", \"col_token\": \"002 ,\"}, {\"row\": 5, \"column\": 3, \"value\": 0.09585787355899811, \"row_token\": \"005 estranho\", \"col_token\": \"003 tudo\"}, {\"row\": 5, \"column\": 4, \"value\": 0.014403854496777058, \"row_token\": \"005 estranho\", \"col_token\": \"004 est\\u00e1\"}, {\"row\": 5, \"column\": 5, \"value\": 0.20005357265472412, \"row_token\": \"005 estranho\", \"col_token\": \"005 estranho\"}, {\"row\": 5, \"column\": 6, \"value\": 0.0, \"row_token\": \"005 estranho\", \"col_token\": \"006 hoje\"}, {\"row\": 5, \"column\": 7, \"value\": 0.0, \"row_token\": \"005 estranho\", \"col_token\": \"007 !\\\"\"}, {\"row\": 6, \"column\": 0, \"value\": 0.0, \"row_token\": \"006 hoje\", \"col_token\": \"000 [SOS]\"}, {\"row\": 6, \"column\": 1, \"value\": 0.05499541759490967, \"row_token\": \"006 hoje\", \"col_token\": \"001 Entretanto\"}, {\"row\": 6, \"column\": 2, \"value\": 0.07045580446720123, \"row_token\": \"006 hoje\", \"col_token\": \"002 ,\"}, {\"row\": 6, \"column\": 3, \"value\": 0.1305207461118698, \"row_token\": \"006 hoje\", \"col_token\": \"003 tudo\"}, {\"row\": 6, \"column\": 4, \"value\": 0.13972657918930054, \"row_token\": \"006 hoje\", \"col_token\": \"004 est\\u00e1\"}, {\"row\": 6, \"column\": 5, \"value\": 0.10733292996883392, \"row_token\": \"006 hoje\", \"col_token\": \"005 estranho\"}, {\"row\": 6, \"column\": 6, \"value\": 0.45451170206069946, \"row_token\": \"006 hoje\", \"col_token\": \"006 hoje\"}, {\"row\": 6, \"column\": 7, \"value\": 0.0, \"row_token\": \"006 hoje\", \"col_token\": \"007 !\\\"\"}, {\"row\": 7, \"column\": 0, \"value\": 0.06734544038772583, \"row_token\": \"007 !\\\"\", \"col_token\": \"000 [SOS]\"}, {\"row\": 7, \"column\": 1, \"value\": 0.0, \"row_token\": \"007 !\\\"\", \"col_token\": \"001 Entretanto\"}, {\"row\": 7, \"column\": 2, \"value\": 0.07315985858440399, \"row_token\": \"007 !\\\"\", \"col_token\": \"002 ,\"}, {\"row\": 7, \"column\": 3, \"value\": 0.06090868264436722, \"row_token\": \"007 !\\\"\", \"col_token\": \"003 tudo\"}, {\"row\": 7, \"column\": 4, \"value\": 0.16551172733306885, \"row_token\": \"007 !\\\"\", \"col_token\": \"004 est\\u00e1\"}, {\"row\": 7, \"column\": 5, \"value\": 0.14483126997947693, \"row_token\": \"007 !\\\"\", \"col_token\": \"005 estranho\"}, {\"row\": 7, \"column\": 6, \"value\": 0.25896361470222473, \"row_token\": \"007 !\\\"\", \"col_token\": \"006 hoje\"}, {\"row\": 7, \"column\": 7, \"value\": 0.0, \"row_token\": \"007 !\\\"\", \"col_token\": \"007 !\\\"\"}], \"data-0b8d299fe9772c3f3a39c4c01078359d\": [{\"row\": 0, \"column\": 0, \"value\": 1.1111111640930176, \"row_token\": \"000 [SOS]\", \"col_token\": \"000 [SOS]\"}, {\"row\": 0, \"column\": 1, \"value\": 0.0, \"row_token\": \"000 [SOS]\", \"col_token\": \"001 Entretanto\"}, {\"row\": 0, \"column\": 2, \"value\": 0.0, \"row_token\": \"000 [SOS]\", \"col_token\": \"002 ,\"}, {\"row\": 0, \"column\": 3, \"value\": 0.0, \"row_token\": \"000 [SOS]\", \"col_token\": \"003 tudo\"}, {\"row\": 0, \"column\": 4, \"value\": 0.0, \"row_token\": \"000 [SOS]\", \"col_token\": \"004 est\\u00e1\"}, {\"row\": 0, \"column\": 5, \"value\": 0.0, \"row_token\": \"000 [SOS]\", \"col_token\": \"005 estranho\"}, {\"row\": 0, \"column\": 6, \"value\": 0.0, \"row_token\": \"000 [SOS]\", \"col_token\": \"006 hoje\"}, {\"row\": 0, \"column\": 7, \"value\": 0.0, \"row_token\": \"000 [SOS]\", \"col_token\": \"007 !\\\"\"}, {\"row\": 1, \"column\": 0, \"value\": 0.6491871476173401, \"row_token\": \"001 Entretanto\", \"col_token\": \"000 [SOS]\"}, {\"row\": 1, \"column\": 1, \"value\": 0.4619239568710327, \"row_token\": \"001 Entretanto\", \"col_token\": \"001 Entretanto\"}, {\"row\": 1, \"column\": 2, \"value\": 0.0, \"row_token\": \"001 Entretanto\", \"col_token\": \"002 ,\"}, {\"row\": 1, \"column\": 3, \"value\": 0.0, \"row_token\": \"001 Entretanto\", \"col_token\": \"003 tudo\"}, {\"row\": 1, \"column\": 4, \"value\": 0.0, \"row_token\": \"001 Entretanto\", \"col_token\": \"004 est\\u00e1\"}, {\"row\": 1, \"column\": 5, \"value\": 0.0, \"row_token\": \"001 Entretanto\", \"col_token\": \"005 estranho\"}, {\"row\": 1, \"column\": 6, \"value\": 0.0, \"row_token\": \"001 Entretanto\", \"col_token\": \"006 hoje\"}, {\"row\": 1, \"column\": 7, \"value\": 0.0, \"row_token\": \"001 Entretanto\", \"col_token\": \"007 !\\\"\"}, {\"row\": 2, \"column\": 0, \"value\": 0.10828862339258194, \"row_token\": \"002 ,\", \"col_token\": \"000 [SOS]\"}, {\"row\": 2, \"column\": 1, \"value\": 0.47582951188087463, \"row_token\": \"002 ,\", \"col_token\": \"001 Entretanto\"}, {\"row\": 2, \"column\": 2, \"value\": 0.5269929766654968, \"row_token\": \"002 ,\", \"col_token\": \"002 ,\"}, {\"row\": 2, \"column\": 3, \"value\": 0.0, \"row_token\": \"002 ,\", \"col_token\": \"003 tudo\"}, {\"row\": 2, \"column\": 4, \"value\": 0.0, \"row_token\": \"002 ,\", \"col_token\": \"004 est\\u00e1\"}, {\"row\": 2, \"column\": 5, \"value\": 0.0, \"row_token\": \"002 ,\", \"col_token\": \"005 estranho\"}, {\"row\": 2, \"column\": 6, \"value\": 0.0, \"row_token\": \"002 ,\", \"col_token\": \"006 hoje\"}, {\"row\": 2, \"column\": 7, \"value\": 0.0, \"row_token\": \"002 ,\", \"col_token\": \"007 !\\\"\"}, {\"row\": 3, \"column\": 0, \"value\": 0.11551782488822937, \"row_token\": \"003 tudo\", \"col_token\": \"000 [SOS]\"}, {\"row\": 3, \"column\": 1, \"value\": 0.0933976024389267, \"row_token\": \"003 tudo\", \"col_token\": \"001 Entretanto\"}, {\"row\": 3, \"column\": 2, \"value\": 0.24403499066829681, \"row_token\": \"003 tudo\", \"col_token\": \"002 ,\"}, {\"row\": 3, \"column\": 3, \"value\": 0.6581607460975647, \"row_token\": \"003 tudo\", \"col_token\": \"003 tudo\"}, {\"row\": 3, \"column\": 4, \"value\": 0.0, \"row_token\": \"003 tudo\", \"col_token\": \"004 est\\u00e1\"}, {\"row\": 3, \"column\": 5, \"value\": 0.0, \"row_token\": \"003 tudo\", \"col_token\": \"005 estranho\"}, {\"row\": 3, \"column\": 6, \"value\": 0.0, \"row_token\": \"003 tudo\", \"col_token\": \"006 hoje\"}, {\"row\": 3, \"column\": 7, \"value\": 0.0, \"row_token\": \"003 tudo\", \"col_token\": \"007 !\\\"\"}, {\"row\": 4, \"column\": 0, \"value\": 0.37449049949645996, \"row_token\": \"004 est\\u00e1\", \"col_token\": \"000 [SOS]\"}, {\"row\": 4, \"column\": 1, \"value\": 0.05636889860033989, \"row_token\": \"004 est\\u00e1\", \"col_token\": \"001 Entretanto\"}, {\"row\": 4, \"column\": 2, \"value\": 0.0, \"row_token\": \"004 est\\u00e1\", \"col_token\": \"002 ,\"}, {\"row\": 4, \"column\": 3, \"value\": 0.0652991235256195, \"row_token\": \"004 est\\u00e1\", \"col_token\": \"003 tudo\"}, {\"row\": 4, \"column\": 4, \"value\": 0.0716380923986435, \"row_token\": \"004 est\\u00e1\", \"col_token\": \"004 est\\u00e1\"}, {\"row\": 4, \"column\": 5, \"value\": 0.0, \"row_token\": \"004 est\\u00e1\", \"col_token\": \"005 estranho\"}, {\"row\": 4, \"column\": 6, \"value\": 0.0, \"row_token\": \"004 est\\u00e1\", \"col_token\": \"006 hoje\"}, {\"row\": 4, \"column\": 7, \"value\": 0.0, \"row_token\": \"004 est\\u00e1\", \"col_token\": \"007 !\\\"\"}, {\"row\": 5, \"column\": 0, \"value\": 0.08112164586782455, \"row_token\": \"005 estranho\", \"col_token\": \"000 [SOS]\"}, {\"row\": 5, \"column\": 1, \"value\": 0.010888165794312954, \"row_token\": \"005 estranho\", \"col_token\": \"001 Entretanto\"}, {\"row\": 5, \"column\": 2, \"value\": 0.6478114724159241, \"row_token\": \"005 estranho\", \"col_token\": \"002 ,\"}, {\"row\": 5, \"column\": 3, \"value\": 0.059491436928510666, \"row_token\": \"005 estranho\", \"col_token\": \"003 tudo\"}, {\"row\": 5, \"column\": 4, \"value\": 0.1985388696193695, \"row_token\": \"005 estranho\", \"col_token\": \"004 est\\u00e1\"}, {\"row\": 5, \"column\": 5, \"value\": 0.11325963586568832, \"row_token\": \"005 estranho\", \"col_token\": \"005 estranho\"}, {\"row\": 5, \"column\": 6, \"value\": 0.0, \"row_token\": \"005 estranho\", \"col_token\": \"006 hoje\"}, {\"row\": 5, \"column\": 7, \"value\": 0.0, \"row_token\": \"005 estranho\", \"col_token\": \"007 !\\\"\"}, {\"row\": 6, \"column\": 0, \"value\": 0.8823689818382263, \"row_token\": \"006 hoje\", \"col_token\": \"000 [SOS]\"}, {\"row\": 6, \"column\": 1, \"value\": 0.028923293575644493, \"row_token\": \"006 hoje\", \"col_token\": \"001 Entretanto\"}, {\"row\": 6, \"column\": 2, \"value\": 0.11365185678005219, \"row_token\": \"006 hoje\", \"col_token\": \"002 ,\"}, {\"row\": 6, \"column\": 3, \"value\": 0.01428050547838211, \"row_token\": \"006 hoje\", \"col_token\": \"003 tudo\"}, {\"row\": 6, \"column\": 4, \"value\": 0.0056572891771793365, \"row_token\": \"006 hoje\", \"col_token\": \"004 est\\u00e1\"}, {\"row\": 6, \"column\": 5, \"value\": 0.0, \"row_token\": \"006 hoje\", \"col_token\": \"005 estranho\"}, {\"row\": 6, \"column\": 6, \"value\": 0.03498891368508339, \"row_token\": \"006 hoje\", \"col_token\": \"006 hoje\"}, {\"row\": 6, \"column\": 7, \"value\": 0.0, \"row_token\": \"006 hoje\", \"col_token\": \"007 !\\\"\"}, {\"row\": 7, \"column\": 0, \"value\": 0.09600957483053207, \"row_token\": \"007 !\\\"\", \"col_token\": \"000 [SOS]\"}, {\"row\": 7, \"column\": 1, \"value\": 0.1665651500225067, \"row_token\": \"007 !\\\"\", \"col_token\": \"001 Entretanto\"}, {\"row\": 7, \"column\": 2, \"value\": 0.0, \"row_token\": \"007 !\\\"\", \"col_token\": \"002 ,\"}, {\"row\": 7, \"column\": 3, \"value\": 0.07354900240898132, \"row_token\": \"007 !\\\"\", \"col_token\": \"003 tudo\"}, {\"row\": 7, \"column\": 4, \"value\": 0.06272906064987183, \"row_token\": \"007 !\\\"\", \"col_token\": \"004 est\\u00e1\"}, {\"row\": 7, \"column\": 5, \"value\": 0.09218955785036087, \"row_token\": \"007 !\\\"\", \"col_token\": \"005 estranho\"}, {\"row\": 7, \"column\": 6, \"value\": 0.25786030292510986, \"row_token\": \"007 !\\\"\", \"col_token\": \"006 hoje\"}, {\"row\": 7, \"column\": 7, \"value\": 0.18253551423549652, \"row_token\": \"007 !\\\"\", \"col_token\": \"007 !\\\"\"}], \"data-0d30bbd617c7f648f9a86f20bf909454\": [{\"row\": 0, \"column\": 0, \"value\": 1.1111111640930176, \"row_token\": \"000 [SOS]\", \"col_token\": \"000 [SOS]\"}, {\"row\": 0, \"column\": 1, \"value\": 0.0, \"row_token\": \"000 [SOS]\", \"col_token\": \"001 Entretanto\"}, {\"row\": 0, \"column\": 2, \"value\": 0.0, \"row_token\": \"000 [SOS]\", \"col_token\": \"002 ,\"}, {\"row\": 0, \"column\": 3, \"value\": 0.0, \"row_token\": \"000 [SOS]\", \"col_token\": \"003 tudo\"}, {\"row\": 0, \"column\": 4, \"value\": 0.0, \"row_token\": \"000 [SOS]\", \"col_token\": \"004 est\\u00e1\"}, {\"row\": 0, \"column\": 5, \"value\": 0.0, \"row_token\": \"000 [SOS]\", \"col_token\": \"005 estranho\"}, {\"row\": 0, \"column\": 6, \"value\": 0.0, \"row_token\": \"000 [SOS]\", \"col_token\": \"006 hoje\"}, {\"row\": 0, \"column\": 7, \"value\": 0.0, \"row_token\": \"000 [SOS]\", \"col_token\": \"007 !\\\"\"}, {\"row\": 1, \"column\": 0, \"value\": 0.9129088521003723, \"row_token\": \"001 Entretanto\", \"col_token\": \"000 [SOS]\"}, {\"row\": 1, \"column\": 1, \"value\": 0.19820229709148407, \"row_token\": \"001 Entretanto\", \"col_token\": \"001 Entretanto\"}, {\"row\": 1, \"column\": 2, \"value\": 0.0, \"row_token\": \"001 Entretanto\", \"col_token\": \"002 ,\"}, {\"row\": 1, \"column\": 3, \"value\": 0.0, \"row_token\": \"001 Entretanto\", \"col_token\": \"003 tudo\"}, {\"row\": 1, \"column\": 4, \"value\": 0.0, \"row_token\": \"001 Entretanto\", \"col_token\": \"004 est\\u00e1\"}, {\"row\": 1, \"column\": 5, \"value\": 0.0, \"row_token\": \"001 Entretanto\", \"col_token\": \"005 estranho\"}, {\"row\": 1, \"column\": 6, \"value\": 0.0, \"row_token\": \"001 Entretanto\", \"col_token\": \"006 hoje\"}, {\"row\": 1, \"column\": 7, \"value\": 0.0, \"row_token\": \"001 Entretanto\", \"col_token\": \"007 !\\\"\"}, {\"row\": 2, \"column\": 0, \"value\": 0.22815801203250885, \"row_token\": \"002 ,\", \"col_token\": \"000 [SOS]\"}, {\"row\": 2, \"column\": 1, \"value\": 0.6239614486694336, \"row_token\": \"002 ,\", \"col_token\": \"001 Entretanto\"}, {\"row\": 2, \"column\": 2, \"value\": 0.25899168848991394, \"row_token\": \"002 ,\", \"col_token\": \"002 ,\"}, {\"row\": 2, \"column\": 3, \"value\": 0.0, \"row_token\": \"002 ,\", \"col_token\": \"003 tudo\"}, {\"row\": 2, \"column\": 4, \"value\": 0.0, \"row_token\": \"002 ,\", \"col_token\": \"004 est\\u00e1\"}, {\"row\": 2, \"column\": 5, \"value\": 0.0, \"row_token\": \"002 ,\", \"col_token\": \"005 estranho\"}, {\"row\": 2, \"column\": 6, \"value\": 0.0, \"row_token\": \"002 ,\", \"col_token\": \"006 hoje\"}, {\"row\": 2, \"column\": 7, \"value\": 0.0, \"row_token\": \"002 ,\", \"col_token\": \"007 !\\\"\"}, {\"row\": 3, \"column\": 0, \"value\": 0.1433965265750885, \"row_token\": \"003 tudo\", \"col_token\": \"000 [SOS]\"}, {\"row\": 3, \"column\": 1, \"value\": 0.04773729667067528, \"row_token\": \"003 tudo\", \"col_token\": \"001 Entretanto\"}, {\"row\": 3, \"column\": 2, \"value\": 0.8806569576263428, \"row_token\": \"003 tudo\", \"col_token\": \"002 ,\"}, {\"row\": 3, \"column\": 3, \"value\": 0.03932033106684685, \"row_token\": \"003 tudo\", \"col_token\": \"003 tudo\"}, {\"row\": 3, \"column\": 4, \"value\": 0.0, \"row_token\": \"003 tudo\", \"col_token\": \"004 est\\u00e1\"}, {\"row\": 3, \"column\": 5, \"value\": 0.0, \"row_token\": \"003 tudo\", \"col_token\": \"005 estranho\"}, {\"row\": 3, \"column\": 6, \"value\": 0.0, \"row_token\": \"003 tudo\", \"col_token\": \"006 hoje\"}, {\"row\": 3, \"column\": 7, \"value\": 0.0, \"row_token\": \"003 tudo\", \"col_token\": \"007 !\\\"\"}, {\"row\": 4, \"column\": 0, \"value\": 0.08576738089323044, \"row_token\": \"004 est\\u00e1\", \"col_token\": \"000 [SOS]\"}, {\"row\": 4, \"column\": 1, \"value\": 0.19356967508792877, \"row_token\": \"004 est\\u00e1\", \"col_token\": \"001 Entretanto\"}, {\"row\": 4, \"column\": 2, \"value\": 0.5136533975601196, \"row_token\": \"004 est\\u00e1\", \"col_token\": \"002 ,\"}, {\"row\": 4, \"column\": 3, \"value\": 0.21882925927639008, \"row_token\": \"004 est\\u00e1\", \"col_token\": \"003 tudo\"}, {\"row\": 4, \"column\": 4, \"value\": 0.09929145127534866, \"row_token\": \"004 est\\u00e1\", \"col_token\": \"004 est\\u00e1\"}, {\"row\": 4, \"column\": 5, \"value\": 0.0, \"row_token\": \"004 est\\u00e1\", \"col_token\": \"005 estranho\"}, {\"row\": 4, \"column\": 6, \"value\": 0.0, \"row_token\": \"004 est\\u00e1\", \"col_token\": \"006 hoje\"}, {\"row\": 4, \"column\": 7, \"value\": 0.0, \"row_token\": \"004 est\\u00e1\", \"col_token\": \"007 !\\\"\"}, {\"row\": 5, \"column\": 0, \"value\": 0.08797149360179901, \"row_token\": \"005 estranho\", \"col_token\": \"000 [SOS]\"}, {\"row\": 5, \"column\": 1, \"value\": 0.012510333210229874, \"row_token\": \"005 estranho\", \"col_token\": \"001 Entretanto\"}, {\"row\": 5, \"column\": 2, \"value\": 0.055330630391836166, \"row_token\": \"005 estranho\", \"col_token\": \"002 ,\"}, {\"row\": 5, \"column\": 3, \"value\": 0.03358805552124977, \"row_token\": \"005 estranho\", \"col_token\": \"003 tudo\"}, {\"row\": 5, \"column\": 4, \"value\": 0.11577782034873962, \"row_token\": \"005 estranho\", \"col_token\": \"004 est\\u00e1\"}, {\"row\": 5, \"column\": 5, \"value\": 0.8059327602386475, \"row_token\": \"005 estranho\", \"col_token\": \"005 estranho\"}, {\"row\": 5, \"column\": 6, \"value\": 0.0, \"row_token\": \"005 estranho\", \"col_token\": \"006 hoje\"}, {\"row\": 5, \"column\": 7, \"value\": 0.0, \"row_token\": \"005 estranho\", \"col_token\": \"007 !\\\"\"}, {\"row\": 6, \"column\": 0, \"value\": 0.21826380491256714, \"row_token\": \"006 hoje\", \"col_token\": \"000 [SOS]\"}, {\"row\": 6, \"column\": 1, \"value\": 0.034589894115924835, \"row_token\": \"006 hoje\", \"col_token\": \"001 Entretanto\"}, {\"row\": 6, \"column\": 2, \"value\": 0.46762406826019287, \"row_token\": \"006 hoje\", \"col_token\": \"002 ,\"}, {\"row\": 6, \"column\": 3, \"value\": 0.0, \"row_token\": \"006 hoje\", \"col_token\": \"003 tudo\"}, {\"row\": 6, \"column\": 4, \"value\": 0.06325458735227585, \"row_token\": \"006 hoje\", \"col_token\": \"004 est\\u00e1\"}, {\"row\": 6, \"column\": 5, \"value\": 0.0652436912059784, \"row_token\": \"006 hoje\", \"col_token\": \"005 estranho\"}, {\"row\": 6, \"column\": 6, \"value\": 0.24344731867313385, \"row_token\": \"006 hoje\", \"col_token\": \"006 hoje\"}, {\"row\": 6, \"column\": 7, \"value\": 0.0, \"row_token\": \"006 hoje\", \"col_token\": \"007 !\\\"\"}, {\"row\": 7, \"column\": 0, \"value\": 0.0, \"row_token\": \"007 !\\\"\", \"col_token\": \"000 [SOS]\"}, {\"row\": 7, \"column\": 1, \"value\": 0.07640013098716736, \"row_token\": \"007 !\\\"\", \"col_token\": \"001 Entretanto\"}, {\"row\": 7, \"column\": 2, \"value\": 0.13586653769016266, \"row_token\": \"007 !\\\"\", \"col_token\": \"002 ,\"}, {\"row\": 7, \"column\": 3, \"value\": 0.0, \"row_token\": \"007 !\\\"\", \"col_token\": \"003 tudo\"}, {\"row\": 7, \"column\": 4, \"value\": 0.027228297665715218, \"row_token\": \"007 !\\\"\", \"col_token\": \"004 est\\u00e1\"}, {\"row\": 7, \"column\": 5, \"value\": 0.12960463762283325, \"row_token\": \"007 !\\\"\", \"col_token\": \"005 estranho\"}, {\"row\": 7, \"column\": 6, \"value\": 0.3917764723300934, \"row_token\": \"007 !\\\"\", \"col_token\": \"006 hoje\"}, {\"row\": 7, \"column\": 7, \"value\": 0.23265208303928375, \"row_token\": \"007 !\\\"\", \"col_token\": \"007 !\\\"\"}], \"data-118ddbeb5a0aa83ac20299ebd9589c82\": [{\"row\": 0, \"column\": 0, \"value\": 1.1111111640930176, \"row_token\": \"000 [SOS]\", \"col_token\": \"000 [SOS]\"}, {\"row\": 0, \"column\": 1, \"value\": 0.0, \"row_token\": \"000 [SOS]\", \"col_token\": \"001 Entretanto\"}, {\"row\": 0, \"column\": 2, \"value\": 0.0, \"row_token\": \"000 [SOS]\", \"col_token\": \"002 ,\"}, {\"row\": 0, \"column\": 3, \"value\": 0.0, \"row_token\": \"000 [SOS]\", \"col_token\": \"003 tudo\"}, {\"row\": 0, \"column\": 4, \"value\": 0.0, \"row_token\": \"000 [SOS]\", \"col_token\": \"004 est\\u00e1\"}, {\"row\": 0, \"column\": 5, \"value\": 0.0, \"row_token\": \"000 [SOS]\", \"col_token\": \"005 estranho\"}, {\"row\": 0, \"column\": 6, \"value\": 0.0, \"row_token\": \"000 [SOS]\", \"col_token\": \"006 hoje\"}, {\"row\": 0, \"column\": 7, \"value\": 0.0, \"row_token\": \"000 [SOS]\", \"col_token\": \"007 !\\\"\"}, {\"row\": 1, \"column\": 0, \"value\": 0.5207629799842834, \"row_token\": \"001 Entretanto\", \"col_token\": \"000 [SOS]\"}, {\"row\": 1, \"column\": 1, \"value\": 0.5903481841087341, \"row_token\": \"001 Entretanto\", \"col_token\": \"001 Entretanto\"}, {\"row\": 1, \"column\": 2, \"value\": 0.0, \"row_token\": \"001 Entretanto\", \"col_token\": \"002 ,\"}, {\"row\": 1, \"column\": 3, \"value\": 0.0, \"row_token\": \"001 Entretanto\", \"col_token\": \"003 tudo\"}, {\"row\": 1, \"column\": 4, \"value\": 0.0, \"row_token\": \"001 Entretanto\", \"col_token\": \"004 est\\u00e1\"}, {\"row\": 1, \"column\": 5, \"value\": 0.0, \"row_token\": \"001 Entretanto\", \"col_token\": \"005 estranho\"}, {\"row\": 1, \"column\": 6, \"value\": 0.0, \"row_token\": \"001 Entretanto\", \"col_token\": \"006 hoje\"}, {\"row\": 1, \"column\": 7, \"value\": 0.0, \"row_token\": \"001 Entretanto\", \"col_token\": \"007 !\\\"\"}, {\"row\": 2, \"column\": 0, \"value\": 0.4841378927230835, \"row_token\": \"002 ,\", \"col_token\": \"000 [SOS]\"}, {\"row\": 2, \"column\": 1, \"value\": 0.3671812117099762, \"row_token\": \"002 ,\", \"col_token\": \"001 Entretanto\"}, {\"row\": 2, \"column\": 2, \"value\": 0.2597920298576355, \"row_token\": \"002 ,\", \"col_token\": \"002 ,\"}, {\"row\": 2, \"column\": 3, \"value\": 0.0, \"row_token\": \"002 ,\", \"col_token\": \"003 tudo\"}, {\"row\": 2, \"column\": 4, \"value\": 0.0, \"row_token\": \"002 ,\", \"col_token\": \"004 est\\u00e1\"}, {\"row\": 2, \"column\": 5, \"value\": 0.0, \"row_token\": \"002 ,\", \"col_token\": \"005 estranho\"}, {\"row\": 2, \"column\": 6, \"value\": 0.0, \"row_token\": \"002 ,\", \"col_token\": \"006 hoje\"}, {\"row\": 2, \"column\": 7, \"value\": 0.0, \"row_token\": \"002 ,\", \"col_token\": \"007 !\\\"\"}, {\"row\": 3, \"column\": 0, \"value\": 0.021064570173621178, \"row_token\": \"003 tudo\", \"col_token\": \"000 [SOS]\"}, {\"row\": 3, \"column\": 1, \"value\": 0.41148465871810913, \"row_token\": \"003 tudo\", \"col_token\": \"001 Entretanto\"}, {\"row\": 3, \"column\": 2, \"value\": 0.0, \"row_token\": \"003 tudo\", \"col_token\": \"002 ,\"}, {\"row\": 3, \"column\": 3, \"value\": 0.0, \"row_token\": \"003 tudo\", \"col_token\": \"003 tudo\"}, {\"row\": 3, \"column\": 4, \"value\": 0.0, \"row_token\": \"003 tudo\", \"col_token\": \"004 est\\u00e1\"}, {\"row\": 3, \"column\": 5, \"value\": 0.0, \"row_token\": \"003 tudo\", \"col_token\": \"005 estranho\"}, {\"row\": 3, \"column\": 6, \"value\": 0.0, \"row_token\": \"003 tudo\", \"col_token\": \"006 hoje\"}, {\"row\": 3, \"column\": 7, \"value\": 0.0, \"row_token\": \"003 tudo\", \"col_token\": \"007 !\\\"\"}, {\"row\": 4, \"column\": 0, \"value\": 0.053130194544792175, \"row_token\": \"004 est\\u00e1\", \"col_token\": \"000 [SOS]\"}, {\"row\": 4, \"column\": 1, \"value\": 0.08084385097026825, \"row_token\": \"004 est\\u00e1\", \"col_token\": \"001 Entretanto\"}, {\"row\": 4, \"column\": 2, \"value\": 0.0, \"row_token\": \"004 est\\u00e1\", \"col_token\": \"002 ,\"}, {\"row\": 4, \"column\": 3, \"value\": 0.3489813804626465, \"row_token\": \"004 est\\u00e1\", \"col_token\": \"003 tudo\"}, {\"row\": 4, \"column\": 4, \"value\": 0.3445071578025818, \"row_token\": \"004 est\\u00e1\", \"col_token\": \"004 est\\u00e1\"}, {\"row\": 4, \"column\": 5, \"value\": 0.0, \"row_token\": \"004 est\\u00e1\", \"col_token\": \"005 estranho\"}, {\"row\": 4, \"column\": 6, \"value\": 0.0, \"row_token\": \"004 est\\u00e1\", \"col_token\": \"006 hoje\"}, {\"row\": 4, \"column\": 7, \"value\": 0.0, \"row_token\": \"004 est\\u00e1\", \"col_token\": \"007 !\\\"\"}, {\"row\": 5, \"column\": 0, \"value\": 0.26946374773979187, \"row_token\": \"005 estranho\", \"col_token\": \"000 [SOS]\"}, {\"row\": 5, \"column\": 1, \"value\": 0.07809808105230331, \"row_token\": \"005 estranho\", \"col_token\": \"001 Entretanto\"}, {\"row\": 5, \"column\": 2, \"value\": 0.2309906929731369, \"row_token\": \"005 estranho\", \"col_token\": \"002 ,\"}, {\"row\": 5, \"column\": 3, \"value\": 0.17765329778194427, \"row_token\": \"005 estranho\", \"col_token\": \"003 tudo\"}, {\"row\": 5, \"column\": 4, \"value\": 0.13212545216083527, \"row_token\": \"005 estranho\", \"col_token\": \"004 est\\u00e1\"}, {\"row\": 5, \"column\": 5, \"value\": 0.22277997434139252, \"row_token\": \"005 estranho\", \"col_token\": \"005 estranho\"}, {\"row\": 5, \"column\": 6, \"value\": 0.0, \"row_token\": \"005 estranho\", \"col_token\": \"006 hoje\"}, {\"row\": 5, \"column\": 7, \"value\": 0.0, \"row_token\": \"005 estranho\", \"col_token\": \"007 !\\\"\"}, {\"row\": 6, \"column\": 0, \"value\": 0.035571400076150894, \"row_token\": \"006 hoje\", \"col_token\": \"000 [SOS]\"}, {\"row\": 6, \"column\": 1, \"value\": 0.0, \"row_token\": \"006 hoje\", \"col_token\": \"001 Entretanto\"}, {\"row\": 6, \"column\": 2, \"value\": 0.24177192151546478, \"row_token\": \"006 hoje\", \"col_token\": \"002 ,\"}, {\"row\": 6, \"column\": 3, \"value\": 0.09213434904813766, \"row_token\": \"006 hoje\", \"col_token\": \"003 tudo\"}, {\"row\": 6, \"column\": 4, \"value\": 0.1698068231344223, \"row_token\": \"006 hoje\", \"col_token\": \"004 est\\u00e1\"}, {\"row\": 6, \"column\": 5, \"value\": 0.04338923096656799, \"row_token\": \"006 hoje\", \"col_token\": \"005 estranho\"}, {\"row\": 6, \"column\": 6, \"value\": 0.4694332480430603, \"row_token\": \"006 hoje\", \"col_token\": \"006 hoje\"}, {\"row\": 6, \"column\": 7, \"value\": 0.0, \"row_token\": \"006 hoje\", \"col_token\": \"007 !\\\"\"}, {\"row\": 7, \"column\": 0, \"value\": 0.0, \"row_token\": \"007 !\\\"\", \"col_token\": \"000 [SOS]\"}, {\"row\": 7, \"column\": 1, \"value\": 0.058806221932172775, \"row_token\": \"007 !\\\"\", \"col_token\": \"001 Entretanto\"}, {\"row\": 7, \"column\": 2, \"value\": 0.056455399841070175, \"row_token\": \"007 !\\\"\", \"col_token\": \"002 ,\"}, {\"row\": 7, \"column\": 3, \"value\": 0.040934301912784576, \"row_token\": \"007 !\\\"\", \"col_token\": \"003 tudo\"}, {\"row\": 7, \"column\": 4, \"value\": 0.06896057724952698, \"row_token\": \"007 !\\\"\", \"col_token\": \"004 est\\u00e1\"}, {\"row\": 7, \"column\": 5, \"value\": 0.05195798724889755, \"row_token\": \"007 !\\\"\", \"col_token\": \"005 estranho\"}, {\"row\": 7, \"column\": 6, \"value\": 0.0, \"row_token\": \"007 !\\\"\", \"col_token\": \"006 hoje\"}, {\"row\": 7, \"column\": 7, \"value\": 0.38807469606399536, \"row_token\": \"007 !\\\"\", \"col_token\": \"007 !\\\"\"}], \"data-98288f7c7d63a05775327e48c8613309\": [{\"row\": 0, \"column\": 0, \"value\": 0.0, \"row_token\": \"000 [SOS]\", \"col_token\": \"000 [SOS]\"}, {\"row\": 0, \"column\": 1, \"value\": 0.0, \"row_token\": \"000 [SOS]\", \"col_token\": \"001 Entretanto\"}, {\"row\": 0, \"column\": 2, \"value\": 0.0, \"row_token\": \"000 [SOS]\", \"col_token\": \"002 ,\"}, {\"row\": 0, \"column\": 3, \"value\": 0.0, \"row_token\": \"000 [SOS]\", \"col_token\": \"003 tudo\"}, {\"row\": 0, \"column\": 4, \"value\": 0.0, \"row_token\": \"000 [SOS]\", \"col_token\": \"004 est\\u00e1\"}, {\"row\": 0, \"column\": 5, \"value\": 0.0, \"row_token\": \"000 [SOS]\", \"col_token\": \"005 estranho\"}, {\"row\": 0, \"column\": 6, \"value\": 0.0, \"row_token\": \"000 [SOS]\", \"col_token\": \"006 hoje\"}, {\"row\": 0, \"column\": 7, \"value\": 0.0, \"row_token\": \"000 [SOS]\", \"col_token\": \"007 !\\\"\"}, {\"row\": 1, \"column\": 0, \"value\": 0.3094458281993866, \"row_token\": \"001 Entretanto\", \"col_token\": \"000 [SOS]\"}, {\"row\": 1, \"column\": 1, \"value\": 0.8016653656959534, \"row_token\": \"001 Entretanto\", \"col_token\": \"001 Entretanto\"}, {\"row\": 1, \"column\": 2, \"value\": 0.0, \"row_token\": \"001 Entretanto\", \"col_token\": \"002 ,\"}, {\"row\": 1, \"column\": 3, \"value\": 0.0, \"row_token\": \"001 Entretanto\", \"col_token\": \"003 tudo\"}, {\"row\": 1, \"column\": 4, \"value\": 0.0, \"row_token\": \"001 Entretanto\", \"col_token\": \"004 est\\u00e1\"}, {\"row\": 1, \"column\": 5, \"value\": 0.0, \"row_token\": \"001 Entretanto\", \"col_token\": \"005 estranho\"}, {\"row\": 1, \"column\": 6, \"value\": 0.0, \"row_token\": \"001 Entretanto\", \"col_token\": \"006 hoje\"}, {\"row\": 1, \"column\": 7, \"value\": 0.0, \"row_token\": \"001 Entretanto\", \"col_token\": \"007 !\\\"\"}, {\"row\": 2, \"column\": 0, \"value\": 0.2075604796409607, \"row_token\": \"002 ,\", \"col_token\": \"000 [SOS]\"}, {\"row\": 2, \"column\": 1, \"value\": 0.7882301211357117, \"row_token\": \"002 ,\", \"col_token\": \"001 Entretanto\"}, {\"row\": 2, \"column\": 2, \"value\": 0.1153206154704094, \"row_token\": \"002 ,\", \"col_token\": \"002 ,\"}, {\"row\": 2, \"column\": 3, \"value\": 0.0, \"row_token\": \"002 ,\", \"col_token\": \"003 tudo\"}, {\"row\": 2, \"column\": 4, \"value\": 0.0, \"row_token\": \"002 ,\", \"col_token\": \"004 est\\u00e1\"}, {\"row\": 2, \"column\": 5, \"value\": 0.0, \"row_token\": \"002 ,\", \"col_token\": \"005 estranho\"}, {\"row\": 2, \"column\": 6, \"value\": 0.0, \"row_token\": \"002 ,\", \"col_token\": \"006 hoje\"}, {\"row\": 2, \"column\": 7, \"value\": 0.0, \"row_token\": \"002 ,\", \"col_token\": \"007 !\\\"\"}, {\"row\": 3, \"column\": 0, \"value\": 0.01799491047859192, \"row_token\": \"003 tudo\", \"col_token\": \"000 [SOS]\"}, {\"row\": 3, \"column\": 1, \"value\": 0.09454843401908875, \"row_token\": \"003 tudo\", \"col_token\": \"001 Entretanto\"}, {\"row\": 3, \"column\": 2, \"value\": 0.008321849629282951, \"row_token\": \"003 tudo\", \"col_token\": \"002 ,\"}, {\"row\": 3, \"column\": 3, \"value\": 0.990246057510376, \"row_token\": \"003 tudo\", \"col_token\": \"003 tudo\"}, {\"row\": 3, \"column\": 4, \"value\": 0.0, \"row_token\": \"003 tudo\", \"col_token\": \"004 est\\u00e1\"}, {\"row\": 3, \"column\": 5, \"value\": 0.0, \"row_token\": \"003 tudo\", \"col_token\": \"005 estranho\"}, {\"row\": 3, \"column\": 6, \"value\": 0.0, \"row_token\": \"003 tudo\", \"col_token\": \"006 hoje\"}, {\"row\": 3, \"column\": 7, \"value\": 0.0, \"row_token\": \"003 tudo\", \"col_token\": \"007 !\\\"\"}, {\"row\": 4, \"column\": 0, \"value\": 0.22547465562820435, \"row_token\": \"004 est\\u00e1\", \"col_token\": \"000 [SOS]\"}, {\"row\": 4, \"column\": 1, \"value\": 0.05242113023996353, \"row_token\": \"004 est\\u00e1\", \"col_token\": \"001 Entretanto\"}, {\"row\": 4, \"column\": 2, \"value\": 0.04025755450129509, \"row_token\": \"004 est\\u00e1\", \"col_token\": \"002 ,\"}, {\"row\": 4, \"column\": 3, \"value\": 0.6729724407196045, \"row_token\": \"004 est\\u00e1\", \"col_token\": \"003 tudo\"}, {\"row\": 4, \"column\": 4, \"value\": 0.11998533457517624, \"row_token\": \"004 est\\u00e1\", \"col_token\": \"004 est\\u00e1\"}, {\"row\": 4, \"column\": 5, \"value\": 0.0, \"row_token\": \"004 est\\u00e1\", \"col_token\": \"005 estranho\"}, {\"row\": 4, \"column\": 6, \"value\": 0.0, \"row_token\": \"004 est\\u00e1\", \"col_token\": \"006 hoje\"}, {\"row\": 4, \"column\": 7, \"value\": 0.0, \"row_token\": \"004 est\\u00e1\", \"col_token\": \"007 !\\\"\"}, {\"row\": 5, \"column\": 0, \"value\": 0.04294643923640251, \"row_token\": \"005 estranho\", \"col_token\": \"000 [SOS]\"}, {\"row\": 5, \"column\": 1, \"value\": 0.34115010499954224, \"row_token\": \"005 estranho\", \"col_token\": \"001 Entretanto\"}, {\"row\": 5, \"column\": 2, \"value\": 0.025419287383556366, \"row_token\": \"005 estranho\", \"col_token\": \"002 ,\"}, {\"row\": 5, \"column\": 3, \"value\": 0.38233089447021484, \"row_token\": \"005 estranho\", \"col_token\": \"003 tudo\"}, {\"row\": 5, \"column\": 4, \"value\": 0.08649829775094986, \"row_token\": \"005 estranho\", \"col_token\": \"004 est\\u00e1\"}, {\"row\": 5, \"column\": 5, \"value\": 0.2327660769224167, \"row_token\": \"005 estranho\", \"col_token\": \"005 estranho\"}, {\"row\": 5, \"column\": 6, \"value\": 0.0, \"row_token\": \"005 estranho\", \"col_token\": \"006 hoje\"}, {\"row\": 5, \"column\": 7, \"value\": 0.0, \"row_token\": \"005 estranho\", \"col_token\": \"007 !\\\"\"}, {\"row\": 6, \"column\": 0, \"value\": 0.005771541502326727, \"row_token\": \"006 hoje\", \"col_token\": \"000 [SOS]\"}, {\"row\": 6, \"column\": 1, \"value\": 0.06982613354921341, \"row_token\": \"006 hoje\", \"col_token\": \"001 Entretanto\"}, {\"row\": 6, \"column\": 2, \"value\": 0.006339396815747023, \"row_token\": \"006 hoje\", \"col_token\": \"002 ,\"}, {\"row\": 6, \"column\": 3, \"value\": 0.08600661158561707, \"row_token\": \"006 hoje\", \"col_token\": \"003 tudo\"}, {\"row\": 6, \"column\": 4, \"value\": 0.06307145208120346, \"row_token\": \"006 hoje\", \"col_token\": \"004 est\\u00e1\"}, {\"row\": 6, \"column\": 5, \"value\": 0.15408700704574585, \"row_token\": \"006 hoje\", \"col_token\": \"005 estranho\"}, {\"row\": 6, \"column\": 6, \"value\": 0.7260091304779053, \"row_token\": \"006 hoje\", \"col_token\": \"006 hoje\"}, {\"row\": 6, \"column\": 7, \"value\": 0.0, \"row_token\": \"006 hoje\", \"col_token\": \"007 !\\\"\"}, {\"row\": 7, \"column\": 0, \"value\": 0.007233328651636839, \"row_token\": \"007 !\\\"\", \"col_token\": \"000 [SOS]\"}, {\"row\": 7, \"column\": 1, \"value\": 0.04285481199622154, \"row_token\": \"007 !\\\"\", \"col_token\": \"001 Entretanto\"}, {\"row\": 7, \"column\": 2, \"value\": 0.007077840622514486, \"row_token\": \"007 !\\\"\", \"col_token\": \"002 ,\"}, {\"row\": 7, \"column\": 3, \"value\": 0.20298172533512115, \"row_token\": \"007 !\\\"\", \"col_token\": \"003 tudo\"}, {\"row\": 7, \"column\": 4, \"value\": 0.06775137782096863, \"row_token\": \"007 !\\\"\", \"col_token\": \"004 est\\u00e1\"}, {\"row\": 7, \"column\": 5, \"value\": 0.0, \"row_token\": \"007 !\\\"\", \"col_token\": \"005 estranho\"}, {\"row\": 7, \"column\": 6, \"value\": 0.4010925889015198, \"row_token\": \"007 !\\\"\", \"col_token\": \"006 hoje\"}, {\"row\": 7, \"column\": 7, \"value\": 0.21796315908432007, \"row_token\": \"007 !\\\"\", \"col_token\": \"007 !\\\"\"}], \"data-393366558795aa743eaacc71db8a1880\": [{\"row\": 0, \"column\": 0, \"value\": 1.1111111640930176, \"row_token\": \"000 [SOS]\", \"col_token\": \"000 [SOS]\"}, {\"row\": 0, \"column\": 1, \"value\": 0.0, \"row_token\": \"000 [SOS]\", \"col_token\": \"001 Entretanto\"}, {\"row\": 0, \"column\": 2, \"value\": 0.0, \"row_token\": \"000 [SOS]\", \"col_token\": \"002 ,\"}, {\"row\": 0, \"column\": 3, \"value\": 0.0, \"row_token\": \"000 [SOS]\", \"col_token\": \"003 tudo\"}, {\"row\": 0, \"column\": 4, \"value\": 0.0, \"row_token\": \"000 [SOS]\", \"col_token\": \"004 est\\u00e1\"}, {\"row\": 0, \"column\": 5, \"value\": 0.0, \"row_token\": \"000 [SOS]\", \"col_token\": \"005 estranho\"}, {\"row\": 0, \"column\": 6, \"value\": 0.0, \"row_token\": \"000 [SOS]\", \"col_token\": \"006 hoje\"}, {\"row\": 0, \"column\": 7, \"value\": 0.0, \"row_token\": \"000 [SOS]\", \"col_token\": \"007 !\\\"\"}, {\"row\": 1, \"column\": 0, \"value\": 0.0, \"row_token\": \"001 Entretanto\", \"col_token\": \"000 [SOS]\"}, {\"row\": 1, \"column\": 1, \"value\": 0.8666837215423584, \"row_token\": \"001 Entretanto\", \"col_token\": \"001 Entretanto\"}, {\"row\": 1, \"column\": 2, \"value\": 0.0, \"row_token\": \"001 Entretanto\", \"col_token\": \"002 ,\"}, {\"row\": 1, \"column\": 3, \"value\": 0.0, \"row_token\": \"001 Entretanto\", \"col_token\": \"003 tudo\"}, {\"row\": 1, \"column\": 4, \"value\": 0.0, \"row_token\": \"001 Entretanto\", \"col_token\": \"004 est\\u00e1\"}, {\"row\": 1, \"column\": 5, \"value\": 0.0, \"row_token\": \"001 Entretanto\", \"col_token\": \"005 estranho\"}, {\"row\": 1, \"column\": 6, \"value\": 0.0, \"row_token\": \"001 Entretanto\", \"col_token\": \"006 hoje\"}, {\"row\": 1, \"column\": 7, \"value\": 0.0, \"row_token\": \"001 Entretanto\", \"col_token\": \"007 !\\\"\"}, {\"row\": 2, \"column\": 0, \"value\": 0.42727017402648926, \"row_token\": \"002 ,\", \"col_token\": \"000 [SOS]\"}, {\"row\": 2, \"column\": 1, \"value\": 0.5636385083198547, \"row_token\": \"002 ,\", \"col_token\": \"001 Entretanto\"}, {\"row\": 2, \"column\": 2, \"value\": 0.1202024444937706, \"row_token\": \"002 ,\", \"col_token\": \"002 ,\"}, {\"row\": 2, \"column\": 3, \"value\": 0.0, \"row_token\": \"002 ,\", \"col_token\": \"003 tudo\"}, {\"row\": 2, \"column\": 4, \"value\": 0.0, \"row_token\": \"002 ,\", \"col_token\": \"004 est\\u00e1\"}, {\"row\": 2, \"column\": 5, \"value\": 0.0, \"row_token\": \"002 ,\", \"col_token\": \"005 estranho\"}, {\"row\": 2, \"column\": 6, \"value\": 0.0, \"row_token\": \"002 ,\", \"col_token\": \"006 hoje\"}, {\"row\": 2, \"column\": 7, \"value\": 0.0, \"row_token\": \"002 ,\", \"col_token\": \"007 !\\\"\"}, {\"row\": 3, \"column\": 0, \"value\": 0.24985140562057495, \"row_token\": \"003 tudo\", \"col_token\": \"000 [SOS]\"}, {\"row\": 3, \"column\": 1, \"value\": 0.0, \"row_token\": \"003 tudo\", \"col_token\": \"001 Entretanto\"}, {\"row\": 3, \"column\": 2, \"value\": 0.14890128374099731, \"row_token\": \"003 tudo\", \"col_token\": \"002 ,\"}, {\"row\": 3, \"column\": 3, \"value\": 0.3545776605606079, \"row_token\": \"003 tudo\", \"col_token\": \"003 tudo\"}, {\"row\": 3, \"column\": 4, \"value\": 0.0, \"row_token\": \"003 tudo\", \"col_token\": \"004 est\\u00e1\"}, {\"row\": 3, \"column\": 5, \"value\": 0.0, \"row_token\": \"003 tudo\", \"col_token\": \"005 estranho\"}, {\"row\": 3, \"column\": 6, \"value\": 0.0, \"row_token\": \"003 tudo\", \"col_token\": \"006 hoje\"}, {\"row\": 3, \"column\": 7, \"value\": 0.0, \"row_token\": \"003 tudo\", \"col_token\": \"007 !\\\"\"}, {\"row\": 4, \"column\": 0, \"value\": 0.0, \"row_token\": \"004 est\\u00e1\", \"col_token\": \"000 [SOS]\"}, {\"row\": 4, \"column\": 1, \"value\": 0.22821544110774994, \"row_token\": \"004 est\\u00e1\", \"col_token\": \"001 Entretanto\"}, {\"row\": 4, \"column\": 2, \"value\": 0.30485326051712036, \"row_token\": \"004 est\\u00e1\", \"col_token\": \"002 ,\"}, {\"row\": 4, \"column\": 3, \"value\": 0.24153690040111542, \"row_token\": \"004 est\\u00e1\", \"col_token\": \"003 tudo\"}, {\"row\": 4, \"column\": 4, \"value\": 0.2574419379234314, \"row_token\": \"004 est\\u00e1\", \"col_token\": \"004 est\\u00e1\"}, {\"row\": 4, \"column\": 5, \"value\": 0.0, \"row_token\": \"004 est\\u00e1\", \"col_token\": \"005 estranho\"}, {\"row\": 4, \"column\": 6, \"value\": 0.0, \"row_token\": \"004 est\\u00e1\", \"col_token\": \"006 hoje\"}, {\"row\": 4, \"column\": 7, \"value\": 0.0, \"row_token\": \"004 est\\u00e1\", \"col_token\": \"007 !\\\"\"}, {\"row\": 5, \"column\": 0, \"value\": 0.03809957206249237, \"row_token\": \"005 estranho\", \"col_token\": \"000 [SOS]\"}, {\"row\": 5, \"column\": 1, \"value\": 0.15373393893241882, \"row_token\": \"005 estranho\", \"col_token\": \"001 Entretanto\"}, {\"row\": 5, \"column\": 2, \"value\": 0.013745334930717945, \"row_token\": \"005 estranho\", \"col_token\": \"002 ,\"}, {\"row\": 5, \"column\": 3, \"value\": 0.03564874082803726, \"row_token\": \"005 estranho\", \"col_token\": \"003 tudo\"}, {\"row\": 5, \"column\": 4, \"value\": 0.37298399209976196, \"row_token\": \"005 estranho\", \"col_token\": \"004 est\\u00e1\"}, {\"row\": 5, \"column\": 5, \"value\": 0.4968995749950409, \"row_token\": \"005 estranho\", \"col_token\": \"005 estranho\"}, {\"row\": 5, \"column\": 6, \"value\": 0.0, \"row_token\": \"005 estranho\", \"col_token\": \"006 hoje\"}, {\"row\": 5, \"column\": 7, \"value\": 0.0, \"row_token\": \"005 estranho\", \"col_token\": \"007 !\\\"\"}, {\"row\": 6, \"column\": 0, \"value\": 0.038411129266023636, \"row_token\": \"006 hoje\", \"col_token\": \"000 [SOS]\"}, {\"row\": 6, \"column\": 1, \"value\": 0.18377012014389038, \"row_token\": \"006 hoje\", \"col_token\": \"001 Entretanto\"}, {\"row\": 6, \"column\": 2, \"value\": 0.07261757552623749, \"row_token\": \"006 hoje\", \"col_token\": \"002 ,\"}, {\"row\": 6, \"column\": 3, \"value\": 0.035125069320201874, \"row_token\": \"006 hoje\", \"col_token\": \"003 tudo\"}, {\"row\": 6, \"column\": 4, \"value\": 0.10518155992031097, \"row_token\": \"006 hoje\", \"col_token\": \"004 est\\u00e1\"}, {\"row\": 6, \"column\": 5, \"value\": 0.18193376064300537, \"row_token\": \"006 hoje\", \"col_token\": \"005 estranho\"}, {\"row\": 6, \"column\": 6, \"value\": 0.494071900844574, \"row_token\": \"006 hoje\", \"col_token\": \"006 hoje\"}, {\"row\": 6, \"column\": 7, \"value\": 0.0, \"row_token\": \"006 hoje\", \"col_token\": \"007 !\\\"\"}, {\"row\": 7, \"column\": 0, \"value\": 0.019239794462919235, \"row_token\": \"007 !\\\"\", \"col_token\": \"000 [SOS]\"}, {\"row\": 7, \"column\": 1, \"value\": 0.28036412596702576, \"row_token\": \"007 !\\\"\", \"col_token\": \"001 Entretanto\"}, {\"row\": 7, \"column\": 2, \"value\": 0.01749277673661709, \"row_token\": \"007 !\\\"\", \"col_token\": \"002 ,\"}, {\"row\": 7, \"column\": 3, \"value\": 0.061683960258960724, \"row_token\": \"007 !\\\"\", \"col_token\": \"003 tudo\"}, {\"row\": 7, \"column\": 4, \"value\": 0.11009903997182846, \"row_token\": \"007 !\\\"\", \"col_token\": \"004 est\\u00e1\"}, {\"row\": 7, \"column\": 5, \"value\": 0.34383925795555115, \"row_token\": \"007 !\\\"\", \"col_token\": \"005 estranho\"}, {\"row\": 7, \"column\": 6, \"value\": 0.1435367614030838, \"row_token\": \"007 !\\\"\", \"col_token\": \"006 hoje\"}, {\"row\": 7, \"column\": 7, \"value\": 0.13485540449619293, \"row_token\": \"007 !\\\"\", \"col_token\": \"007 !\\\"\"}], \"data-3d8a11322fe372b7b174e81e0b2a84a9\": [{\"row\": 0, \"column\": 0, \"value\": 1.1111111640930176, \"row_token\": \"000 [SOS]\", \"col_token\": \"000 [SOS]\"}, {\"row\": 0, \"column\": 1, \"value\": 0.0, \"row_token\": \"000 [SOS]\", \"col_token\": \"001 Entretanto\"}, {\"row\": 0, \"column\": 2, \"value\": 0.0, \"row_token\": \"000 [SOS]\", \"col_token\": \"002 ,\"}, {\"row\": 0, \"column\": 3, \"value\": 0.0, \"row_token\": \"000 [SOS]\", \"col_token\": \"003 tudo\"}, {\"row\": 0, \"column\": 4, \"value\": 0.0, \"row_token\": \"000 [SOS]\", \"col_token\": \"004 est\\u00e1\"}, {\"row\": 0, \"column\": 5, \"value\": 0.0, \"row_token\": \"000 [SOS]\", \"col_token\": \"005 estranho\"}, {\"row\": 0, \"column\": 6, \"value\": 0.0, \"row_token\": \"000 [SOS]\", \"col_token\": \"006 hoje\"}, {\"row\": 0, \"column\": 7, \"value\": 0.0, \"row_token\": \"000 [SOS]\", \"col_token\": \"007 !\\\"\"}, {\"row\": 1, \"column\": 0, \"value\": 0.368147075176239, \"row_token\": \"001 Entretanto\", \"col_token\": \"000 [SOS]\"}, {\"row\": 1, \"column\": 1, \"value\": 0.7429640293121338, \"row_token\": \"001 Entretanto\", \"col_token\": \"001 Entretanto\"}, {\"row\": 1, \"column\": 2, \"value\": 0.0, \"row_token\": \"001 Entretanto\", \"col_token\": \"002 ,\"}, {\"row\": 1, \"column\": 3, \"value\": 0.0, \"row_token\": \"001 Entretanto\", \"col_token\": \"003 tudo\"}, {\"row\": 1, \"column\": 4, \"value\": 0.0, \"row_token\": \"001 Entretanto\", \"col_token\": \"004 est\\u00e1\"}, {\"row\": 1, \"column\": 5, \"value\": 0.0, \"row_token\": \"001 Entretanto\", \"col_token\": \"005 estranho\"}, {\"row\": 1, \"column\": 6, \"value\": 0.0, \"row_token\": \"001 Entretanto\", \"col_token\": \"006 hoje\"}, {\"row\": 1, \"column\": 7, \"value\": 0.0, \"row_token\": \"001 Entretanto\", \"col_token\": \"007 !\\\"\"}, {\"row\": 2, \"column\": 0, \"value\": 0.8609951138496399, \"row_token\": \"002 ,\", \"col_token\": \"000 [SOS]\"}, {\"row\": 2, \"column\": 1, \"value\": 0.1495307981967926, \"row_token\": \"002 ,\", \"col_token\": \"001 Entretanto\"}, {\"row\": 2, \"column\": 2, \"value\": 0.10058525204658508, \"row_token\": \"002 ,\", \"col_token\": \"002 ,\"}, {\"row\": 2, \"column\": 3, \"value\": 0.0, \"row_token\": \"002 ,\", \"col_token\": \"003 tudo\"}, {\"row\": 2, \"column\": 4, \"value\": 0.0, \"row_token\": \"002 ,\", \"col_token\": \"004 est\\u00e1\"}, {\"row\": 2, \"column\": 5, \"value\": 0.0, \"row_token\": \"002 ,\", \"col_token\": \"005 estranho\"}, {\"row\": 2, \"column\": 6, \"value\": 0.0, \"row_token\": \"002 ,\", \"col_token\": \"006 hoje\"}, {\"row\": 2, \"column\": 7, \"value\": 0.0, \"row_token\": \"002 ,\", \"col_token\": \"007 !\\\"\"}, {\"row\": 3, \"column\": 0, \"value\": 0.2802567481994629, \"row_token\": \"003 tudo\", \"col_token\": \"000 [SOS]\"}, {\"row\": 3, \"column\": 1, \"value\": 0.52372807264328, \"row_token\": \"003 tudo\", \"col_token\": \"001 Entretanto\"}, {\"row\": 3, \"column\": 2, \"value\": 0.16934217512607574, \"row_token\": \"003 tudo\", \"col_token\": \"002 ,\"}, {\"row\": 3, \"column\": 3, \"value\": 0.13778410851955414, \"row_token\": \"003 tudo\", \"col_token\": \"003 tudo\"}, {\"row\": 3, \"column\": 4, \"value\": 0.0, \"row_token\": \"003 tudo\", \"col_token\": \"004 est\\u00e1\"}, {\"row\": 3, \"column\": 5, \"value\": 0.0, \"row_token\": \"003 tudo\", \"col_token\": \"005 estranho\"}, {\"row\": 3, \"column\": 6, \"value\": 0.0, \"row_token\": \"003 tudo\", \"col_token\": \"006 hoje\"}, {\"row\": 3, \"column\": 7, \"value\": 0.0, \"row_token\": \"003 tudo\", \"col_token\": \"007 !\\\"\"}, {\"row\": 4, \"column\": 0, \"value\": 0.04830636829137802, \"row_token\": \"004 est\\u00e1\", \"col_token\": \"000 [SOS]\"}, {\"row\": 4, \"column\": 1, \"value\": 0.15561559796333313, \"row_token\": \"004 est\\u00e1\", \"col_token\": \"001 Entretanto\"}, {\"row\": 4, \"column\": 2, \"value\": 0.21691496670246124, \"row_token\": \"004 est\\u00e1\", \"col_token\": \"002 ,\"}, {\"row\": 4, \"column\": 3, \"value\": 0.20736758410930634, \"row_token\": \"004 est\\u00e1\", \"col_token\": \"003 tudo\"}, {\"row\": 4, \"column\": 4, \"value\": 0.4829067587852478, \"row_token\": \"004 est\\u00e1\", \"col_token\": \"004 est\\u00e1\"}, {\"row\": 4, \"column\": 5, \"value\": 0.0, \"row_token\": \"004 est\\u00e1\", \"col_token\": \"005 estranho\"}, {\"row\": 4, \"column\": 6, \"value\": 0.0, \"row_token\": \"004 est\\u00e1\", \"col_token\": \"006 hoje\"}, {\"row\": 4, \"column\": 7, \"value\": 0.0, \"row_token\": \"004 est\\u00e1\", \"col_token\": \"007 !\\\"\"}, {\"row\": 5, \"column\": 0, \"value\": 0.7570974826812744, \"row_token\": \"005 estranho\", \"col_token\": \"000 [SOS]\"}, {\"row\": 5, \"column\": 1, \"value\": 0.045434754341840744, \"row_token\": \"005 estranho\", \"col_token\": \"001 Entretanto\"}, {\"row\": 5, \"column\": 2, \"value\": 0.05646195262670517, \"row_token\": \"005 estranho\", \"col_token\": \"002 ,\"}, {\"row\": 5, \"column\": 3, \"value\": 0.018158145248889923, \"row_token\": \"005 estranho\", \"col_token\": \"003 tudo\"}, {\"row\": 5, \"column\": 4, \"value\": 0.10517667979001999, \"row_token\": \"005 estranho\", \"col_token\": \"004 est\\u00e1\"}, {\"row\": 5, \"column\": 5, \"value\": 0.12878207862377167, \"row_token\": \"005 estranho\", \"col_token\": \"005 estranho\"}, {\"row\": 5, \"column\": 6, \"value\": 0.0, \"row_token\": \"005 estranho\", \"col_token\": \"006 hoje\"}, {\"row\": 5, \"column\": 7, \"value\": 0.0, \"row_token\": \"005 estranho\", \"col_token\": \"007 !\\\"\"}, {\"row\": 6, \"column\": 0, \"value\": 0.0028667068108916283, \"row_token\": \"006 hoje\", \"col_token\": \"000 [SOS]\"}, {\"row\": 6, \"column\": 1, \"value\": 0.04330790415406227, \"row_token\": \"006 hoje\", \"col_token\": \"001 Entretanto\"}, {\"row\": 6, \"column\": 2, \"value\": 0.007962793111801147, \"row_token\": \"006 hoje\", \"col_token\": \"002 ,\"}, {\"row\": 6, \"column\": 3, \"value\": 0.006902344990521669, \"row_token\": \"006 hoje\", \"col_token\": \"003 tudo\"}, {\"row\": 6, \"column\": 4, \"value\": 0.054829083383083344, \"row_token\": \"006 hoje\", \"col_token\": \"004 est\\u00e1\"}, {\"row\": 6, \"column\": 5, \"value\": 0.04640590772032738, \"row_token\": \"006 hoje\", \"col_token\": \"005 estranho\"}, {\"row\": 6, \"column\": 6, \"value\": 0.9488363862037659, \"row_token\": \"006 hoje\", \"col_token\": \"006 hoje\"}, {\"row\": 6, \"column\": 7, \"value\": 0.0, \"row_token\": \"006 hoje\", \"col_token\": \"007 !\\\"\"}, {\"row\": 7, \"column\": 0, \"value\": 0.04339238628745079, \"row_token\": \"007 !\\\"\", \"col_token\": \"000 [SOS]\"}, {\"row\": 7, \"column\": 1, \"value\": 0.22539858520030975, \"row_token\": \"007 !\\\"\", \"col_token\": \"001 Entretanto\"}, {\"row\": 7, \"column\": 2, \"value\": 0.044120799750089645, \"row_token\": \"007 !\\\"\", \"col_token\": \"002 ,\"}, {\"row\": 7, \"column\": 3, \"value\": 0.009954939596354961, \"row_token\": \"007 !\\\"\", \"col_token\": \"003 tudo\"}, {\"row\": 7, \"column\": 4, \"value\": 0.03884245455265045, \"row_token\": \"007 !\\\"\", \"col_token\": \"004 est\\u00e1\"}, {\"row\": 7, \"column\": 5, \"value\": 0.03497560694813728, \"row_token\": \"007 !\\\"\", \"col_token\": \"005 estranho\"}, {\"row\": 7, \"column\": 6, \"value\": 0.2782716155052185, \"row_token\": \"007 !\\\"\", \"col_token\": \"006 hoje\"}, {\"row\": 7, \"column\": 7, \"value\": 0.43615472316741943, \"row_token\": \"007 !\\\"\", \"col_token\": \"007 !\\\"\"}], \"data-986c9b95dd2848ffb8dd0b0e27f2b3f8\": [{\"row\": 0, \"column\": 0, \"value\": 1.1111111640930176, \"row_token\": \"000 [SOS]\", \"col_token\": \"000 [SOS]\"}, {\"row\": 0, \"column\": 1, \"value\": 0.0, \"row_token\": \"000 [SOS]\", \"col_token\": \"001 Entretanto\"}, {\"row\": 0, \"column\": 2, \"value\": 0.0, \"row_token\": \"000 [SOS]\", \"col_token\": \"002 ,\"}, {\"row\": 0, \"column\": 3, \"value\": 0.0, \"row_token\": \"000 [SOS]\", \"col_token\": \"003 tudo\"}, {\"row\": 0, \"column\": 4, \"value\": 0.0, \"row_token\": \"000 [SOS]\", \"col_token\": \"004 est\\u00e1\"}, {\"row\": 0, \"column\": 5, \"value\": 0.0, \"row_token\": \"000 [SOS]\", \"col_token\": \"005 estranho\"}, {\"row\": 0, \"column\": 6, \"value\": 0.0, \"row_token\": \"000 [SOS]\", \"col_token\": \"006 hoje\"}, {\"row\": 0, \"column\": 7, \"value\": 0.0, \"row_token\": \"000 [SOS]\", \"col_token\": \"007 !\\\"\"}, {\"row\": 1, \"column\": 0, \"value\": 0.0, \"row_token\": \"001 Entretanto\", \"col_token\": \"000 [SOS]\"}, {\"row\": 1, \"column\": 1, \"value\": 1.0359772443771362, \"row_token\": \"001 Entretanto\", \"col_token\": \"001 Entretanto\"}, {\"row\": 1, \"column\": 2, \"value\": 0.0, \"row_token\": \"001 Entretanto\", \"col_token\": \"002 ,\"}, {\"row\": 1, \"column\": 3, \"value\": 0.0, \"row_token\": \"001 Entretanto\", \"col_token\": \"003 tudo\"}, {\"row\": 1, \"column\": 4, \"value\": 0.0, \"row_token\": \"001 Entretanto\", \"col_token\": \"004 est\\u00e1\"}, {\"row\": 1, \"column\": 5, \"value\": 0.0, \"row_token\": \"001 Entretanto\", \"col_token\": \"005 estranho\"}, {\"row\": 1, \"column\": 6, \"value\": 0.0, \"row_token\": \"001 Entretanto\", \"col_token\": \"006 hoje\"}, {\"row\": 1, \"column\": 7, \"value\": 0.0, \"row_token\": \"001 Entretanto\", \"col_token\": \"007 !\\\"\"}, {\"row\": 2, \"column\": 0, \"value\": 0.010318945161998272, \"row_token\": \"002 ,\", \"col_token\": \"000 [SOS]\"}, {\"row\": 2, \"column\": 1, \"value\": 0.7155014872550964, \"row_token\": \"002 ,\", \"col_token\": \"001 Entretanto\"}, {\"row\": 2, \"column\": 2, \"value\": 0.3852907419204712, \"row_token\": \"002 ,\", \"col_token\": \"002 ,\"}, {\"row\": 2, \"column\": 3, \"value\": 0.0, \"row_token\": \"002 ,\", \"col_token\": \"003 tudo\"}, {\"row\": 2, \"column\": 4, \"value\": 0.0, \"row_token\": \"002 ,\", \"col_token\": \"004 est\\u00e1\"}, {\"row\": 2, \"column\": 5, \"value\": 0.0, \"row_token\": \"002 ,\", \"col_token\": \"005 estranho\"}, {\"row\": 2, \"column\": 6, \"value\": 0.0, \"row_token\": \"002 ,\", \"col_token\": \"006 hoje\"}, {\"row\": 2, \"column\": 7, \"value\": 0.0, \"row_token\": \"002 ,\", \"col_token\": \"007 !\\\"\"}, {\"row\": 3, \"column\": 0, \"value\": 0.0, \"row_token\": \"003 tudo\", \"col_token\": \"000 [SOS]\"}, {\"row\": 3, \"column\": 1, \"value\": 0.0, \"row_token\": \"003 tudo\", \"col_token\": \"001 Entretanto\"}, {\"row\": 3, \"column\": 2, \"value\": 0.25073760747909546, \"row_token\": \"003 tudo\", \"col_token\": \"002 ,\"}, {\"row\": 3, \"column\": 3, \"value\": 0.25846973061561584, \"row_token\": \"003 tudo\", \"col_token\": \"003 tudo\"}, {\"row\": 3, \"column\": 4, \"value\": 0.0, \"row_token\": \"003 tudo\", \"col_token\": \"004 est\\u00e1\"}, {\"row\": 3, \"column\": 5, \"value\": 0.0, \"row_token\": \"003 tudo\", \"col_token\": \"005 estranho\"}, {\"row\": 3, \"column\": 6, \"value\": 0.0, \"row_token\": \"003 tudo\", \"col_token\": \"006 hoje\"}, {\"row\": 3, \"column\": 7, \"value\": 0.0, \"row_token\": \"003 tudo\", \"col_token\": \"007 !\\\"\"}, {\"row\": 4, \"column\": 0, \"value\": 0.10274472087621689, \"row_token\": \"004 est\\u00e1\", \"col_token\": \"000 [SOS]\"}, {\"row\": 4, \"column\": 1, \"value\": 0.0683702677488327, \"row_token\": \"004 est\\u00e1\", \"col_token\": \"001 Entretanto\"}, {\"row\": 4, \"column\": 2, \"value\": 0.19519194960594177, \"row_token\": \"004 est\\u00e1\", \"col_token\": \"002 ,\"}, {\"row\": 4, \"column\": 3, \"value\": 0.08026806265115738, \"row_token\": \"004 est\\u00e1\", \"col_token\": \"003 tudo\"}, {\"row\": 4, \"column\": 4, \"value\": 0.66453617811203, \"row_token\": \"004 est\\u00e1\", \"col_token\": \"004 est\\u00e1\"}, {\"row\": 4, \"column\": 5, \"value\": 0.0, \"row_token\": \"004 est\\u00e1\", \"col_token\": \"005 estranho\"}, {\"row\": 4, \"column\": 6, \"value\": 0.0, \"row_token\": \"004 est\\u00e1\", \"col_token\": \"006 hoje\"}, {\"row\": 4, \"column\": 7, \"value\": 0.0, \"row_token\": \"004 est\\u00e1\", \"col_token\": \"007 !\\\"\"}, {\"row\": 5, \"column\": 0, \"value\": 0.022716201841831207, \"row_token\": \"005 estranho\", \"col_token\": \"000 [SOS]\"}, {\"row\": 5, \"column\": 1, \"value\": 0.03940216824412346, \"row_token\": \"005 estranho\", \"col_token\": \"001 Entretanto\"}, {\"row\": 5, \"column\": 2, \"value\": 0.05495677515864372, \"row_token\": \"005 estranho\", \"col_token\": \"002 ,\"}, {\"row\": 5, \"column\": 3, \"value\": 0.32842445373535156, \"row_token\": \"005 estranho\", \"col_token\": \"003 tudo\"}, {\"row\": 5, \"column\": 4, \"value\": 0.0, \"row_token\": \"005 estranho\", \"col_token\": \"004 est\\u00e1\"}, {\"row\": 5, \"column\": 5, \"value\": 0.19900821149349213, \"row_token\": \"005 estranho\", \"col_token\": \"005 estranho\"}, {\"row\": 5, \"column\": 6, \"value\": 0.0, \"row_token\": \"005 estranho\", \"col_token\": \"006 hoje\"}, {\"row\": 5, \"column\": 7, \"value\": 0.0, \"row_token\": \"005 estranho\", \"col_token\": \"007 !\\\"\"}, {\"row\": 6, \"column\": 0, \"value\": 0.011465494520962238, \"row_token\": \"006 hoje\", \"col_token\": \"000 [SOS]\"}, {\"row\": 6, \"column\": 1, \"value\": 0.05633683502674103, \"row_token\": \"006 hoje\", \"col_token\": \"001 Entretanto\"}, {\"row\": 6, \"column\": 2, \"value\": 0.11625786870718002, \"row_token\": \"006 hoje\", \"col_token\": \"002 ,\"}, {\"row\": 6, \"column\": 3, \"value\": 0.12776970863342285, \"row_token\": \"006 hoje\", \"col_token\": \"003 tudo\"}, {\"row\": 6, \"column\": 4, \"value\": 0.09151197224855423, \"row_token\": \"006 hoje\", \"col_token\": \"004 est\\u00e1\"}, {\"row\": 6, \"column\": 5, \"value\": 0.3363848626613617, \"row_token\": \"006 hoje\", \"col_token\": \"005 estranho\"}, {\"row\": 6, \"column\": 6, \"value\": 0.3713844418525696, \"row_token\": \"006 hoje\", \"col_token\": \"006 hoje\"}, {\"row\": 6, \"column\": 7, \"value\": 0.0, \"row_token\": \"006 hoje\", \"col_token\": \"007 !\\\"\"}, {\"row\": 7, \"column\": 0, \"value\": 0.0, \"row_token\": \"007 !\\\"\", \"col_token\": \"000 [SOS]\"}, {\"row\": 7, \"column\": 1, \"value\": 0.08090400695800781, \"row_token\": \"007 !\\\"\", \"col_token\": \"001 Entretanto\"}, {\"row\": 7, \"column\": 2, \"value\": 0.0530853271484375, \"row_token\": \"007 !\\\"\", \"col_token\": \"002 ,\"}, {\"row\": 7, \"column\": 3, \"value\": 0.10264720022678375, \"row_token\": \"007 !\\\"\", \"col_token\": \"003 tudo\"}, {\"row\": 7, \"column\": 4, \"value\": 0.14399714767932892, \"row_token\": \"007 !\\\"\", \"col_token\": \"004 est\\u00e1\"}, {\"row\": 7, \"column\": 5, \"value\": 0.2245948314666748, \"row_token\": \"007 !\\\"\", \"col_token\": \"005 estranho\"}, {\"row\": 7, \"column\": 6, \"value\": 0.15852312743663788, \"row_token\": \"007 !\\\"\", \"col_token\": \"006 hoje\"}, {\"row\": 7, \"column\": 7, \"value\": 0.32871443033218384, \"row_token\": \"007 !\\\"\", \"col_token\": \"007 !\\\"\"}], \"data-601755d8b96399de2f2e3c44847bc4a4\": [{\"row\": 0, \"column\": 0, \"value\": 1.1111111640930176, \"row_token\": \"000 [SOS]\", \"col_token\": \"000 [SOS]\"}, {\"row\": 0, \"column\": 1, \"value\": 0.0, \"row_token\": \"000 [SOS]\", \"col_token\": \"001 Entretanto\"}, {\"row\": 0, \"column\": 2, \"value\": 0.0, \"row_token\": \"000 [SOS]\", \"col_token\": \"002 ,\"}, {\"row\": 0, \"column\": 3, \"value\": 0.0, \"row_token\": \"000 [SOS]\", \"col_token\": \"003 tudo\"}, {\"row\": 0, \"column\": 4, \"value\": 0.0, \"row_token\": \"000 [SOS]\", \"col_token\": \"004 est\\u00e1\"}, {\"row\": 0, \"column\": 5, \"value\": 0.0, \"row_token\": \"000 [SOS]\", \"col_token\": \"005 estranho\"}, {\"row\": 0, \"column\": 6, \"value\": 0.0, \"row_token\": \"000 [SOS]\", \"col_token\": \"006 hoje\"}, {\"row\": 0, \"column\": 7, \"value\": 0.0, \"row_token\": \"000 [SOS]\", \"col_token\": \"007 !\\\"\"}, {\"row\": 1, \"column\": 0, \"value\": 0.39177054166793823, \"row_token\": \"001 Entretanto\", \"col_token\": \"000 [SOS]\"}, {\"row\": 1, \"column\": 1, \"value\": 0.7193406224250793, \"row_token\": \"001 Entretanto\", \"col_token\": \"001 Entretanto\"}, {\"row\": 1, \"column\": 2, \"value\": 0.0, \"row_token\": \"001 Entretanto\", \"col_token\": \"002 ,\"}, {\"row\": 1, \"column\": 3, \"value\": 0.0, \"row_token\": \"001 Entretanto\", \"col_token\": \"003 tudo\"}, {\"row\": 1, \"column\": 4, \"value\": 0.0, \"row_token\": \"001 Entretanto\", \"col_token\": \"004 est\\u00e1\"}, {\"row\": 1, \"column\": 5, \"value\": 0.0, \"row_token\": \"001 Entretanto\", \"col_token\": \"005 estranho\"}, {\"row\": 1, \"column\": 6, \"value\": 0.0, \"row_token\": \"001 Entretanto\", \"col_token\": \"006 hoje\"}, {\"row\": 1, \"column\": 7, \"value\": 0.0, \"row_token\": \"001 Entretanto\", \"col_token\": \"007 !\\\"\"}, {\"row\": 2, \"column\": 0, \"value\": 0.0, \"row_token\": \"002 ,\", \"col_token\": \"000 [SOS]\"}, {\"row\": 2, \"column\": 1, \"value\": 0.414217472076416, \"row_token\": \"002 ,\", \"col_token\": \"001 Entretanto\"}, {\"row\": 2, \"column\": 2, \"value\": 0.45168620347976685, \"row_token\": \"002 ,\", \"col_token\": \"002 ,\"}, {\"row\": 2, \"column\": 3, \"value\": 0.0, \"row_token\": \"002 ,\", \"col_token\": \"003 tudo\"}, {\"row\": 2, \"column\": 4, \"value\": 0.0, \"row_token\": \"002 ,\", \"col_token\": \"004 est\\u00e1\"}, {\"row\": 2, \"column\": 5, \"value\": 0.0, \"row_token\": \"002 ,\", \"col_token\": \"005 estranho\"}, {\"row\": 2, \"column\": 6, \"value\": 0.0, \"row_token\": \"002 ,\", \"col_token\": \"006 hoje\"}, {\"row\": 2, \"column\": 7, \"value\": 0.0, \"row_token\": \"002 ,\", \"col_token\": \"007 !\\\"\"}, {\"row\": 3, \"column\": 0, \"value\": 0.08140096813440323, \"row_token\": \"003 tudo\", \"col_token\": \"000 [SOS]\"}, {\"row\": 3, \"column\": 1, \"value\": 0.27424556016921997, \"row_token\": \"003 tudo\", \"col_token\": \"001 Entretanto\"}, {\"row\": 3, \"column\": 2, \"value\": 0.25683605670928955, \"row_token\": \"003 tudo\", \"col_token\": \"002 ,\"}, {\"row\": 3, \"column\": 3, \"value\": 0.49862852692604065, \"row_token\": \"003 tudo\", \"col_token\": \"003 tudo\"}, {\"row\": 3, \"column\": 4, \"value\": 0.0, \"row_token\": \"003 tudo\", \"col_token\": \"004 est\\u00e1\"}, {\"row\": 3, \"column\": 5, \"value\": 0.0, \"row_token\": \"003 tudo\", \"col_token\": \"005 estranho\"}, {\"row\": 3, \"column\": 6, \"value\": 0.0, \"row_token\": \"003 tudo\", \"col_token\": \"006 hoje\"}, {\"row\": 3, \"column\": 7, \"value\": 0.0, \"row_token\": \"003 tudo\", \"col_token\": \"007 !\\\"\"}, {\"row\": 4, \"column\": 0, \"value\": 0.5084753036499023, \"row_token\": \"004 est\\u00e1\", \"col_token\": \"000 [SOS]\"}, {\"row\": 4, \"column\": 1, \"value\": 0.03207854926586151, \"row_token\": \"004 est\\u00e1\", \"col_token\": \"001 Entretanto\"}, {\"row\": 4, \"column\": 2, \"value\": 0.06534695625305176, \"row_token\": \"004 est\\u00e1\", \"col_token\": \"002 ,\"}, {\"row\": 4, \"column\": 3, \"value\": 0.26290416717529297, \"row_token\": \"004 est\\u00e1\", \"col_token\": \"003 tudo\"}, {\"row\": 4, \"column\": 4, \"value\": 0.242306187748909, \"row_token\": \"004 est\\u00e1\", \"col_token\": \"004 est\\u00e1\"}, {\"row\": 4, \"column\": 5, \"value\": 0.0, \"row_token\": \"004 est\\u00e1\", \"col_token\": \"005 estranho\"}, {\"row\": 4, \"column\": 6, \"value\": 0.0, \"row_token\": \"004 est\\u00e1\", \"col_token\": \"006 hoje\"}, {\"row\": 4, \"column\": 7, \"value\": 0.0, \"row_token\": \"004 est\\u00e1\", \"col_token\": \"007 !\\\"\"}, {\"row\": 5, \"column\": 0, \"value\": 0.6038178205490112, \"row_token\": \"005 estranho\", \"col_token\": \"000 [SOS]\"}, {\"row\": 5, \"column\": 1, \"value\": 0.006340560503304005, \"row_token\": \"005 estranho\", \"col_token\": \"001 Entretanto\"}, {\"row\": 5, \"column\": 2, \"value\": 0.09879499673843384, \"row_token\": \"005 estranho\", \"col_token\": \"002 ,\"}, {\"row\": 5, \"column\": 3, \"value\": 0.08323651552200317, \"row_token\": \"005 estranho\", \"col_token\": \"003 tudo\"}, {\"row\": 5, \"column\": 4, \"value\": 0.2503644526004791, \"row_token\": \"005 estranho\", \"col_token\": \"004 est\\u00e1\"}, {\"row\": 5, \"column\": 5, \"value\": 0.06855680793523788, \"row_token\": \"005 estranho\", \"col_token\": \"005 estranho\"}, {\"row\": 5, \"column\": 6, \"value\": 0.0, \"row_token\": \"005 estranho\", \"col_token\": \"006 hoje\"}, {\"row\": 5, \"column\": 7, \"value\": 0.0, \"row_token\": \"005 estranho\", \"col_token\": \"007 !\\\"\"}, {\"row\": 6, \"column\": 0, \"value\": 0.0, \"row_token\": \"006 hoje\", \"col_token\": \"000 [SOS]\"}, {\"row\": 6, \"column\": 1, \"value\": 0.006641058716922998, \"row_token\": \"006 hoje\", \"col_token\": \"001 Entretanto\"}, {\"row\": 6, \"column\": 2, \"value\": 0.39497601985931396, \"row_token\": \"006 hoje\", \"col_token\": \"002 ,\"}, {\"row\": 6, \"column\": 3, \"value\": 0.0369807668030262, \"row_token\": \"006 hoje\", \"col_token\": \"003 tudo\"}, {\"row\": 6, \"column\": 4, \"value\": 0.1776643842458725, \"row_token\": \"006 hoje\", \"col_token\": \"004 est\\u00e1\"}, {\"row\": 6, \"column\": 5, \"value\": 0.17790204286575317, \"row_token\": \"006 hoje\", \"col_token\": \"005 estranho\"}, {\"row\": 6, \"column\": 6, \"value\": 0.05236336216330528, \"row_token\": \"006 hoje\", \"col_token\": \"006 hoje\"}, {\"row\": 6, \"column\": 7, \"value\": 0.0, \"row_token\": \"006 hoje\", \"col_token\": \"007 !\\\"\"}, {\"row\": 7, \"column\": 0, \"value\": 0.014084960334002972, \"row_token\": \"007 !\\\"\", \"col_token\": \"000 [SOS]\"}, {\"row\": 7, \"column\": 1, \"value\": 0.0021086607594043016, \"row_token\": \"007 !\\\"\", \"col_token\": \"001 Entretanto\"}, {\"row\": 7, \"column\": 2, \"value\": 0.04873863235116005, \"row_token\": \"007 !\\\"\", \"col_token\": \"002 ,\"}, {\"row\": 7, \"column\": 3, \"value\": 0.0090382881462574, \"row_token\": \"007 !\\\"\", \"col_token\": \"003 tudo\"}, {\"row\": 7, \"column\": 4, \"value\": 0.10244344174861908, \"row_token\": \"007 !\\\"\", \"col_token\": \"004 est\\u00e1\"}, {\"row\": 7, \"column\": 5, \"value\": 0.07039626687765121, \"row_token\": \"007 !\\\"\", \"col_token\": \"005 estranho\"}, {\"row\": 7, \"column\": 6, \"value\": 0.07309930771589279, \"row_token\": \"007 !\\\"\", \"col_token\": \"006 hoje\"}, {\"row\": 7, \"column\": 7, \"value\": 0.7912015914916992, \"row_token\": \"007 !\\\"\", \"col_token\": \"007 !\\\"\"}], \"data-c5904bb64b3a28c3ca02effe966578ec\": [{\"row\": 0, \"column\": 0, \"value\": 1.1111111640930176, \"row_token\": \"000 [SOS]\", \"col_token\": \"000 [SOS]\"}, {\"row\": 0, \"column\": 1, \"value\": 0.0, \"row_token\": \"000 [SOS]\", \"col_token\": \"001 Entretanto\"}, {\"row\": 0, \"column\": 2, \"value\": 0.0, \"row_token\": \"000 [SOS]\", \"col_token\": \"002 ,\"}, {\"row\": 0, \"column\": 3, \"value\": 0.0, \"row_token\": \"000 [SOS]\", \"col_token\": \"003 tudo\"}, {\"row\": 0, \"column\": 4, \"value\": 0.0, \"row_token\": \"000 [SOS]\", \"col_token\": \"004 est\\u00e1\"}, {\"row\": 0, \"column\": 5, \"value\": 0.0, \"row_token\": \"000 [SOS]\", \"col_token\": \"005 estranho\"}, {\"row\": 0, \"column\": 6, \"value\": 0.0, \"row_token\": \"000 [SOS]\", \"col_token\": \"006 hoje\"}, {\"row\": 0, \"column\": 7, \"value\": 0.0, \"row_token\": \"000 [SOS]\", \"col_token\": \"007 !\\\"\"}, {\"row\": 1, \"column\": 0, \"value\": 1.061413049697876, \"row_token\": \"001 Entretanto\", \"col_token\": \"000 [SOS]\"}, {\"row\": 1, \"column\": 1, \"value\": 0.04969821497797966, \"row_token\": \"001 Entretanto\", \"col_token\": \"001 Entretanto\"}, {\"row\": 1, \"column\": 2, \"value\": 0.0, \"row_token\": \"001 Entretanto\", \"col_token\": \"002 ,\"}, {\"row\": 1, \"column\": 3, \"value\": 0.0, \"row_token\": \"001 Entretanto\", \"col_token\": \"003 tudo\"}, {\"row\": 1, \"column\": 4, \"value\": 0.0, \"row_token\": \"001 Entretanto\", \"col_token\": \"004 est\\u00e1\"}, {\"row\": 1, \"column\": 5, \"value\": 0.0, \"row_token\": \"001 Entretanto\", \"col_token\": \"005 estranho\"}, {\"row\": 1, \"column\": 6, \"value\": 0.0, \"row_token\": \"001 Entretanto\", \"col_token\": \"006 hoje\"}, {\"row\": 1, \"column\": 7, \"value\": 0.0, \"row_token\": \"001 Entretanto\", \"col_token\": \"007 !\\\"\"}, {\"row\": 2, \"column\": 0, \"value\": 0.16227981448173523, \"row_token\": \"002 ,\", \"col_token\": \"000 [SOS]\"}, {\"row\": 2, \"column\": 1, \"value\": 0.8643098473548889, \"row_token\": \"002 ,\", \"col_token\": \"001 Entretanto\"}, {\"row\": 2, \"column\": 2, \"value\": 0.08452149480581284, \"row_token\": \"002 ,\", \"col_token\": \"002 ,\"}, {\"row\": 2, \"column\": 3, \"value\": 0.0, \"row_token\": \"002 ,\", \"col_token\": \"003 tudo\"}, {\"row\": 2, \"column\": 4, \"value\": 0.0, \"row_token\": \"002 ,\", \"col_token\": \"004 est\\u00e1\"}, {\"row\": 2, \"column\": 5, \"value\": 0.0, \"row_token\": \"002 ,\", \"col_token\": \"005 estranho\"}, {\"row\": 2, \"column\": 6, \"value\": 0.0, \"row_token\": \"002 ,\", \"col_token\": \"006 hoje\"}, {\"row\": 2, \"column\": 7, \"value\": 0.0, \"row_token\": \"002 ,\", \"col_token\": \"007 !\\\"\"}, {\"row\": 3, \"column\": 0, \"value\": 0.0, \"row_token\": \"003 tudo\", \"col_token\": \"000 [SOS]\"}, {\"row\": 3, \"column\": 1, \"value\": 0.28765907883644104, \"row_token\": \"003 tudo\", \"col_token\": \"001 Entretanto\"}, {\"row\": 3, \"column\": 2, \"value\": 0.0, \"row_token\": \"003 tudo\", \"col_token\": \"002 ,\"}, {\"row\": 3, \"column\": 3, \"value\": 0.0, \"row_token\": \"003 tudo\", \"col_token\": \"003 tudo\"}, {\"row\": 3, \"column\": 4, \"value\": 0.0, \"row_token\": \"003 tudo\", \"col_token\": \"004 est\\u00e1\"}, {\"row\": 3, \"column\": 5, \"value\": 0.0, \"row_token\": \"003 tudo\", \"col_token\": \"005 estranho\"}, {\"row\": 3, \"column\": 6, \"value\": 0.0, \"row_token\": \"003 tudo\", \"col_token\": \"006 hoje\"}, {\"row\": 3, \"column\": 7, \"value\": 0.0, \"row_token\": \"003 tudo\", \"col_token\": \"007 !\\\"\"}, {\"row\": 4, \"column\": 0, \"value\": 0.7531471252441406, \"row_token\": \"004 est\\u00e1\", \"col_token\": \"000 [SOS]\"}, {\"row\": 4, \"column\": 1, \"value\": 0.05639595538377762, \"row_token\": \"004 est\\u00e1\", \"col_token\": \"001 Entretanto\"}, {\"row\": 4, \"column\": 2, \"value\": 0.03483335301280022, \"row_token\": \"004 est\\u00e1\", \"col_token\": \"002 ,\"}, {\"row\": 4, \"column\": 3, \"value\": 0.039769165217876434, \"row_token\": \"004 est\\u00e1\", \"col_token\": \"003 tudo\"}, {\"row\": 4, \"column\": 4, \"value\": 0.22696562111377716, \"row_token\": \"004 est\\u00e1\", \"col_token\": \"004 est\\u00e1\"}, {\"row\": 4, \"column\": 5, \"value\": 0.0, \"row_token\": \"004 est\\u00e1\", \"col_token\": \"005 estranho\"}, {\"row\": 4, \"column\": 6, \"value\": 0.0, \"row_token\": \"004 est\\u00e1\", \"col_token\": \"006 hoje\"}, {\"row\": 4, \"column\": 7, \"value\": 0.0, \"row_token\": \"004 est\\u00e1\", \"col_token\": \"007 !\\\"\"}, {\"row\": 5, \"column\": 0, \"value\": 0.0245515089482069, \"row_token\": \"005 estranho\", \"col_token\": \"000 [SOS]\"}, {\"row\": 5, \"column\": 1, \"value\": 0.0913785994052887, \"row_token\": \"005 estranho\", \"col_token\": \"001 Entretanto\"}, {\"row\": 5, \"column\": 2, \"value\": 0.028793392702937126, \"row_token\": \"005 estranho\", \"col_token\": \"002 ,\"}, {\"row\": 5, \"column\": 3, \"value\": 0.04874987527728081, \"row_token\": \"005 estranho\", \"col_token\": \"003 tudo\"}, {\"row\": 5, \"column\": 4, \"value\": 0.3796618580818176, \"row_token\": \"005 estranho\", \"col_token\": \"004 est\\u00e1\"}, {\"row\": 5, \"column\": 5, \"value\": 0.5379759073257446, \"row_token\": \"005 estranho\", \"col_token\": \"005 estranho\"}, {\"row\": 5, \"column\": 6, \"value\": 0.0, \"row_token\": \"005 estranho\", \"col_token\": \"006 hoje\"}, {\"row\": 5, \"column\": 7, \"value\": 0.0, \"row_token\": \"005 estranho\", \"col_token\": \"007 !\\\"\"}, {\"row\": 6, \"column\": 0, \"value\": 0.06410400569438934, \"row_token\": \"006 hoje\", \"col_token\": \"000 [SOS]\"}, {\"row\": 6, \"column\": 1, \"value\": 0.03957311436533928, \"row_token\": \"006 hoje\", \"col_token\": \"001 Entretanto\"}, {\"row\": 6, \"column\": 2, \"value\": 0.0325646698474884, \"row_token\": \"006 hoje\", \"col_token\": \"002 ,\"}, {\"row\": 6, \"column\": 3, \"value\": 0.0, \"row_token\": \"006 hoje\", \"col_token\": \"003 tudo\"}, {\"row\": 6, \"column\": 4, \"value\": 0.09062867611646652, \"row_token\": \"006 hoje\", \"col_token\": \"004 est\\u00e1\"}, {\"row\": 6, \"column\": 5, \"value\": 0.2678528428077698, \"row_token\": \"006 hoje\", \"col_token\": \"005 estranho\"}, {\"row\": 6, \"column\": 6, \"value\": 0.6003322601318359, \"row_token\": \"006 hoje\", \"col_token\": \"006 hoje\"}, {\"row\": 6, \"column\": 7, \"value\": 0.0, \"row_token\": \"006 hoje\", \"col_token\": \"007 !\\\"\"}, {\"row\": 7, \"column\": 0, \"value\": 0.00377173675224185, \"row_token\": \"007 !\\\"\", \"col_token\": \"000 [SOS]\"}, {\"row\": 7, \"column\": 1, \"value\": 0.003419254207983613, \"row_token\": \"007 !\\\"\", \"col_token\": \"001 Entretanto\"}, {\"row\": 7, \"column\": 2, \"value\": 0.0033086880575865507, \"row_token\": \"007 !\\\"\", \"col_token\": \"002 ,\"}, {\"row\": 7, \"column\": 3, \"value\": 0.002820021705701947, \"row_token\": \"007 !\\\"\", \"col_token\": \"003 tudo\"}, {\"row\": 7, \"column\": 4, \"value\": 0.020204616710543633, \"row_token\": \"007 !\\\"\", \"col_token\": \"004 est\\u00e1\"}, {\"row\": 7, \"column\": 5, \"value\": 0.05139085277915001, \"row_token\": \"007 !\\\"\", \"col_token\": \"005 estranho\"}, {\"row\": 7, \"column\": 6, \"value\": 0.08824338018894196, \"row_token\": \"007 !\\\"\", \"col_token\": \"006 hoje\"}, {\"row\": 7, \"column\": 7, \"value\": 0.9379525780677795, \"row_token\": \"007 !\\\"\", \"col_token\": \"007 !\\\"\"}], \"data-9c327be783f3f0433c733521696149d3\": [{\"row\": 0, \"column\": 0, \"value\": 1.1111111640930176, \"row_token\": \"000 [SOS]\", \"col_token\": \"000 [SOS]\"}, {\"row\": 0, \"column\": 1, \"value\": 0.0, \"row_token\": \"000 [SOS]\", \"col_token\": \"001 Entretanto\"}, {\"row\": 0, \"column\": 2, \"value\": 0.0, \"row_token\": \"000 [SOS]\", \"col_token\": \"002 ,\"}, {\"row\": 0, \"column\": 3, \"value\": 0.0, \"row_token\": \"000 [SOS]\", \"col_token\": \"003 tudo\"}, {\"row\": 0, \"column\": 4, \"value\": 0.0, \"row_token\": \"000 [SOS]\", \"col_token\": \"004 est\\u00e1\"}, {\"row\": 0, \"column\": 5, \"value\": 0.0, \"row_token\": \"000 [SOS]\", \"col_token\": \"005 estranho\"}, {\"row\": 0, \"column\": 6, \"value\": 0.0, \"row_token\": \"000 [SOS]\", \"col_token\": \"006 hoje\"}, {\"row\": 0, \"column\": 7, \"value\": 0.0, \"row_token\": \"000 [SOS]\", \"col_token\": \"007 !\\\"\"}, {\"row\": 1, \"column\": 0, \"value\": 1.042952060699463, \"row_token\": \"001 Entretanto\", \"col_token\": \"000 [SOS]\"}, {\"row\": 1, \"column\": 1, \"value\": 0.0681590661406517, \"row_token\": \"001 Entretanto\", \"col_token\": \"001 Entretanto\"}, {\"row\": 1, \"column\": 2, \"value\": 0.0, \"row_token\": \"001 Entretanto\", \"col_token\": \"002 ,\"}, {\"row\": 1, \"column\": 3, \"value\": 0.0, \"row_token\": \"001 Entretanto\", \"col_token\": \"003 tudo\"}, {\"row\": 1, \"column\": 4, \"value\": 0.0, \"row_token\": \"001 Entretanto\", \"col_token\": \"004 est\\u00e1\"}, {\"row\": 1, \"column\": 5, \"value\": 0.0, \"row_token\": \"001 Entretanto\", \"col_token\": \"005 estranho\"}, {\"row\": 1, \"column\": 6, \"value\": 0.0, \"row_token\": \"001 Entretanto\", \"col_token\": \"006 hoje\"}, {\"row\": 1, \"column\": 7, \"value\": 0.0, \"row_token\": \"001 Entretanto\", \"col_token\": \"007 !\\\"\"}, {\"row\": 2, \"column\": 0, \"value\": 0.6800528168678284, \"row_token\": \"002 ,\", \"col_token\": \"000 [SOS]\"}, {\"row\": 2, \"column\": 1, \"value\": 0.17797021567821503, \"row_token\": \"002 ,\", \"col_token\": \"001 Entretanto\"}, {\"row\": 2, \"column\": 2, \"value\": 0.253088116645813, \"row_token\": \"002 ,\", \"col_token\": \"002 ,\"}, {\"row\": 2, \"column\": 3, \"value\": 0.0, \"row_token\": \"002 ,\", \"col_token\": \"003 tudo\"}, {\"row\": 2, \"column\": 4, \"value\": 0.0, \"row_token\": \"002 ,\", \"col_token\": \"004 est\\u00e1\"}, {\"row\": 2, \"column\": 5, \"value\": 0.0, \"row_token\": \"002 ,\", \"col_token\": \"005 estranho\"}, {\"row\": 2, \"column\": 6, \"value\": 0.0, \"row_token\": \"002 ,\", \"col_token\": \"006 hoje\"}, {\"row\": 2, \"column\": 7, \"value\": 0.0, \"row_token\": \"002 ,\", \"col_token\": \"007 !\\\"\"}, {\"row\": 3, \"column\": 0, \"value\": 0.6818636655807495, \"row_token\": \"003 tudo\", \"col_token\": \"000 [SOS]\"}, {\"row\": 3, \"column\": 1, \"value\": 0.11446219682693481, \"row_token\": \"003 tudo\", \"col_token\": \"001 Entretanto\"}, {\"row\": 3, \"column\": 2, \"value\": 0.041860248893499374, \"row_token\": \"003 tudo\", \"col_token\": \"002 ,\"}, {\"row\": 3, \"column\": 3, \"value\": 0.27292510867118835, \"row_token\": \"003 tudo\", \"col_token\": \"003 tudo\"}, {\"row\": 3, \"column\": 4, \"value\": 0.0, \"row_token\": \"003 tudo\", \"col_token\": \"004 est\\u00e1\"}, {\"row\": 3, \"column\": 5, \"value\": 0.0, \"row_token\": \"003 tudo\", \"col_token\": \"005 estranho\"}, {\"row\": 3, \"column\": 6, \"value\": 0.0, \"row_token\": \"003 tudo\", \"col_token\": \"006 hoje\"}, {\"row\": 3, \"column\": 7, \"value\": 0.0, \"row_token\": \"003 tudo\", \"col_token\": \"007 !\\\"\"}, {\"row\": 4, \"column\": 0, \"value\": 0.7467000484466553, \"row_token\": \"004 est\\u00e1\", \"col_token\": \"000 [SOS]\"}, {\"row\": 4, \"column\": 1, \"value\": 0.06714581698179245, \"row_token\": \"004 est\\u00e1\", \"col_token\": \"001 Entretanto\"}, {\"row\": 4, \"column\": 2, \"value\": 0.17167215049266815, \"row_token\": \"004 est\\u00e1\", \"col_token\": \"002 ,\"}, {\"row\": 4, \"column\": 3, \"value\": 0.09667659550905228, \"row_token\": \"004 est\\u00e1\", \"col_token\": \"003 tudo\"}, {\"row\": 4, \"column\": 4, \"value\": 0.028916623443365097, \"row_token\": \"004 est\\u00e1\", \"col_token\": \"004 est\\u00e1\"}, {\"row\": 4, \"column\": 5, \"value\": 0.0, \"row_token\": \"004 est\\u00e1\", \"col_token\": \"005 estranho\"}, {\"row\": 4, \"column\": 6, \"value\": 0.0, \"row_token\": \"004 est\\u00e1\", \"col_token\": \"006 hoje\"}, {\"row\": 4, \"column\": 7, \"value\": 0.0, \"row_token\": \"004 est\\u00e1\", \"col_token\": \"007 !\\\"\"}, {\"row\": 5, \"column\": 0, \"value\": 0.0, \"row_token\": \"005 estranho\", \"col_token\": \"000 [SOS]\"}, {\"row\": 5, \"column\": 1, \"value\": 0.07214953005313873, \"row_token\": \"005 estranho\", \"col_token\": \"001 Entretanto\"}, {\"row\": 5, \"column\": 2, \"value\": 0.1815752238035202, \"row_token\": \"005 estranho\", \"col_token\": \"002 ,\"}, {\"row\": 5, \"column\": 3, \"value\": 0.028415394946932793, \"row_token\": \"005 estranho\", \"col_token\": \"003 tudo\"}, {\"row\": 5, \"column\": 4, \"value\": 0.08409693092107773, \"row_token\": \"005 estranho\", \"col_token\": \"004 est\\u00e1\"}, {\"row\": 5, \"column\": 5, \"value\": 0.3818308413028717, \"row_token\": \"005 estranho\", \"col_token\": \"005 estranho\"}, {\"row\": 5, \"column\": 6, \"value\": 0.0, \"row_token\": \"005 estranho\", \"col_token\": \"006 hoje\"}, {\"row\": 5, \"column\": 7, \"value\": 0.0, \"row_token\": \"005 estranho\", \"col_token\": \"007 !\\\"\"}, {\"row\": 6, \"column\": 0, \"value\": 0.6976064443588257, \"row_token\": \"006 hoje\", \"col_token\": \"000 [SOS]\"}, {\"row\": 6, \"column\": 1, \"value\": 0.012595539912581444, \"row_token\": \"006 hoje\", \"col_token\": \"001 Entretanto\"}, {\"row\": 6, \"column\": 2, \"value\": 0.0, \"row_token\": \"006 hoje\", \"col_token\": \"002 ,\"}, {\"row\": 6, \"column\": 3, \"value\": 0.010792159475386143, \"row_token\": \"006 hoje\", \"col_token\": \"003 tudo\"}, {\"row\": 6, \"column\": 4, \"value\": 0.014050958678126335, \"row_token\": \"006 hoje\", \"col_token\": \"004 est\\u00e1\"}, {\"row\": 6, \"column\": 5, \"value\": 0.2340339571237564, \"row_token\": \"006 hoje\", \"col_token\": \"005 estranho\"}, {\"row\": 6, \"column\": 6, \"value\": 0.0, \"row_token\": \"006 hoje\", \"col_token\": \"006 hoje\"}, {\"row\": 6, \"column\": 7, \"value\": 0.0, \"row_token\": \"006 hoje\", \"col_token\": \"007 !\\\"\"}, {\"row\": 7, \"column\": 0, \"value\": 0.007309617009013891, \"row_token\": \"007 !\\\"\", \"col_token\": \"000 [SOS]\"}, {\"row\": 7, \"column\": 1, \"value\": 0.01130407303571701, \"row_token\": \"007 !\\\"\", \"col_token\": \"001 Entretanto\"}, {\"row\": 7, \"column\": 2, \"value\": 0.009203130379319191, \"row_token\": \"007 !\\\"\", \"col_token\": \"002 ,\"}, {\"row\": 7, \"column\": 3, \"value\": 0.0290454663336277, \"row_token\": \"007 !\\\"\", \"col_token\": \"003 tudo\"}, {\"row\": 7, \"column\": 4, \"value\": 0.010763408616185188, \"row_token\": \"007 !\\\"\", \"col_token\": \"004 est\\u00e1\"}, {\"row\": 7, \"column\": 5, \"value\": 0.3388238847255707, \"row_token\": \"007 !\\\"\", \"col_token\": \"005 estranho\"}, {\"row\": 7, \"column\": 6, \"value\": 0.09551840275526047, \"row_token\": \"007 !\\\"\", \"col_token\": \"006 hoje\"}, {\"row\": 7, \"column\": 7, \"value\": 0.6091431975364685, \"row_token\": \"007 !\\\"\", \"col_token\": \"007 !\\\"\"}], \"data-b070cd14ef768feae09e90f175cbd918\": [{\"row\": 0, \"column\": 0, \"value\": 1.1111111640930176, \"row_token\": \"000 [SOS]\", \"col_token\": \"000 [SOS]\"}, {\"row\": 0, \"column\": 1, \"value\": 0.0, \"row_token\": \"000 [SOS]\", \"col_token\": \"001 Entretanto\"}, {\"row\": 0, \"column\": 2, \"value\": 0.0, \"row_token\": \"000 [SOS]\", \"col_token\": \"002 ,\"}, {\"row\": 0, \"column\": 3, \"value\": 0.0, \"row_token\": \"000 [SOS]\", \"col_token\": \"003 tudo\"}, {\"row\": 0, \"column\": 4, \"value\": 0.0, \"row_token\": \"000 [SOS]\", \"col_token\": \"004 est\\u00e1\"}, {\"row\": 0, \"column\": 5, \"value\": 0.0, \"row_token\": \"000 [SOS]\", \"col_token\": \"005 estranho\"}, {\"row\": 0, \"column\": 6, \"value\": 0.0, \"row_token\": \"000 [SOS]\", \"col_token\": \"006 hoje\"}, {\"row\": 0, \"column\": 7, \"value\": 0.0, \"row_token\": \"000 [SOS]\", \"col_token\": \"007 !\\\"\"}, {\"row\": 1, \"column\": 0, \"value\": 0.6212732195854187, \"row_token\": \"001 Entretanto\", \"col_token\": \"000 [SOS]\"}, {\"row\": 1, \"column\": 1, \"value\": 0.48983800411224365, \"row_token\": \"001 Entretanto\", \"col_token\": \"001 Entretanto\"}, {\"row\": 1, \"column\": 2, \"value\": 0.0, \"row_token\": \"001 Entretanto\", \"col_token\": \"002 ,\"}, {\"row\": 1, \"column\": 3, \"value\": 0.0, \"row_token\": \"001 Entretanto\", \"col_token\": \"003 tudo\"}, {\"row\": 1, \"column\": 4, \"value\": 0.0, \"row_token\": \"001 Entretanto\", \"col_token\": \"004 est\\u00e1\"}, {\"row\": 1, \"column\": 5, \"value\": 0.0, \"row_token\": \"001 Entretanto\", \"col_token\": \"005 estranho\"}, {\"row\": 1, \"column\": 6, \"value\": 0.0, \"row_token\": \"001 Entretanto\", \"col_token\": \"006 hoje\"}, {\"row\": 1, \"column\": 7, \"value\": 0.0, \"row_token\": \"001 Entretanto\", \"col_token\": \"007 !\\\"\"}, {\"row\": 2, \"column\": 0, \"value\": 0.0, \"row_token\": \"002 ,\", \"col_token\": \"000 [SOS]\"}, {\"row\": 2, \"column\": 1, \"value\": 0.021958159282803535, \"row_token\": \"002 ,\", \"col_token\": \"001 Entretanto\"}, {\"row\": 2, \"column\": 2, \"value\": 0.0, \"row_token\": \"002 ,\", \"col_token\": \"002 ,\"}, {\"row\": 2, \"column\": 3, \"value\": 0.0, \"row_token\": \"002 ,\", \"col_token\": \"003 tudo\"}, {\"row\": 2, \"column\": 4, \"value\": 0.0, \"row_token\": \"002 ,\", \"col_token\": \"004 est\\u00e1\"}, {\"row\": 2, \"column\": 5, \"value\": 0.0, \"row_token\": \"002 ,\", \"col_token\": \"005 estranho\"}, {\"row\": 2, \"column\": 6, \"value\": 0.0, \"row_token\": \"002 ,\", \"col_token\": \"006 hoje\"}, {\"row\": 2, \"column\": 7, \"value\": 0.0, \"row_token\": \"002 ,\", \"col_token\": \"007 !\\\"\"}, {\"row\": 3, \"column\": 0, \"value\": 0.11501076817512512, \"row_token\": \"003 tudo\", \"col_token\": \"000 [SOS]\"}, {\"row\": 3, \"column\": 1, \"value\": 0.037074122577905655, \"row_token\": \"003 tudo\", \"col_token\": \"001 Entretanto\"}, {\"row\": 3, \"column\": 2, \"value\": 0.08596465736627579, \"row_token\": \"003 tudo\", \"col_token\": \"002 ,\"}, {\"row\": 3, \"column\": 3, \"value\": 0.8730616569519043, \"row_token\": \"003 tudo\", \"col_token\": \"003 tudo\"}, {\"row\": 3, \"column\": 4, \"value\": 0.0, \"row_token\": \"003 tudo\", \"col_token\": \"004 est\\u00e1\"}, {\"row\": 3, \"column\": 5, \"value\": 0.0, \"row_token\": \"003 tudo\", \"col_token\": \"005 estranho\"}, {\"row\": 3, \"column\": 6, \"value\": 0.0, \"row_token\": \"003 tudo\", \"col_token\": \"006 hoje\"}, {\"row\": 3, \"column\": 7, \"value\": 0.0, \"row_token\": \"003 tudo\", \"col_token\": \"007 !\\\"\"}, {\"row\": 4, \"column\": 0, \"value\": 0.3885592818260193, \"row_token\": \"004 est\\u00e1\", \"col_token\": \"000 [SOS]\"}, {\"row\": 4, \"column\": 1, \"value\": 0.08489509671926498, \"row_token\": \"004 est\\u00e1\", \"col_token\": \"001 Entretanto\"}, {\"row\": 4, \"column\": 2, \"value\": 0.14105404913425446, \"row_token\": \"004 est\\u00e1\", \"col_token\": \"002 ,\"}, {\"row\": 4, \"column\": 3, \"value\": 0.39670121669769287, \"row_token\": \"004 est\\u00e1\", \"col_token\": \"003 tudo\"}, {\"row\": 4, \"column\": 4, \"value\": 0.09990154206752777, \"row_token\": \"004 est\\u00e1\", \"col_token\": \"004 est\\u00e1\"}, {\"row\": 4, \"column\": 5, \"value\": 0.0, \"row_token\": \"004 est\\u00e1\", \"col_token\": \"005 estranho\"}, {\"row\": 4, \"column\": 6, \"value\": 0.0, \"row_token\": \"004 est\\u00e1\", \"col_token\": \"006 hoje\"}, {\"row\": 4, \"column\": 7, \"value\": 0.0, \"row_token\": \"004 est\\u00e1\", \"col_token\": \"007 !\\\"\"}, {\"row\": 5, \"column\": 0, \"value\": 0.15693879127502441, \"row_token\": \"005 estranho\", \"col_token\": \"000 [SOS]\"}, {\"row\": 5, \"column\": 1, \"value\": 0.11689379066228867, \"row_token\": \"005 estranho\", \"col_token\": \"001 Entretanto\"}, {\"row\": 5, \"column\": 2, \"value\": 0.0942392572760582, \"row_token\": \"005 estranho\", \"col_token\": \"002 ,\"}, {\"row\": 5, \"column\": 3, \"value\": 0.2929076552391052, \"row_token\": \"005 estranho\", \"col_token\": \"003 tudo\"}, {\"row\": 5, \"column\": 4, \"value\": 0.05822822079062462, \"row_token\": \"005 estranho\", \"col_token\": \"004 est\\u00e1\"}, {\"row\": 5, \"column\": 5, \"value\": 0.3919034004211426, \"row_token\": \"005 estranho\", \"col_token\": \"005 estranho\"}, {\"row\": 5, \"column\": 6, \"value\": 0.0, \"row_token\": \"005 estranho\", \"col_token\": \"006 hoje\"}, {\"row\": 5, \"column\": 7, \"value\": 0.0, \"row_token\": \"005 estranho\", \"col_token\": \"007 !\\\"\"}, {\"row\": 6, \"column\": 0, \"value\": 0.012516068294644356, \"row_token\": \"006 hoje\", \"col_token\": \"000 [SOS]\"}, {\"row\": 6, \"column\": 1, \"value\": 0.037079017609357834, \"row_token\": \"006 hoje\", \"col_token\": \"001 Entretanto\"}, {\"row\": 6, \"column\": 2, \"value\": 0.016058335080742836, \"row_token\": \"006 hoje\", \"col_token\": \"002 ,\"}, {\"row\": 6, \"column\": 3, \"value\": 0.021343985572457314, \"row_token\": \"006 hoje\", \"col_token\": \"003 tudo\"}, {\"row\": 6, \"column\": 4, \"value\": 0.04640901833772659, \"row_token\": \"006 hoje\", \"col_token\": \"004 est\\u00e1\"}, {\"row\": 6, \"column\": 5, \"value\": 0.0, \"row_token\": \"006 hoje\", \"col_token\": \"005 estranho\"}, {\"row\": 6, \"column\": 6, \"value\": 0.631801962852478, \"row_token\": \"006 hoje\", \"col_token\": \"006 hoje\"}, {\"row\": 6, \"column\": 7, \"value\": 0.0, \"row_token\": \"006 hoje\", \"col_token\": \"007 !\\\"\"}, {\"row\": 7, \"column\": 0, \"value\": 0.0013963102828711271, \"row_token\": \"007 !\\\"\", \"col_token\": \"000 [SOS]\"}, {\"row\": 7, \"column\": 1, \"value\": 0.0017635627882555127, \"row_token\": \"007 !\\\"\", \"col_token\": \"001 Entretanto\"}, {\"row\": 7, \"column\": 2, \"value\": 0.0014663116307929158, \"row_token\": \"007 !\\\"\", \"col_token\": \"002 ,\"}, {\"row\": 7, \"column\": 3, \"value\": 0.0017136665992438793, \"row_token\": \"007 !\\\"\", \"col_token\": \"003 tudo\"}, {\"row\": 7, \"column\": 4, \"value\": 0.01482150238007307, \"row_token\": \"007 !\\\"\", \"col_token\": \"004 est\\u00e1\"}, {\"row\": 7, \"column\": 5, \"value\": 0.07550577819347382, \"row_token\": \"007 !\\\"\", \"col_token\": \"005 estranho\"}, {\"row\": 7, \"column\": 6, \"value\": 0.504253089427948, \"row_token\": \"007 !\\\"\", \"col_token\": \"006 hoje\"}, {\"row\": 7, \"column\": 7, \"value\": 0.5101909637451172, \"row_token\": \"007 !\\\"\", \"col_token\": \"007 !\\\"\"}], \"data-4fcffd811ab21e4c4cce09c208966226\": [{\"row\": 0, \"column\": 0, \"value\": 1.1111111640930176, \"row_token\": \"000 [SOS]\", \"col_token\": \"000 [SOS]\"}, {\"row\": 0, \"column\": 1, \"value\": 0.0, \"row_token\": \"000 [SOS]\", \"col_token\": \"001 Entretanto\"}, {\"row\": 0, \"column\": 2, \"value\": 0.0, \"row_token\": \"000 [SOS]\", \"col_token\": \"002 ,\"}, {\"row\": 0, \"column\": 3, \"value\": 0.0, \"row_token\": \"000 [SOS]\", \"col_token\": \"003 tudo\"}, {\"row\": 0, \"column\": 4, \"value\": 0.0, \"row_token\": \"000 [SOS]\", \"col_token\": \"004 est\\u00e1\"}, {\"row\": 0, \"column\": 5, \"value\": 0.0, \"row_token\": \"000 [SOS]\", \"col_token\": \"005 estranho\"}, {\"row\": 0, \"column\": 6, \"value\": 0.0, \"row_token\": \"000 [SOS]\", \"col_token\": \"006 hoje\"}, {\"row\": 0, \"column\": 7, \"value\": 0.0, \"row_token\": \"000 [SOS]\", \"col_token\": \"007 !\\\"\"}, {\"row\": 1, \"column\": 0, \"value\": 0.5708836913108826, \"row_token\": \"001 Entretanto\", \"col_token\": \"000 [SOS]\"}, {\"row\": 1, \"column\": 1, \"value\": 0.540227472782135, \"row_token\": \"001 Entretanto\", \"col_token\": \"001 Entretanto\"}, {\"row\": 1, \"column\": 2, \"value\": 0.0, \"row_token\": \"001 Entretanto\", \"col_token\": \"002 ,\"}, {\"row\": 1, \"column\": 3, \"value\": 0.0, \"row_token\": \"001 Entretanto\", \"col_token\": \"003 tudo\"}, {\"row\": 1, \"column\": 4, \"value\": 0.0, \"row_token\": \"001 Entretanto\", \"col_token\": \"004 est\\u00e1\"}, {\"row\": 1, \"column\": 5, \"value\": 0.0, \"row_token\": \"001 Entretanto\", \"col_token\": \"005 estranho\"}, {\"row\": 1, \"column\": 6, \"value\": 0.0, \"row_token\": \"001 Entretanto\", \"col_token\": \"006 hoje\"}, {\"row\": 1, \"column\": 7, \"value\": 0.0, \"row_token\": \"001 Entretanto\", \"col_token\": \"007 !\\\"\"}, {\"row\": 2, \"column\": 0, \"value\": 0.5776956081390381, \"row_token\": \"002 ,\", \"col_token\": \"000 [SOS]\"}, {\"row\": 2, \"column\": 1, \"value\": 0.03770614415407181, \"row_token\": \"002 ,\", \"col_token\": \"001 Entretanto\"}, {\"row\": 2, \"column\": 2, \"value\": 0.49570944905281067, \"row_token\": \"002 ,\", \"col_token\": \"002 ,\"}, {\"row\": 2, \"column\": 3, \"value\": 0.0, \"row_token\": \"002 ,\", \"col_token\": \"003 tudo\"}, {\"row\": 2, \"column\": 4, \"value\": 0.0, \"row_token\": \"002 ,\", \"col_token\": \"004 est\\u00e1\"}, {\"row\": 2, \"column\": 5, \"value\": 0.0, \"row_token\": \"002 ,\", \"col_token\": \"005 estranho\"}, {\"row\": 2, \"column\": 6, \"value\": 0.0, \"row_token\": \"002 ,\", \"col_token\": \"006 hoje\"}, {\"row\": 2, \"column\": 7, \"value\": 0.0, \"row_token\": \"002 ,\", \"col_token\": \"007 !\\\"\"}, {\"row\": 3, \"column\": 0, \"value\": 0.19574056565761566, \"row_token\": \"003 tudo\", \"col_token\": \"000 [SOS]\"}, {\"row\": 3, \"column\": 1, \"value\": 0.10206755995750427, \"row_token\": \"003 tudo\", \"col_token\": \"001 Entretanto\"}, {\"row\": 3, \"column\": 2, \"value\": 0.22872406244277954, \"row_token\": \"003 tudo\", \"col_token\": \"002 ,\"}, {\"row\": 3, \"column\": 3, \"value\": 0.5845789313316345, \"row_token\": \"003 tudo\", \"col_token\": \"003 tudo\"}, {\"row\": 3, \"column\": 4, \"value\": 0.0, \"row_token\": \"003 tudo\", \"col_token\": \"004 est\\u00e1\"}, {\"row\": 3, \"column\": 5, \"value\": 0.0, \"row_token\": \"003 tudo\", \"col_token\": \"005 estranho\"}, {\"row\": 3, \"column\": 6, \"value\": 0.0, \"row_token\": \"003 tudo\", \"col_token\": \"006 hoje\"}, {\"row\": 3, \"column\": 7, \"value\": 0.0, \"row_token\": \"003 tudo\", \"col_token\": \"007 !\\\"\"}, {\"row\": 4, \"column\": 0, \"value\": 0.5270784497261047, \"row_token\": \"004 est\\u00e1\", \"col_token\": \"000 [SOS]\"}, {\"row\": 4, \"column\": 1, \"value\": 0.0, \"row_token\": \"004 est\\u00e1\", \"col_token\": \"001 Entretanto\"}, {\"row\": 4, \"column\": 2, \"value\": 0.15401165187358856, \"row_token\": \"004 est\\u00e1\", \"col_token\": \"002 ,\"}, {\"row\": 4, \"column\": 3, \"value\": 0.0826200544834137, \"row_token\": \"004 est\\u00e1\", \"col_token\": \"003 tudo\"}, {\"row\": 4, \"column\": 4, \"value\": 0.19573204219341278, \"row_token\": \"004 est\\u00e1\", \"col_token\": \"004 est\\u00e1\"}, {\"row\": 4, \"column\": 5, \"value\": 0.0, \"row_token\": \"004 est\\u00e1\", \"col_token\": \"005 estranho\"}, {\"row\": 4, \"column\": 6, \"value\": 0.0, \"row_token\": \"004 est\\u00e1\", \"col_token\": \"006 hoje\"}, {\"row\": 4, \"column\": 7, \"value\": 0.0, \"row_token\": \"004 est\\u00e1\", \"col_token\": \"007 !\\\"\"}, {\"row\": 5, \"column\": 0, \"value\": 0.0, \"row_token\": \"005 estranho\", \"col_token\": \"000 [SOS]\"}, {\"row\": 5, \"column\": 1, \"value\": 0.1252768635749817, \"row_token\": \"005 estranho\", \"col_token\": \"001 Entretanto\"}, {\"row\": 5, \"column\": 2, \"value\": 0.11969360709190369, \"row_token\": \"005 estranho\", \"col_token\": \"002 ,\"}, {\"row\": 5, \"column\": 3, \"value\": 0.12290547043085098, \"row_token\": \"005 estranho\", \"col_token\": \"003 tudo\"}, {\"row\": 5, \"column\": 4, \"value\": 0.10246723890304565, \"row_token\": \"005 estranho\", \"col_token\": \"004 est\\u00e1\"}, {\"row\": 5, \"column\": 5, \"value\": 0.04814191907644272, \"row_token\": \"005 estranho\", \"col_token\": \"005 estranho\"}, {\"row\": 5, \"column\": 6, \"value\": 0.0, \"row_token\": \"005 estranho\", \"col_token\": \"006 hoje\"}, {\"row\": 5, \"column\": 7, \"value\": 0.0, \"row_token\": \"005 estranho\", \"col_token\": \"007 !\\\"\"}, {\"row\": 6, \"column\": 0, \"value\": 0.20880520343780518, \"row_token\": \"006 hoje\", \"col_token\": \"000 [SOS]\"}, {\"row\": 6, \"column\": 1, \"value\": 0.10171831399202347, \"row_token\": \"006 hoje\", \"col_token\": \"001 Entretanto\"}, {\"row\": 6, \"column\": 2, \"value\": 0.3200148642063141, \"row_token\": \"006 hoje\", \"col_token\": \"002 ,\"}, {\"row\": 6, \"column\": 3, \"value\": 0.03294042497873306, \"row_token\": \"006 hoje\", \"col_token\": \"003 tudo\"}, {\"row\": 6, \"column\": 4, \"value\": 0.0551268495619297, \"row_token\": \"006 hoje\", \"col_token\": \"004 est\\u00e1\"}, {\"row\": 6, \"column\": 5, \"value\": 0.07478556036949158, \"row_token\": \"006 hoje\", \"col_token\": \"005 estranho\"}, {\"row\": 6, \"column\": 6, \"value\": 0.317719966173172, \"row_token\": \"006 hoje\", \"col_token\": \"006 hoje\"}, {\"row\": 6, \"column\": 7, \"value\": 0.0, \"row_token\": \"006 hoje\", \"col_token\": \"007 !\\\"\"}, {\"row\": 7, \"column\": 0, \"value\": 0.34814709424972534, \"row_token\": \"007 !\\\"\", \"col_token\": \"000 [SOS]\"}, {\"row\": 7, \"column\": 1, \"value\": 0.10309905558824539, \"row_token\": \"007 !\\\"\", \"col_token\": \"001 Entretanto\"}, {\"row\": 7, \"column\": 2, \"value\": 0.04968585819005966, \"row_token\": \"007 !\\\"\", \"col_token\": \"002 ,\"}, {\"row\": 7, \"column\": 3, \"value\": 0.110379658639431, \"row_token\": \"007 !\\\"\", \"col_token\": \"003 tudo\"}, {\"row\": 7, \"column\": 4, \"value\": 0.0, \"row_token\": \"007 !\\\"\", \"col_token\": \"004 est\\u00e1\"}, {\"row\": 7, \"column\": 5, \"value\": 0.07762476801872253, \"row_token\": \"007 !\\\"\", \"col_token\": \"005 estranho\"}, {\"row\": 7, \"column\": 6, \"value\": 0.14651963114738464, \"row_token\": \"007 !\\\"\", \"col_token\": \"006 hoje\"}, {\"row\": 7, \"column\": 7, \"value\": 0.0896376222372055, \"row_token\": \"007 !\\\"\", \"col_token\": \"007 !\\\"\"}], \"data-9a56da40c3457d1eb83f07bef7696c94\": [{\"row\": 0, \"column\": 0, \"value\": 1.1111111640930176, \"row_token\": \"000 [SOS]\", \"col_token\": \"000 [SOS]\"}, {\"row\": 0, \"column\": 1, \"value\": 0.0, \"row_token\": \"000 [SOS]\", \"col_token\": \"001 Entretanto\"}, {\"row\": 0, \"column\": 2, \"value\": 0.0, \"row_token\": \"000 [SOS]\", \"col_token\": \"002 ,\"}, {\"row\": 0, \"column\": 3, \"value\": 0.0, \"row_token\": \"000 [SOS]\", \"col_token\": \"003 tudo\"}, {\"row\": 0, \"column\": 4, \"value\": 0.0, \"row_token\": \"000 [SOS]\", \"col_token\": \"004 est\\u00e1\"}, {\"row\": 0, \"column\": 5, \"value\": 0.0, \"row_token\": \"000 [SOS]\", \"col_token\": \"005 estranho\"}, {\"row\": 0, \"column\": 6, \"value\": 0.0, \"row_token\": \"000 [SOS]\", \"col_token\": \"006 hoje\"}, {\"row\": 0, \"column\": 7, \"value\": 0.0, \"row_token\": \"000 [SOS]\", \"col_token\": \"007 !\\\"\"}, {\"row\": 1, \"column\": 0, \"value\": 0.05870061740279198, \"row_token\": \"001 Entretanto\", \"col_token\": \"000 [SOS]\"}, {\"row\": 1, \"column\": 1, \"value\": 1.0524104833602905, \"row_token\": \"001 Entretanto\", \"col_token\": \"001 Entretanto\"}, {\"row\": 1, \"column\": 2, \"value\": 0.0, \"row_token\": \"001 Entretanto\", \"col_token\": \"002 ,\"}, {\"row\": 1, \"column\": 3, \"value\": 0.0, \"row_token\": \"001 Entretanto\", \"col_token\": \"003 tudo\"}, {\"row\": 1, \"column\": 4, \"value\": 0.0, \"row_token\": \"001 Entretanto\", \"col_token\": \"004 est\\u00e1\"}, {\"row\": 1, \"column\": 5, \"value\": 0.0, \"row_token\": \"001 Entretanto\", \"col_token\": \"005 estranho\"}, {\"row\": 1, \"column\": 6, \"value\": 0.0, \"row_token\": \"001 Entretanto\", \"col_token\": \"006 hoje\"}, {\"row\": 1, \"column\": 7, \"value\": 0.0, \"row_token\": \"001 Entretanto\", \"col_token\": \"007 !\\\"\"}, {\"row\": 2, \"column\": 0, \"value\": 0.036222659051418304, \"row_token\": \"002 ,\", \"col_token\": \"000 [SOS]\"}, {\"row\": 2, \"column\": 1, \"value\": 0.7831728458404541, \"row_token\": \"002 ,\", \"col_token\": \"001 Entretanto\"}, {\"row\": 2, \"column\": 2, \"value\": 0.29171571135520935, \"row_token\": \"002 ,\", \"col_token\": \"002 ,\"}, {\"row\": 2, \"column\": 3, \"value\": 0.0, \"row_token\": \"002 ,\", \"col_token\": \"003 tudo\"}, {\"row\": 2, \"column\": 4, \"value\": 0.0, \"row_token\": \"002 ,\", \"col_token\": \"004 est\\u00e1\"}, {\"row\": 2, \"column\": 5, \"value\": 0.0, \"row_token\": \"002 ,\", \"col_token\": \"005 estranho\"}, {\"row\": 2, \"column\": 6, \"value\": 0.0, \"row_token\": \"002 ,\", \"col_token\": \"006 hoje\"}, {\"row\": 2, \"column\": 7, \"value\": 0.0, \"row_token\": \"002 ,\", \"col_token\": \"007 !\\\"\"}, {\"row\": 3, \"column\": 0, \"value\": 0.04792243242263794, \"row_token\": \"003 tudo\", \"col_token\": \"000 [SOS]\"}, {\"row\": 3, \"column\": 1, \"value\": 0.7096261978149414, \"row_token\": \"003 tudo\", \"col_token\": \"001 Entretanto\"}, {\"row\": 3, \"column\": 2, \"value\": 0.13196353614330292, \"row_token\": \"003 tudo\", \"col_token\": \"002 ,\"}, {\"row\": 3, \"column\": 3, \"value\": 0.22159895300865173, \"row_token\": \"003 tudo\", \"col_token\": \"003 tudo\"}, {\"row\": 3, \"column\": 4, \"value\": 0.0, \"row_token\": \"003 tudo\", \"col_token\": \"004 est\\u00e1\"}, {\"row\": 3, \"column\": 5, \"value\": 0.0, \"row_token\": \"003 tudo\", \"col_token\": \"005 estranho\"}, {\"row\": 3, \"column\": 6, \"value\": 0.0, \"row_token\": \"003 tudo\", \"col_token\": \"006 hoje\"}, {\"row\": 3, \"column\": 7, \"value\": 0.0, \"row_token\": \"003 tudo\", \"col_token\": \"007 !\\\"\"}, {\"row\": 4, \"column\": 0, \"value\": 0.6024389266967773, \"row_token\": \"004 est\\u00e1\", \"col_token\": \"000 [SOS]\"}, {\"row\": 4, \"column\": 1, \"value\": 0.0855904296040535, \"row_token\": \"004 est\\u00e1\", \"col_token\": \"001 Entretanto\"}, {\"row\": 4, \"column\": 2, \"value\": 0.37703201174736023, \"row_token\": \"004 est\\u00e1\", \"col_token\": \"002 ,\"}, {\"row\": 4, \"column\": 3, \"value\": 0.021412517875432968, \"row_token\": \"004 est\\u00e1\", \"col_token\": \"003 tudo\"}, {\"row\": 4, \"column\": 4, \"value\": 0.024637214839458466, \"row_token\": \"004 est\\u00e1\", \"col_token\": \"004 est\\u00e1\"}, {\"row\": 4, \"column\": 5, \"value\": 0.0, \"row_token\": \"004 est\\u00e1\", \"col_token\": \"005 estranho\"}, {\"row\": 4, \"column\": 6, \"value\": 0.0, \"row_token\": \"004 est\\u00e1\", \"col_token\": \"006 hoje\"}, {\"row\": 4, \"column\": 7, \"value\": 0.0, \"row_token\": \"004 est\\u00e1\", \"col_token\": \"007 !\\\"\"}, {\"row\": 5, \"column\": 0, \"value\": 0.5199401378631592, \"row_token\": \"005 estranho\", \"col_token\": \"000 [SOS]\"}, {\"row\": 5, \"column\": 1, \"value\": 0.07202339917421341, \"row_token\": \"005 estranho\", \"col_token\": \"001 Entretanto\"}, {\"row\": 5, \"column\": 2, \"value\": 0.16639848053455353, \"row_token\": \"005 estranho\", \"col_token\": \"002 ,\"}, {\"row\": 5, \"column\": 3, \"value\": 0.13078197836875916, \"row_token\": \"005 estranho\", \"col_token\": \"003 tudo\"}, {\"row\": 5, \"column\": 4, \"value\": 0.15767289698123932, \"row_token\": \"005 estranho\", \"col_token\": \"004 est\\u00e1\"}, {\"row\": 5, \"column\": 5, \"value\": 0.06429432332515717, \"row_token\": \"005 estranho\", \"col_token\": \"005 estranho\"}, {\"row\": 5, \"column\": 6, \"value\": 0.0, \"row_token\": \"005 estranho\", \"col_token\": \"006 hoje\"}, {\"row\": 5, \"column\": 7, \"value\": 0.0, \"row_token\": \"005 estranho\", \"col_token\": \"007 !\\\"\"}, {\"row\": 6, \"column\": 0, \"value\": 0.39846837520599365, \"row_token\": \"006 hoje\", \"col_token\": \"000 [SOS]\"}, {\"row\": 6, \"column\": 1, \"value\": 0.13806305825710297, \"row_token\": \"006 hoje\", \"col_token\": \"001 Entretanto\"}, {\"row\": 6, \"column\": 2, \"value\": 0.3129337728023529, \"row_token\": \"006 hoje\", \"col_token\": \"002 ,\"}, {\"row\": 6, \"column\": 3, \"value\": 0.1265004277229309, \"row_token\": \"006 hoje\", \"col_token\": \"003 tudo\"}, {\"row\": 6, \"column\": 4, \"value\": 0.06000877544283867, \"row_token\": \"006 hoje\", \"col_token\": \"004 est\\u00e1\"}, {\"row\": 6, \"column\": 5, \"value\": 0.05374497175216675, \"row_token\": \"006 hoje\", \"col_token\": \"005 estranho\"}, {\"row\": 6, \"column\": 6, \"value\": 0.021391723304986954, \"row_token\": \"006 hoje\", \"col_token\": \"006 hoje\"}, {\"row\": 6, \"column\": 7, \"value\": 0.0, \"row_token\": \"006 hoje\", \"col_token\": \"007 !\\\"\"}, {\"row\": 7, \"column\": 0, \"value\": 0.7846224904060364, \"row_token\": \"007 !\\\"\", \"col_token\": \"000 [SOS]\"}, {\"row\": 7, \"column\": 1, \"value\": 0.055071622133255005, \"row_token\": \"007 !\\\"\", \"col_token\": \"001 Entretanto\"}, {\"row\": 7, \"column\": 2, \"value\": 0.034547530114650726, \"row_token\": \"007 !\\\"\", \"col_token\": \"002 ,\"}, {\"row\": 7, \"column\": 3, \"value\": 0.10443312674760818, \"row_token\": \"007 !\\\"\", \"col_token\": \"003 tudo\"}, {\"row\": 7, \"column\": 4, \"value\": 0.023873722180724144, \"row_token\": \"007 !\\\"\", \"col_token\": \"004 est\\u00e1\"}, {\"row\": 7, \"column\": 5, \"value\": 0.006763467565178871, \"row_token\": \"007 !\\\"\", \"col_token\": \"005 estranho\"}, {\"row\": 7, \"column\": 6, \"value\": 0.02870328538119793, \"row_token\": \"007 !\\\"\", \"col_token\": \"006 hoje\"}, {\"row\": 7, \"column\": 7, \"value\": 0.07309597730636597, \"row_token\": \"007 !\\\"\", \"col_token\": \"007 !\\\"\"}]}}, {\"mode\": \"vega-lite\"});\n",
              "</script>"
            ],
            "text/plain": [
              "alt.VConcatChart(...)"
            ]
          },
          "metadata": {},
          "execution_count": 87
        }
      ]
    },
    {
      "cell_type": "code",
      "source": [],
      "metadata": {
        "id": "bnFK5L4YZ41w"
      },
      "execution_count": null,
      "outputs": []
    }
  ]
}